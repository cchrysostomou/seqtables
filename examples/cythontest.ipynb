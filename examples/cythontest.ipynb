{
 "cells": [
  {
   "cell_type": "code",
   "execution_count": 1,
   "metadata": {},
   "outputs": [],
   "source": [
    "%load_ext autoreload\n",
    "%autoreload 2"
   ]
  },
  {
   "cell_type": "code",
   "execution_count": 5,
   "metadata": {},
   "outputs": [],
   "source": [
    "import pandas as pd\n",
    "import sys\n",
    "sys.path.insert(0, '../../')\n",
    "from seqtables import seqtables\n",
    "from seqtables.utils.insilica_sequences import generate_sequence\n",
    "from seqtables.io import create_scratch_data"
   ]
  },
  {
   "cell_type": "code",
   "execution_count": 6,
   "metadata": {},
   "outputs": [],
   "source": [
    "import xarray as xr\n",
    "import numpy as np"
   ]
  },
  {
   "cell_type": "code",
   "execution_count": 4,
   "metadata": {},
   "outputs": [
    {
     "data": {
      "text/plain": [
       "<xarray.Dataset>\n",
       "Dimensions:  (x: 4, y: 8)\n",
       "Coordinates:\n",
       "  * y        (y) int64 1 2 3 4 5 6 7 8\n",
       "  * x        (x) int64 0 1 2 3\n",
       "Data variables:\n",
       "    t1       (x, y) float64 nan nan 0.0 1.0 2.0 nan nan nan nan nan 3.0 4.0 ...\n",
       "    t2       (x, y) float64 nan nan nan nan nan nan nan nan nan nan nan nan ..."
      ]
     },
     "execution_count": 4,
     "metadata": {},
     "output_type": "execute_result"
    }
   ],
   "source": [
    "vals = np.array([0,1,2,3,4,5,6,7,8]).reshape(3,3)\n",
    "vals2 = np.array([0, 1, 2, 3, 4, 5,6,7,8,9,10,11,12,13,14,15]).reshape(2,8)\n",
    "x1 = xr.DataArray(vals, dims=('x', 'y'), coords={'x': [0, 1, 2], 'y': [3,4,5]})\n",
    "x2 = xr.DataArray(vals2, dims=('x', 'y'), coords={'x': [2,3], 'y': [1,2,3,4,5,6,7,8]})\n",
    "x1a = xr.Dataset({'t1': x1})\n",
    "x2a = xr.Dataset({'t2': x2})\n",
    "xr.merge([x1a, x2a])\n"
   ]
  },
  {
   "cell_type": "code",
   "execution_count": 7,
   "metadata": {},
   "outputs": [],
   "source": [
    "from seqtables.internals import constructor_ops"
   ]
  },
  {
   "cell_type": "code",
   "execution_count": 8,
   "metadata": {},
   "outputs": [],
   "source": [
    "from seqtables.internals import sam_to_arr\n",
    "import numpy as np"
   ]
  },
  {
   "cell_type": "code",
   "execution_count": 10,
   "metadata": {},
   "outputs": [],
   "source": [
    "from seqtables.utils import sam_tools\n",
    "sample_sam_file = './fake_algn_data.sam'\n",
    "df = sam_tools.read_sam(sample_sam_file, chunks=None)\n",
    "dft = pd.concat([d for d in df])\n",
    "df = sam_tools.read_sam(sample_sam_file, chunks=None)\n",
    "df3 = pd.concat([d for d in df])\n",
    "dft = dft.iloc[:5000]\n",
    "df3 = df3.iloc[-5000:]\n",
    "df3['pos'] += 100"
   ]
  },
  {
   "cell_type": "code",
   "execution_count": 13,
   "metadata": {},
   "outputs": [
    {
     "data": {
      "text/html": [
       "<div>\n",
       "<style scoped>\n",
       "    .dataframe tbody tr th:only-of-type {\n",
       "        vertical-align: middle;\n",
       "    }\n",
       "\n",
       "    .dataframe tbody tr th {\n",
       "        vertical-align: top;\n",
       "    }\n",
       "\n",
       "    .dataframe thead th {\n",
       "        text-align: right;\n",
       "    }\n",
       "</style>\n",
       "<table border=\"1\" class=\"dataframe\">\n",
       "  <thead>\n",
       "    <tr style=\"text-align: right;\">\n",
       "      <th></th>\n",
       "      <th>header</th>\n",
       "      <th>flag</th>\n",
       "      <th>rname</th>\n",
       "      <th>pos</th>\n",
       "      <th>cigar</th>\n",
       "      <th>seq</th>\n",
       "      <th>qual</th>\n",
       "      <th>XN</th>\n",
       "      <th>XM</th>\n",
       "      <th>MD</th>\n",
       "    </tr>\n",
       "  </thead>\n",
       "  <tbody>\n",
       "    <tr>\n",
       "      <th>5000</th>\n",
       "      <td>insilica_seq_5001</td>\n",
       "      <td>0</td>\n",
       "      <td>wtref</td>\n",
       "      <td>101</td>\n",
       "      <td>297M</td>\n",
       "      <td>CCGCGAAAGGCCAAAAAAGCTCTACTTTTTGGCAACGTGCTTGCTC...</td>\n",
       "      <td>DDDIDID?DDIDDDDDDD?D:DD:IDD?:IDDDDDDDI:DDDID??...</td>\n",
       "      <td>0</td>\n",
       "      <td>7</td>\n",
       "      <td>4C4T4G100A88A6T66T18</td>\n",
       "    </tr>\n",
       "    <tr>\n",
       "      <th>5001</th>\n",
       "      <td>insilica_seq_5002</td>\n",
       "      <td>0</td>\n",
       "      <td>wtref</td>\n",
       "      <td>101</td>\n",
       "      <td>141M1D108M1I36M1D11M</td>\n",
       "      <td>CCGCTAAAGACCAAGAAAGCTCTACTTTTTGGCAACGTGCTTGCTC...</td>\n",
       "      <td>DIDID?:I?DDIDDDDDII??DIDDDDDDD:DD?DDDD?IIDDDD?...</td>\n",
       "      <td>0</td>\n",
       "      <td>4</td>\n",
       "      <td>4C4T39T49G41^A144^T11</td>\n",
       "    </tr>\n",
       "    <tr>\n",
       "      <th>5002</th>\n",
       "      <td>insilica_seq_5003</td>\n",
       "      <td>0</td>\n",
       "      <td>wtref</td>\n",
       "      <td>101</td>\n",
       "      <td>170M1D127M</td>\n",
       "      <td>CCGCTAAAGCCCAGCAAAGCTCTACTTTTTGGCGACGTGCTTGCTC...</td>\n",
       "      <td>DD?DD:D??DDDDD?DDDIDDDD?IDDD?DDDDIIDDDDDDDDDI:...</td>\n",
       "      <td>0</td>\n",
       "      <td>10</td>\n",
       "      <td>4C4T3A0G18A70A21G43^A0C93G17G14</td>\n",
       "    </tr>\n",
       "    <tr>\n",
       "      <th>5003</th>\n",
       "      <td>insilica_seq_5004</td>\n",
       "      <td>0</td>\n",
       "      <td>wtref</td>\n",
       "      <td>101</td>\n",
       "      <td>73M1D54M1D13M1D82M1D74M</td>\n",
       "      <td>CCGCTAAAGGCCAAAAAAGCTCTACTTTTTGGCAACGTGCTTGCTC...</td>\n",
       "      <td>DID:IDDDDIDDDDDDIDI?I?DDIIDIID?D?ID?DD?D?D?DDD...</td>\n",
       "      <td>0</td>\n",
       "      <td>4</td>\n",
       "      <td>4C4T4G35C22^A54^C13^T82^A74</td>\n",
       "    </tr>\n",
       "    <tr>\n",
       "      <th>5004</th>\n",
       "      <td>insilica_seq_5005</td>\n",
       "      <td>0</td>\n",
       "      <td>wtref</td>\n",
       "      <td>102</td>\n",
       "      <td>101M1D44M1D145M1D6M</td>\n",
       "      <td>CCCTAAAGCCCAATAAAGCTCTACTTTTTGGCAACGTGCTTGCTCG...</td>\n",
       "      <td>IDDDIDID??D?D?DDD??DDDDD?DDDDDDDDI?DIDD?IDI?DD...</td>\n",
       "      <td>0</td>\n",
       "      <td>7</td>\n",
       "      <td>1G1C4T4G71G15^C21G12G9^C145^G6</td>\n",
       "    </tr>\n",
       "    <tr>\n",
       "      <th>5005</th>\n",
       "      <td>insilica_seq_5006</td>\n",
       "      <td>0</td>\n",
       "      <td>wtref</td>\n",
       "      <td>101</td>\n",
       "      <td>86M1D13M1I19M1D46M1D3M2I127M</td>\n",
       "      <td>CCGCCAAAGACCAACAAAGCTCTACTTTTTGGCAACGTGCTTGCTC...</td>\n",
       "      <td>DDDDDDDDDDIIIDIDDIDDIDIDDD?DDD:DD?D??DIDD:DDDD...</td>\n",
       "      <td>0</td>\n",
       "      <td>7</td>\n",
       "      <td>9T4G34T0C35^G32^T7G38^C50C9A69</td>\n",
       "    </tr>\n",
       "    <tr>\n",
       "      <th>5006</th>\n",
       "      <td>insilica_seq_5007</td>\n",
       "      <td>0</td>\n",
       "      <td>wtref</td>\n",
       "      <td>101</td>\n",
       "      <td>204M1D29M1D12M1D41M1D10M</td>\n",
       "      <td>CCGCAAAAGGCCCAAAAAGCTCTACTTTTTGGCAACGTGCTTGCTC...</td>\n",
       "      <td>?DDIIIIDI?IDDDDDI:?ID?DID?DID??DDIDDD?DIDD?IDD...</td>\n",
       "      <td>0</td>\n",
       "      <td>5</td>\n",
       "      <td>4C4T2A1G100A88^A29^A12^T41^A10</td>\n",
       "    </tr>\n",
       "    <tr>\n",
       "      <th>5007</th>\n",
       "      <td>insilica_seq_5008</td>\n",
       "      <td>0</td>\n",
       "      <td>wtref</td>\n",
       "      <td>101</td>\n",
       "      <td>133M1D26M1D138M</td>\n",
       "      <td>CCGCTAAAGTTCAAGAAAGCTCTACTTTTTGGCAACGTGCTTGCTC...</td>\n",
       "      <td>DDIID?DII?DID?DDIDDDDDDDIDIDI?DDDDD?D?DDDD?DDD...</td>\n",
       "      <td>0</td>\n",
       "      <td>3</td>\n",
       "      <td>4C5C122^T26^A106T31</td>\n",
       "    </tr>\n",
       "    <tr>\n",
       "      <th>5008</th>\n",
       "      <td>insilica_seq_5009</td>\n",
       "      <td>0</td>\n",
       "      <td>wtref</td>\n",
       "      <td>101</td>\n",
       "      <td>279M1D18M</td>\n",
       "      <td>CCGCCAAAGTCCAACAAAGCTCTACTTTTAGGCAACGTGCTTGCTC...</td>\n",
       "      <td>DIDDDDDD?DD?DI?D?DIIDDDI?DDDDD?DDDD?DDDD?DDDI:...</td>\n",
       "      <td>0</td>\n",
       "      <td>4</td>\n",
       "      <td>14G14T47T84G116^G18</td>\n",
       "    </tr>\n",
       "    <tr>\n",
       "      <th>5009</th>\n",
       "      <td>insilica_seq_5010</td>\n",
       "      <td>0</td>\n",
       "      <td>wtref</td>\n",
       "      <td>101</td>\n",
       "      <td>92M1D205M</td>\n",
       "      <td>CCGCGAAAGGCCAACAAAGCTCTACTTTTTGGCAACGTGCTTGCTC...</td>\n",
       "      <td>DD?IIDDDDDDIDD?DDDDDDDIDDD?D?DDI?D?DIDID?DDDDD...</td>\n",
       "      <td>0</td>\n",
       "      <td>4</td>\n",
       "      <td>4C4T4G77^T84C120</td>\n",
       "    </tr>\n",
       "    <tr>\n",
       "      <th>5010</th>\n",
       "      <td>insilica_seq_5011</td>\n",
       "      <td>0</td>\n",
       "      <td>wtref</td>\n",
       "      <td>101</td>\n",
       "      <td>41M1I15M1I8M1D14M1D39M1D141M1D37M</td>\n",
       "      <td>CCGCTAAAGCCCAACAAAGCGCTACTTTTTGGCAACGTGCTGTGCT...</td>\n",
       "      <td>IDDDDDDDDDDDDDDDDDD?DIDIDD:DDDII?DIIIIDDD7DDID...</td>\n",
       "      <td>0</td>\n",
       "      <td>5</td>\n",
       "      <td>4C4T4G5T43^C14^T39^T39C101^T37</td>\n",
       "    </tr>\n",
       "    <tr>\n",
       "      <th>5011</th>\n",
       "      <td>insilica_seq_5012</td>\n",
       "      <td>0</td>\n",
       "      <td>wtref</td>\n",
       "      <td>102</td>\n",
       "      <td>232M1D65M</td>\n",
       "      <td>CCGCAAAGGCCCACAAAGCTGTACTTTTTGGCAACGTGCTTGCTCG...</td>\n",
       "      <td>D?:DDIDD?IDDDDDDDDDIDDIDD?:DDDDDD?IDDDD?DDDDDI...</td>\n",
       "      <td>0</td>\n",
       "      <td>8</td>\n",
       "      <td>1G0C5T2A1G6C50T160^T55A9</td>\n",
       "    </tr>\n",
       "    <tr>\n",
       "      <th>5012</th>\n",
       "      <td>insilica_seq_5013</td>\n",
       "      <td>0</td>\n",
       "      <td>wtref</td>\n",
       "      <td>102</td>\n",
       "      <td>179M1D41M1D64M1D7M1D4M</td>\n",
       "      <td>CGCTAAAGTTCAACAAAGCTCTACTTTTTGGCAACGTGCTTGCTCG...</td>\n",
       "      <td>DDDIIDID?IDDID?DDDDIDDD??DDIDIDIDDIIDD?IDDIIID...</td>\n",
       "      <td>0</td>\n",
       "      <td>5</td>\n",
       "      <td>3C5C3G122G42^G41^T64^G7^T1T2</td>\n",
       "    </tr>\n",
       "    <tr>\n",
       "      <th>5013</th>\n",
       "      <td>insilica_seq_5014</td>\n",
       "      <td>0</td>\n",
       "      <td>wtref</td>\n",
       "      <td>101</td>\n",
       "      <td>224M1D2M1D71M</td>\n",
       "      <td>CCGCAAAAGGCCAGGAAAGCTTTACTTCTTGGCAACGTGCTTGCTC...</td>\n",
       "      <td>?IDIDDDDDDDDDDDDD?D?DIII?DIDDDDDDIDDDDDDID??ID...</td>\n",
       "      <td>0</td>\n",
       "      <td>6</td>\n",
       "      <td>4C4T3A7C5T24T171^C2^A71</td>\n",
       "    </tr>\n",
       "    <tr>\n",
       "      <th>5014</th>\n",
       "      <td>insilica_seq_5015</td>\n",
       "      <td>0</td>\n",
       "      <td>wtref</td>\n",
       "      <td>101</td>\n",
       "      <td>54M1D148M1I94M</td>\n",
       "      <td>CCGCGAAAGTCCAAGAAAGCTCTACTTTTTGGCAACGTGCTTGCTC...</td>\n",
       "      <td>DDIDD?DDDDDDDDIDDDIDDD?DID??:DD?IDIDDDID?DDDID...</td>\n",
       "      <td>0</td>\n",
       "      <td>3</td>\n",
       "      <td>4C49^C81C28T131</td>\n",
       "    </tr>\n",
       "    <tr>\n",
       "      <th>5015</th>\n",
       "      <td>insilica_seq_5016</td>\n",
       "      <td>0</td>\n",
       "      <td>wtref</td>\n",
       "      <td>101</td>\n",
       "      <td>128M1D32M1D137M</td>\n",
       "      <td>CCGCCAAAGCCCAAAAAAGCTCTACTTTTTGGCAACGTGCTTGCTC...</td>\n",
       "      <td>IDID?IDIDDDDDDDD:IIDD?DIDDDDDDD?IDIDDIIIDDIDDD...</td>\n",
       "      <td>0</td>\n",
       "      <td>4</td>\n",
       "      <td>9T4G72G38G1^C32^G137</td>\n",
       "    </tr>\n",
       "    <tr>\n",
       "      <th>5016</th>\n",
       "      <td>insilica_seq_5017</td>\n",
       "      <td>0</td>\n",
       "      <td>wtref</td>\n",
       "      <td>101</td>\n",
       "      <td>224M1D29M1D12M1D32M</td>\n",
       "      <td>CCGCAAAAGCCCAACAAAGCTCTACTTTTTGGCAACGTGCTTGCTC...</td>\n",
       "      <td>DDIIID?IDDDD?IDDDDDD:?IDDDD??DDDDID?IIDD?I???I...</td>\n",
       "      <td>0</td>\n",
       "      <td>5</td>\n",
       "      <td>4C4T4G147G61^C7C21^T12^T32</td>\n",
       "    </tr>\n",
       "    <tr>\n",
       "      <th>5017</th>\n",
       "      <td>insilica_seq_5018</td>\n",
       "      <td>0</td>\n",
       "      <td>wtref</td>\n",
       "      <td>101</td>\n",
       "      <td>9M1D63M1D12M1D213M</td>\n",
       "      <td>CCGCTAAGGCCAATAAAGCTCTACTTTTTGGCAACGTGCTTGCTCG...</td>\n",
       "      <td>DD?IDD??I:ID??ID?IDDDDDDDDD:DD?DDD?DDIIDDDDDII...</td>\n",
       "      <td>0</td>\n",
       "      <td>8</td>\n",
       "      <td>4C2A1^T4G36T21^A12^G28A119A5C19T38</td>\n",
       "    </tr>\n",
       "    <tr>\n",
       "      <th>5018</th>\n",
       "      <td>insilica_seq_5019</td>\n",
       "      <td>0</td>\n",
       "      <td>wtref</td>\n",
       "      <td>101</td>\n",
       "      <td>226M1D71M</td>\n",
       "      <td>CCGCGAAAGTCCAAAAAAGCTCAACTTTTTGGCAACGTGCTTGCTC...</td>\n",
       "      <td>D?D?DDDIDDDDDDDDD?DI:DDDDDDI?DIDDDDDIDD??DDDII...</td>\n",
       "      <td>0</td>\n",
       "      <td>3</td>\n",
       "      <td>4C9G7T203^C71</td>\n",
       "    </tr>\n",
       "    <tr>\n",
       "      <th>5019</th>\n",
       "      <td>insilica_seq_5020</td>\n",
       "      <td>0</td>\n",
       "      <td>wtref</td>\n",
       "      <td>101</td>\n",
       "      <td>5M1D165M1D43M1I83M</td>\n",
       "      <td>CCGCTAAGACCAATAAAGCTCTACTTTTTGGCAACGTGCTTGCTCG...</td>\n",
       "      <td>DDD5DDDDDI?DI:DDDDDDD?DDDD:D?DDDDDI?DDD?IDDDDD...</td>\n",
       "      <td>0</td>\n",
       "      <td>6</td>\n",
       "      <td>4C0^A3T4G117A0T37^C60C65</td>\n",
       "    </tr>\n",
       "    <tr>\n",
       "      <th>5020</th>\n",
       "      <td>insilica_seq_5021</td>\n",
       "      <td>0</td>\n",
       "      <td>wtref</td>\n",
       "      <td>101</td>\n",
       "      <td>73M1I223M</td>\n",
       "      <td>CCGCAAAAGGCCAAGAAAGCTCTACTTTTTGGCAACGTGCTTGCTC...</td>\n",
       "      <td>DDDDDDDDI?D??DDIIDD?I?DDDIDDD?DIIDD:DDDD?DDDII...</td>\n",
       "      <td>0</td>\n",
       "      <td>2</td>\n",
       "      <td>4C4T286</td>\n",
       "    </tr>\n",
       "    <tr>\n",
       "      <th>5021</th>\n",
       "      <td>insilica_seq_5022</td>\n",
       "      <td>0</td>\n",
       "      <td>wtref</td>\n",
       "      <td>101</td>\n",
       "      <td>32M1D138M1D59M1D68M</td>\n",
       "      <td>CCGCCCAAGTCCAAAAAAGCTCTACTTTTTGGAACGTGCTTGCTCG...</td>\n",
       "      <td>DDDDDDDDIDDDDDDDDDDI?DD?DDDDDDDD?DDIDDDDDDD?DD...</td>\n",
       "      <td>0</td>\n",
       "      <td>5</td>\n",
       "      <td>5A8G17^C68T6C62^C10C48^C68</td>\n",
       "    </tr>\n",
       "    <tr>\n",
       "      <th>5022</th>\n",
       "      <td>insilica_seq_5023</td>\n",
       "      <td>0</td>\n",
       "      <td>wtref</td>\n",
       "      <td>101</td>\n",
       "      <td>8M1D263M1D26M</td>\n",
       "      <td>CCGCTAAACGCAATAAAGCTCTACTTTTTGGCAACGTGCTTGCTCG...</td>\n",
       "      <td>DI?DDDIID?DDDD?D?DDI:DDDDID??DD??DIDDDIIDDDD??...</td>\n",
       "      <td>0</td>\n",
       "      <td>8</td>\n",
       "      <td>4C3^G0T0C3G93C20C63C69C8^C26</td>\n",
       "    </tr>\n",
       "    <tr>\n",
       "      <th>5023</th>\n",
       "      <td>insilica_seq_5024</td>\n",
       "      <td>0</td>\n",
       "      <td>wtref</td>\n",
       "      <td>101</td>\n",
       "      <td>93M1D16M1D65M1I58M1D32M1D32M</td>\n",
       "      <td>CCGCGAAAGGCCAAAAAAGCTCTACTTTTTGGCAACGTGCTTGCTC...</td>\n",
       "      <td>DI?DDDDD:DIDIDDDDDDDD???DDDDDDDDDDDDDDDIIDIDID...</td>\n",
       "      <td>0</td>\n",
       "      <td>3</td>\n",
       "      <td>4C4T4G78^C16^T123^A32^T32</td>\n",
       "    </tr>\n",
       "    <tr>\n",
       "      <th>5024</th>\n",
       "      <td>insilica_seq_5025</td>\n",
       "      <td>0</td>\n",
       "      <td>wtref</td>\n",
       "      <td>101</td>\n",
       "      <td>35M1D59M1D193M1I9M</td>\n",
       "      <td>CCGCAAAAGGCCAATAAAGCTCTACTTTTTGGCAAGTGCTTGCTCG...</td>\n",
       "      <td>DDD?DDDD?IIIDDDDDDIDD??DDDDDDIDDDDDIDDIDIID?DI...</td>\n",
       "      <td>0</td>\n",
       "      <td>4</td>\n",
       "      <td>4C4T4G20^C59^T41G160</td>\n",
       "    </tr>\n",
       "    <tr>\n",
       "      <th>5025</th>\n",
       "      <td>insilica_seq_5026</td>\n",
       "      <td>0</td>\n",
       "      <td>wtref</td>\n",
       "      <td>101</td>\n",
       "      <td>201M2D47M1D10M1D38M</td>\n",
       "      <td>CCGCGAAAGCCCAACAAAGCTCTACTTTTTGGCAACGTGCTTGCTC...</td>\n",
       "      <td>DDD?D?DID?D:D?DDDDD:DDD?DDDIDDD?DIID?DDI?DDDD?...</td>\n",
       "      <td>0</td>\n",
       "      <td>4</td>\n",
       "      <td>4C4T4G186^TC47^C10^T4C33</td>\n",
       "    </tr>\n",
       "    <tr>\n",
       "      <th>5026</th>\n",
       "      <td>insilica_seq_5027</td>\n",
       "      <td>0</td>\n",
       "      <td>wtref</td>\n",
       "      <td>101</td>\n",
       "      <td>186M1D88M1D7M1D16M</td>\n",
       "      <td>CCGCTAAAGCCCAACAAAGCTCTACTTTTTGGCAACGTGCTTGCTC...</td>\n",
       "      <td>DD?D?D:?IDDD?DDDDDDDDD:D?I?DDD??DIDIDD??D?D?DD...</td>\n",
       "      <td>0</td>\n",
       "      <td>4</td>\n",
       "      <td>4C4T4G38T132^A88^C7^G16</td>\n",
       "    </tr>\n",
       "    <tr>\n",
       "      <th>5027</th>\n",
       "      <td>insilica_seq_5028</td>\n",
       "      <td>0</td>\n",
       "      <td>wtref</td>\n",
       "      <td>101</td>\n",
       "      <td>51M1D37M1D209M</td>\n",
       "      <td>CCGCGAAAGCCCAAAAAAGCTCTACTTTTTGGCAACGTGCTTGCTC...</td>\n",
       "      <td>DDDDDD:DDDDDDD?DDDD??DI??ID?DDDDDDDDDDIDIDDIDD...</td>\n",
       "      <td>0</td>\n",
       "      <td>8</td>\n",
       "      <td>4C4T4G36^T31G5^C60A2G38A80C25</td>\n",
       "    </tr>\n",
       "    <tr>\n",
       "      <th>5028</th>\n",
       "      <td>insilica_seq_5029</td>\n",
       "      <td>0</td>\n",
       "      <td>wtref</td>\n",
       "      <td>101</td>\n",
       "      <td>94M2D203M</td>\n",
       "      <td>CCGCGAAAGCCCGAGAAAGCTCTACTTTTTGGCAACGTGCTTGCTC...</td>\n",
       "      <td>IDID?D?IDDDD?DD?DDDD:DDDDD?DD?DIDDDD?DD?I?ID?D...</td>\n",
       "      <td>0</td>\n",
       "      <td>6</td>\n",
       "      <td>4C4T2A81^CT0G105C56T39</td>\n",
       "    </tr>\n",
       "    <tr>\n",
       "      <th>5029</th>\n",
       "      <td>insilica_seq_5030</td>\n",
       "      <td>0</td>\n",
       "      <td>wtref</td>\n",
       "      <td>101</td>\n",
       "      <td>19M1I4M1D72M1D122M2D79M</td>\n",
       "      <td>CCGCAAATGGCCAAGAAAGCCTCTCTTTTTGGCAACGTGCTTGCTC...</td>\n",
       "      <td>D??DD?DID??DDDDDDDD9DD:DDD?DDDDIDDDDDD:?DDDDDI...</td>\n",
       "      <td>0</td>\n",
       "      <td>6</td>\n",
       "      <td>4C2A1T13^A23C21C26^G31C90^AC79</td>\n",
       "    </tr>\n",
       "    <tr>\n",
       "      <th>...</th>\n",
       "      <td>...</td>\n",
       "      <td>...</td>\n",
       "      <td>...</td>\n",
       "      <td>...</td>\n",
       "      <td>...</td>\n",
       "      <td>...</td>\n",
       "      <td>...</td>\n",
       "      <td>...</td>\n",
       "      <td>...</td>\n",
       "      <td>...</td>\n",
       "    </tr>\n",
       "    <tr>\n",
       "      <th>9970</th>\n",
       "      <td>insilica_seq_9971</td>\n",
       "      <td>0</td>\n",
       "      <td>wtref</td>\n",
       "      <td>101</td>\n",
       "      <td>25M1D89M1D44M1D10M1D128M</td>\n",
       "      <td>CCGCAAAAGGCCAAAAAAGCTCTACTTTCGGCAACGTGCTTGCTCG...</td>\n",
       "      <td>DDIDDDDDIDDDDIDIDD?DDDDDDDD:I?DDDDDIIDDDI:DD?D...</td>\n",
       "      <td>0</td>\n",
       "      <td>9</td>\n",
       "      <td>4C4T4G10^T3T85^A39A1G2^A10^C23A7G21A74</td>\n",
       "    </tr>\n",
       "    <tr>\n",
       "      <th>9971</th>\n",
       "      <td>insilica_seq_9972</td>\n",
       "      <td>0</td>\n",
       "      <td>wtref</td>\n",
       "      <td>101</td>\n",
       "      <td>72M1D225M</td>\n",
       "      <td>CCGCAAAAGACCAAGAAAGCTCTACTTTTTGGCAACGTGCTTGCTC...</td>\n",
       "      <td>DDD?II?D?ID?DDDDDIDDDDDDDDID?DIIDDDII?DDDDIDD?...</td>\n",
       "      <td>0</td>\n",
       "      <td>3</td>\n",
       "      <td>4C4T62^T112C112</td>\n",
       "    </tr>\n",
       "    <tr>\n",
       "      <th>9972</th>\n",
       "      <td>insilica_seq_9973</td>\n",
       "      <td>0</td>\n",
       "      <td>wtref</td>\n",
       "      <td>101</td>\n",
       "      <td>49M1D5M1D66M1D22M1D8M1D12M1D18M1D19M1I11M1D42M...</td>\n",
       "      <td>CCGCAAAAGCCCAAGAAAGCTCTACTTTTTGGCAACGTGCTTGCTC...</td>\n",
       "      <td>D?DDDDDDDDDDDDDIDDDIDDD:DDDDDDDDI5DI?DDIIID?DD...</td>\n",
       "      <td>0</td>\n",
       "      <td>4</td>\n",
       "      <td>4C4T39^T5^G66^G22^A8^T12^T18^A30^C40T1^C37G0</td>\n",
       "    </tr>\n",
       "    <tr>\n",
       "      <th>9973</th>\n",
       "      <td>insilica_seq_9974</td>\n",
       "      <td>0</td>\n",
       "      <td>wtref</td>\n",
       "      <td>101</td>\n",
       "      <td>160M1D100M1D37M</td>\n",
       "      <td>CCGCTAAAGGCCAAGAAAGCTCTACTTTTTGGCAACGTGCGTGCTC...</td>\n",
       "      <td>DD?IDD?DDDIIDDDDDD?DDDDDIDDDD?IDDIDDIDDDDDID?D...</td>\n",
       "      <td>0</td>\n",
       "      <td>3</td>\n",
       "      <td>4C4T30T119^A100^T37</td>\n",
       "    </tr>\n",
       "    <tr>\n",
       "      <th>9974</th>\n",
       "      <td>insilica_seq_9975</td>\n",
       "      <td>0</td>\n",
       "      <td>wtref</td>\n",
       "      <td>101</td>\n",
       "      <td>22M1D2M1D94M1I127M1D51M</td>\n",
       "      <td>CCGCGAAAGCCCAATAAAGCTCACTTTTGGCAACGTGCTTGCTCGC...</td>\n",
       "      <td>DIDII?D?DDD?DDID?DD:D?DDDIID?D?DDDDIDDDDDDDDDD...</td>\n",
       "      <td>0</td>\n",
       "      <td>5</td>\n",
       "      <td>4C4T4G7^T2^T33T187^T26T24</td>\n",
       "    </tr>\n",
       "    <tr>\n",
       "      <th>9975</th>\n",
       "      <td>insilica_seq_9976</td>\n",
       "      <td>0</td>\n",
       "      <td>wtref</td>\n",
       "      <td>101</td>\n",
       "      <td>42M1D4M1D3M1D111M1D136M</td>\n",
       "      <td>CCGCAAAAGGCCAAGAAAGCTCTACTTTTTGGCAACGTGCTTCTCG...</td>\n",
       "      <td>DIIIIDDDDDDDD?IDDDDDDDDDDDDDDIDDD?DDDDDD:DDIDD...</td>\n",
       "      <td>0</td>\n",
       "      <td>5</td>\n",
       "      <td>4C4T32^G4^C3^T0T56A53^T15C120</td>\n",
       "    </tr>\n",
       "    <tr>\n",
       "      <th>9976</th>\n",
       "      <td>insilica_seq_9977</td>\n",
       "      <td>0</td>\n",
       "      <td>wtref</td>\n",
       "      <td>101</td>\n",
       "      <td>166M1D57M1I46M1I26M</td>\n",
       "      <td>CCGCAAAAGTCCAAAAAAGCTCTACTTTTTGGCAACGTGCTTGCTC...</td>\n",
       "      <td>D?D?DDDDDDDDDD?DDDDDD??DIIDD?DDDDDDDDIII?DDDDD...</td>\n",
       "      <td>0</td>\n",
       "      <td>3</td>\n",
       "      <td>4C9G151^C21A107</td>\n",
       "    </tr>\n",
       "    <tr>\n",
       "      <th>9977</th>\n",
       "      <td>insilica_seq_9978</td>\n",
       "      <td>0</td>\n",
       "      <td>wtref</td>\n",
       "      <td>101</td>\n",
       "      <td>133M1D137M2D27M</td>\n",
       "      <td>CCGCTAAAGTCCAAGAAAGCTCTACTTTTTGGCAACGTGCTTGCTC...</td>\n",
       "      <td>DDIDDDIDDDDDDD?DDDDDDI?I?DDID??DIIDIDD:?IDD?DI...</td>\n",
       "      <td>0</td>\n",
       "      <td>2</td>\n",
       "      <td>4C89C38^T137^TC27</td>\n",
       "    </tr>\n",
       "    <tr>\n",
       "      <th>9978</th>\n",
       "      <td>insilica_seq_9979</td>\n",
       "      <td>0</td>\n",
       "      <td>wtref</td>\n",
       "      <td>101</td>\n",
       "      <td>5M1I231M1D60M</td>\n",
       "      <td>CCTGCAAAAGTCCAACAAAGCTCTACTTTTTGGCAACGTGCTTGCT...</td>\n",
       "      <td>I?5?D??DD?DDIDDDDI?:D?DDDDDIDD?I?IIIDDDDDDIIII...</td>\n",
       "      <td>0</td>\n",
       "      <td>6</td>\n",
       "      <td>2G0C10G33C49G77A59^C60</td>\n",
       "    </tr>\n",
       "    <tr>\n",
       "      <th>9979</th>\n",
       "      <td>insilica_seq_9980</td>\n",
       "      <td>0</td>\n",
       "      <td>wtref</td>\n",
       "      <td>101</td>\n",
       "      <td>71M1D73M1D60M1D93M</td>\n",
       "      <td>CCGCAAAAGGCCAAGAAAGCTCTACTTTTTGGCAACGTGCTTGCTC...</td>\n",
       "      <td>DD?DDIIDDD:DDID?DDDDD?DDDD:DDDDIDDDD?DDD:D?DDD...</td>\n",
       "      <td>0</td>\n",
       "      <td>4</td>\n",
       "      <td>4C4T61^A0T72^A60^C0A92</td>\n",
       "    </tr>\n",
       "    <tr>\n",
       "      <th>9980</th>\n",
       "      <td>insilica_seq_9981</td>\n",
       "      <td>0</td>\n",
       "      <td>wtref</td>\n",
       "      <td>101</td>\n",
       "      <td>177M1D98M1I21M</td>\n",
       "      <td>CCGCTAAAGGCCAAGAAAGCTCTACTTTTTGGCAACGTGCTTGCTC...</td>\n",
       "      <td>DDIDDDDDIIDIDDDDID?DDDDDD?ID:DDDIDDDIDDDI?D?DD...</td>\n",
       "      <td>0</td>\n",
       "      <td>4</td>\n",
       "      <td>4C4T167^C26A23A68</td>\n",
       "    </tr>\n",
       "    <tr>\n",
       "      <th>9981</th>\n",
       "      <td>insilica_seq_9982</td>\n",
       "      <td>0</td>\n",
       "      <td>wtref</td>\n",
       "      <td>101</td>\n",
       "      <td>25M1D109M1D57M1D106M</td>\n",
       "      <td>CCGCCAAAGACCAACAAAGCTCTACTTTTGGCAACGTGCTTGCTCG...</td>\n",
       "      <td>DDDDDDDDID?IDDDDI?DDDDIIDDD?DI?DDDDDID?DI:DDDD...</td>\n",
       "      <td>0</td>\n",
       "      <td>2</td>\n",
       "      <td>9T4G10^T109^C57^C106</td>\n",
       "    </tr>\n",
       "    <tr>\n",
       "      <th>9982</th>\n",
       "      <td>insilica_seq_9983</td>\n",
       "      <td>0</td>\n",
       "      <td>wtref</td>\n",
       "      <td>101</td>\n",
       "      <td>36M1D261M</td>\n",
       "      <td>CCGCTAAAGCCCAAAAAAGCTCTACTTTTTGGCAACTGCTTGCTCG...</td>\n",
       "      <td>DID??DDDDDDI?DDDDD?IDDD?DDDD?IDDD?DD?DDDDDDDDI...</td>\n",
       "      <td>0</td>\n",
       "      <td>3</td>\n",
       "      <td>4C4T4G21^G261</td>\n",
       "    </tr>\n",
       "    <tr>\n",
       "      <th>9983</th>\n",
       "      <td>insilica_seq_9984</td>\n",
       "      <td>0</td>\n",
       "      <td>wtref</td>\n",
       "      <td>101</td>\n",
       "      <td>50M1D28M1D91M1D123M1I4M</td>\n",
       "      <td>CCGCCAAAGTCCAATAAAGCTCTACTTTTTGGCAACGTGCTTGCTC...</td>\n",
       "      <td>DDDDIDDI:DDIDDI?DIDDDDDDDDDDIDIDDDDDDDD?:DDD?D...</td>\n",
       "      <td>0</td>\n",
       "      <td>4</td>\n",
       "      <td>14G35^C28^T29A61^C70A52T3</td>\n",
       "    </tr>\n",
       "    <tr>\n",
       "      <th>9984</th>\n",
       "      <td>insilica_seq_9985</td>\n",
       "      <td>0</td>\n",
       "      <td>wtref</td>\n",
       "      <td>101</td>\n",
       "      <td>130M1D106M1I60M</td>\n",
       "      <td>CCGCCAAAGCCCAAGAAAGCTCTACTTTTTGGCAACGTACTTGCTC...</td>\n",
       "      <td>DDIDDD?DDD?IDD?D?IDDD??IIDDIDDD?DDDDDID:DDIDDD...</td>\n",
       "      <td>0</td>\n",
       "      <td>3</td>\n",
       "      <td>9T28G91^A9G156</td>\n",
       "    </tr>\n",
       "    <tr>\n",
       "      <th>9985</th>\n",
       "      <td>insilica_seq_9986</td>\n",
       "      <td>0</td>\n",
       "      <td>wtref</td>\n",
       "      <td>101</td>\n",
       "      <td>123M1D107M1D67M</td>\n",
       "      <td>CCGCTAAAGGCCAAAAAAGCTCTACTTTTTGGCAAGGTGCTTGCTC...</td>\n",
       "      <td>IDDD?DD?DIDIDIDDI?DDDDIDDII?DDIDD?DDDDDDDDDD?D...</td>\n",
       "      <td>0</td>\n",
       "      <td>4</td>\n",
       "      <td>4C4T4G20C87^C107^C67</td>\n",
       "    </tr>\n",
       "    <tr>\n",
       "      <th>9986</th>\n",
       "      <td>insilica_seq_9987</td>\n",
       "      <td>0</td>\n",
       "      <td>wtref</td>\n",
       "      <td>101</td>\n",
       "      <td>237M1D60M</td>\n",
       "      <td>CCGCTAAAGCCCAATAAAGCTCTACTTTTTGGCAACGTGCTTGCTC...</td>\n",
       "      <td>IDD?DDDDDDI:D?DI:DDDDD?DDDDDDDDD?DDDDD?ID?DDDI...</td>\n",
       "      <td>0</td>\n",
       "      <td>6</td>\n",
       "      <td>4C4T4G178C15C27^G49G10</td>\n",
       "    </tr>\n",
       "    <tr>\n",
       "      <th>9987</th>\n",
       "      <td>insilica_seq_9988</td>\n",
       "      <td>0</td>\n",
       "      <td>wtref</td>\n",
       "      <td>101</td>\n",
       "      <td>123M1D174M</td>\n",
       "      <td>CCGCGAAAGCCCAAGAAAGCTCTACTTTTTGGCAACGTGCTTGCTC...</td>\n",
       "      <td>DD?DDDDD:DDDDDDDDDDDDDDD??DDDDDDDDDDIDDDDDD??D...</td>\n",
       "      <td>0</td>\n",
       "      <td>4</td>\n",
       "      <td>4C4T43T34G34^C174</td>\n",
       "    </tr>\n",
       "    <tr>\n",
       "      <th>9988</th>\n",
       "      <td>insilica_seq_9989</td>\n",
       "      <td>0</td>\n",
       "      <td>wtref</td>\n",
       "      <td>101</td>\n",
       "      <td>65M1D159M1D73M</td>\n",
       "      <td>CCGCAAAAGTCCAATAAAGCTCTACTTTTTGGCAACGTGCTTGCTC...</td>\n",
       "      <td>DDIIDDDDDD?DIDD?IDDDD:IDDDDDD?DIDDD?DIDDIIDDD?...</td>\n",
       "      <td>0</td>\n",
       "      <td>6</td>\n",
       "      <td>4C9G50^G68G45G13T30^A19A53</td>\n",
       "    </tr>\n",
       "    <tr>\n",
       "      <th>9989</th>\n",
       "      <td>insilica_seq_9990</td>\n",
       "      <td>0</td>\n",
       "      <td>wtref</td>\n",
       "      <td>101</td>\n",
       "      <td>65M1D45M1D62M1D83M1D41M</td>\n",
       "      <td>CCGCGAAAGTCCAACAAAGCTCTACTTTTTGGCAACGTGCTTGCTC...</td>\n",
       "      <td>DI?I?ID?DDIDDDIDDDDDDDDDDDDDDII?DDDDDDDID?DDDD...</td>\n",
       "      <td>0</td>\n",
       "      <td>4</td>\n",
       "      <td>4C9G41G8^G45^C56G5^G83^T41</td>\n",
       "    </tr>\n",
       "    <tr>\n",
       "      <th>9990</th>\n",
       "      <td>insilica_seq_9991</td>\n",
       "      <td>0</td>\n",
       "      <td>wtref</td>\n",
       "      <td>101</td>\n",
       "      <td>24M1D199M1D74M</td>\n",
       "      <td>CCGCTAAAGCCCAACAAAGCTCTATTTTTGGCAACGTGCTTGCTCG...</td>\n",
       "      <td>?DD?DDDDDDD?IDDD??IDDDDDD?D:II?DDDIIDIDDDID?DD...</td>\n",
       "      <td>0</td>\n",
       "      <td>4</td>\n",
       "      <td>4C4T4G9^C65A133^C74</td>\n",
       "    </tr>\n",
       "    <tr>\n",
       "      <th>9991</th>\n",
       "      <td>insilica_seq_9992</td>\n",
       "      <td>0</td>\n",
       "      <td>wtref</td>\n",
       "      <td>101</td>\n",
       "      <td>167M1D79M1D51M</td>\n",
       "      <td>CCGCTAAAGCCCAAAAAAGCTCTACTTTTTGGCAACGTGCTTGCTC...</td>\n",
       "      <td>ID?IDDDIDIDDD?DD?DD:DD?DDD?DDDD?D?DIDDDII??DDI...</td>\n",
       "      <td>0</td>\n",
       "      <td>8</td>\n",
       "      <td>4C4T4G97C54^T53C25^T39G9T0G0</td>\n",
       "    </tr>\n",
       "    <tr>\n",
       "      <th>9992</th>\n",
       "      <td>insilica_seq_9993</td>\n",
       "      <td>0</td>\n",
       "      <td>wtref</td>\n",
       "      <td>101</td>\n",
       "      <td>30M1D20M1D43M1D9M1D41M1D152M</td>\n",
       "      <td>CCGCAAAAGGCCAATAAAGCTCTACTTTTTGCAACGTGCTTGCTCG...</td>\n",
       "      <td>?DDDDDDDDIDDDD?D?IDDDI?IDDDI:DDD??IIDDD:DDDDDD...</td>\n",
       "      <td>0</td>\n",
       "      <td>3</td>\n",
       "      <td>4C4T4G15^G20^T43^T9^G41^C152</td>\n",
       "    </tr>\n",
       "    <tr>\n",
       "      <th>9993</th>\n",
       "      <td>insilica_seq_9994</td>\n",
       "      <td>0</td>\n",
       "      <td>wtref</td>\n",
       "      <td>101</td>\n",
       "      <td>105M1I40M1D20M1D131M</td>\n",
       "      <td>CCGCTAAAGACCAAAAAAGCTCTACTTTTTGGCAACGTGCTTGCTC...</td>\n",
       "      <td>DIDDIDDDDDDDDIDI?IDI?DDDDDIDDDD??D?I?DDDDD?DDD...</td>\n",
       "      <td>0</td>\n",
       "      <td>4</td>\n",
       "      <td>4C4T4G130^A20^C65C65</td>\n",
       "    </tr>\n",
       "    <tr>\n",
       "      <th>9994</th>\n",
       "      <td>insilica_seq_9995</td>\n",
       "      <td>0</td>\n",
       "      <td>wtref</td>\n",
       "      <td>101</td>\n",
       "      <td>12M1D31M1D51M1D95M1D29M1D8M1D68M</td>\n",
       "      <td>CCGCGAAAGGCCATCAAGCTCTACTTTTTGGCAACGTGCTTGCCGC...</td>\n",
       "      <td>D?DD?DDDIID??DDID?DD?D?DDDDDID?DIDDIDDIDDDDDDD...</td>\n",
       "      <td>0</td>\n",
       "      <td>4</td>\n",
       "      <td>4C4T2^A1G0A28^T51^G95^A29^T8^C68</td>\n",
       "    </tr>\n",
       "    <tr>\n",
       "      <th>9995</th>\n",
       "      <td>insilica_seq_9996</td>\n",
       "      <td>0</td>\n",
       "      <td>wtref</td>\n",
       "      <td>101</td>\n",
       "      <td>38M1D16M1D82M1D3M1D18M1D49M1D37M1D25M1D24M</td>\n",
       "      <td>CCGCAAAAGACCAAGAAAGCTCTACTTTTTGGCAACGTCTTGCTCG...</td>\n",
       "      <td>?DD?IDIDD?DIDDDIDDD?DDDIDIDDDDDDDDDDDDIIIDDDDD...</td>\n",
       "      <td>0</td>\n",
       "      <td>5</td>\n",
       "      <td>4C4T28^G16^G49G32^T3^T8A5G3^G49^T37^A25^C24</td>\n",
       "    </tr>\n",
       "    <tr>\n",
       "      <th>9996</th>\n",
       "      <td>insilica_seq_9997</td>\n",
       "      <td>0</td>\n",
       "      <td>wtref</td>\n",
       "      <td>101</td>\n",
       "      <td>14M1D283M</td>\n",
       "      <td>CCGCTAAAGGCCAAAAAACTCTACTTTTTGGCAACGTGCTTGCTCG...</td>\n",
       "      <td>DDIDD?DDDD:?DDD?D?DDDDD??D?IDIDID?DDD???D?DI:D...</td>\n",
       "      <td>0</td>\n",
       "      <td>3</td>\n",
       "      <td>4C4T4^G3G279</td>\n",
       "    </tr>\n",
       "    <tr>\n",
       "      <th>9997</th>\n",
       "      <td>insilica_seq_9998</td>\n",
       "      <td>0</td>\n",
       "      <td>wtref</td>\n",
       "      <td>101</td>\n",
       "      <td>96M1D77M1D26M1D52M1D45M</td>\n",
       "      <td>CCGCTAAAGACCAAGAAAGCTATACTTTTTGGCAACGTGCTTGCTC...</td>\n",
       "      <td>DI:??DDIIDDDDDDDDDDDD?DIDDII??D?I?DD?DIDDDIDD?...</td>\n",
       "      <td>0</td>\n",
       "      <td>3</td>\n",
       "      <td>4C4T11C74^G77^G26^T52^T45</td>\n",
       "    </tr>\n",
       "    <tr>\n",
       "      <th>9998</th>\n",
       "      <td>insilica_seq_9999</td>\n",
       "      <td>0</td>\n",
       "      <td>wtref</td>\n",
       "      <td>101</td>\n",
       "      <td>30M1D23M1D118M1D34M2I25M1D50M1I14M</td>\n",
       "      <td>CCGCGAAAGAACAAGAAAGCTCTACTTTTTGCAACGTGCTTGCTCG...</td>\n",
       "      <td>DDDDIDDDD?DIID?DD?DDDDIDDDIIDDDD?:DDDDIDD:I?D:...</td>\n",
       "      <td>0</td>\n",
       "      <td>11</td>\n",
       "      <td>4C4T0C19^G23^C14C22T19C51G8^C26A32^T61T0C0T0</td>\n",
       "    </tr>\n",
       "    <tr>\n",
       "      <th>9999</th>\n",
       "      <td>insilica_seq_10000</td>\n",
       "      <td>0</td>\n",
       "      <td>wtref</td>\n",
       "      <td>101</td>\n",
       "      <td>47M1D44M1D22M1I5M1D10M1D48M1D66M1D32M1D10M1D8M</td>\n",
       "      <td>CCGCTAAAGGCCAACAAAGCTCTACGTTTTGGCAACGTGCTTGCTC...</td>\n",
       "      <td>DDIDDIDD?DIIDDDIDD?DDDDDD?IDIDDDDDDDDDDDDDDDI?...</td>\n",
       "      <td>0</td>\n",
       "      <td>4</td>\n",
       "      <td>4C4T4G10T21^C44^T27^G10^G48^G66^T32^A10^A8</td>\n",
       "    </tr>\n",
       "  </tbody>\n",
       "</table>\n",
       "<p>5000 rows × 10 columns</p>\n",
       "</div>"
      ],
      "text/plain": [
       "                  header  flag  rname  pos  \\\n",
       "5000   insilica_seq_5001     0  wtref  101   \n",
       "5001   insilica_seq_5002     0  wtref  101   \n",
       "5002   insilica_seq_5003     0  wtref  101   \n",
       "5003   insilica_seq_5004     0  wtref  101   \n",
       "5004   insilica_seq_5005     0  wtref  102   \n",
       "5005   insilica_seq_5006     0  wtref  101   \n",
       "5006   insilica_seq_5007     0  wtref  101   \n",
       "5007   insilica_seq_5008     0  wtref  101   \n",
       "5008   insilica_seq_5009     0  wtref  101   \n",
       "5009   insilica_seq_5010     0  wtref  101   \n",
       "5010   insilica_seq_5011     0  wtref  101   \n",
       "5011   insilica_seq_5012     0  wtref  102   \n",
       "5012   insilica_seq_5013     0  wtref  102   \n",
       "5013   insilica_seq_5014     0  wtref  101   \n",
       "5014   insilica_seq_5015     0  wtref  101   \n",
       "5015   insilica_seq_5016     0  wtref  101   \n",
       "5016   insilica_seq_5017     0  wtref  101   \n",
       "5017   insilica_seq_5018     0  wtref  101   \n",
       "5018   insilica_seq_5019     0  wtref  101   \n",
       "5019   insilica_seq_5020     0  wtref  101   \n",
       "5020   insilica_seq_5021     0  wtref  101   \n",
       "5021   insilica_seq_5022     0  wtref  101   \n",
       "5022   insilica_seq_5023     0  wtref  101   \n",
       "5023   insilica_seq_5024     0  wtref  101   \n",
       "5024   insilica_seq_5025     0  wtref  101   \n",
       "5025   insilica_seq_5026     0  wtref  101   \n",
       "5026   insilica_seq_5027     0  wtref  101   \n",
       "5027   insilica_seq_5028     0  wtref  101   \n",
       "5028   insilica_seq_5029     0  wtref  101   \n",
       "5029   insilica_seq_5030     0  wtref  101   \n",
       "...                  ...   ...    ...  ...   \n",
       "9970   insilica_seq_9971     0  wtref  101   \n",
       "9971   insilica_seq_9972     0  wtref  101   \n",
       "9972   insilica_seq_9973     0  wtref  101   \n",
       "9973   insilica_seq_9974     0  wtref  101   \n",
       "9974   insilica_seq_9975     0  wtref  101   \n",
       "9975   insilica_seq_9976     0  wtref  101   \n",
       "9976   insilica_seq_9977     0  wtref  101   \n",
       "9977   insilica_seq_9978     0  wtref  101   \n",
       "9978   insilica_seq_9979     0  wtref  101   \n",
       "9979   insilica_seq_9980     0  wtref  101   \n",
       "9980   insilica_seq_9981     0  wtref  101   \n",
       "9981   insilica_seq_9982     0  wtref  101   \n",
       "9982   insilica_seq_9983     0  wtref  101   \n",
       "9983   insilica_seq_9984     0  wtref  101   \n",
       "9984   insilica_seq_9985     0  wtref  101   \n",
       "9985   insilica_seq_9986     0  wtref  101   \n",
       "9986   insilica_seq_9987     0  wtref  101   \n",
       "9987   insilica_seq_9988     0  wtref  101   \n",
       "9988   insilica_seq_9989     0  wtref  101   \n",
       "9989   insilica_seq_9990     0  wtref  101   \n",
       "9990   insilica_seq_9991     0  wtref  101   \n",
       "9991   insilica_seq_9992     0  wtref  101   \n",
       "9992   insilica_seq_9993     0  wtref  101   \n",
       "9993   insilica_seq_9994     0  wtref  101   \n",
       "9994   insilica_seq_9995     0  wtref  101   \n",
       "9995   insilica_seq_9996     0  wtref  101   \n",
       "9996   insilica_seq_9997     0  wtref  101   \n",
       "9997   insilica_seq_9998     0  wtref  101   \n",
       "9998   insilica_seq_9999     0  wtref  101   \n",
       "9999  insilica_seq_10000     0  wtref  101   \n",
       "\n",
       "                                                  cigar  \\\n",
       "5000                                               297M   \n",
       "5001                               141M1D108M1I36M1D11M   \n",
       "5002                                         170M1D127M   \n",
       "5003                            73M1D54M1D13M1D82M1D74M   \n",
       "5004                                101M1D44M1D145M1D6M   \n",
       "5005                       86M1D13M1I19M1D46M1D3M2I127M   \n",
       "5006                           204M1D29M1D12M1D41M1D10M   \n",
       "5007                                    133M1D26M1D138M   \n",
       "5008                                          279M1D18M   \n",
       "5009                                          92M1D205M   \n",
       "5010                  41M1I15M1I8M1D14M1D39M1D141M1D37M   \n",
       "5011                                          232M1D65M   \n",
       "5012                             179M1D41M1D64M1D7M1D4M   \n",
       "5013                                      224M1D2M1D71M   \n",
       "5014                                     54M1D148M1I94M   \n",
       "5015                                    128M1D32M1D137M   \n",
       "5016                                224M1D29M1D12M1D32M   \n",
       "5017                                 9M1D63M1D12M1D213M   \n",
       "5018                                          226M1D71M   \n",
       "5019                                 5M1D165M1D43M1I83M   \n",
       "5020                                          73M1I223M   \n",
       "5021                                32M1D138M1D59M1D68M   \n",
       "5022                                      8M1D263M1D26M   \n",
       "5023                       93M1D16M1D65M1I58M1D32M1D32M   \n",
       "5024                                 35M1D59M1D193M1I9M   \n",
       "5025                                201M2D47M1D10M1D38M   \n",
       "5026                                 186M1D88M1D7M1D16M   \n",
       "5027                                     51M1D37M1D209M   \n",
       "5028                                          94M2D203M   \n",
       "5029                            19M1I4M1D72M1D122M2D79M   \n",
       "...                                                 ...   \n",
       "9970                           25M1D89M1D44M1D10M1D128M   \n",
       "9971                                          72M1D225M   \n",
       "9972  49M1D5M1D66M1D22M1D8M1D12M1D18M1D19M1I11M1D42M...   \n",
       "9973                                    160M1D100M1D37M   \n",
       "9974                            22M1D2M1D94M1I127M1D51M   \n",
       "9975                            42M1D4M1D3M1D111M1D136M   \n",
       "9976                                166M1D57M1I46M1I26M   \n",
       "9977                                    133M1D137M2D27M   \n",
       "9978                                      5M1I231M1D60M   \n",
       "9979                                 71M1D73M1D60M1D93M   \n",
       "9980                                     177M1D98M1I21M   \n",
       "9981                               25M1D109M1D57M1D106M   \n",
       "9982                                          36M1D261M   \n",
       "9983                            50M1D28M1D91M1D123M1I4M   \n",
       "9984                                    130M1D106M1I60M   \n",
       "9985                                    123M1D107M1D67M   \n",
       "9986                                          237M1D60M   \n",
       "9987                                         123M1D174M   \n",
       "9988                                     65M1D159M1D73M   \n",
       "9989                            65M1D45M1D62M1D83M1D41M   \n",
       "9990                                     24M1D199M1D74M   \n",
       "9991                                     167M1D79M1D51M   \n",
       "9992                       30M1D20M1D43M1D9M1D41M1D152M   \n",
       "9993                               105M1I40M1D20M1D131M   \n",
       "9994                   12M1D31M1D51M1D95M1D29M1D8M1D68M   \n",
       "9995         38M1D16M1D82M1D3M1D18M1D49M1D37M1D25M1D24M   \n",
       "9996                                          14M1D283M   \n",
       "9997                            96M1D77M1D26M1D52M1D45M   \n",
       "9998                 30M1D23M1D118M1D34M2I25M1D50M1I14M   \n",
       "9999     47M1D44M1D22M1I5M1D10M1D48M1D66M1D32M1D10M1D8M   \n",
       "\n",
       "                                                    seq  \\\n",
       "5000  CCGCGAAAGGCCAAAAAAGCTCTACTTTTTGGCAACGTGCTTGCTC...   \n",
       "5001  CCGCTAAAGACCAAGAAAGCTCTACTTTTTGGCAACGTGCTTGCTC...   \n",
       "5002  CCGCTAAAGCCCAGCAAAGCTCTACTTTTTGGCGACGTGCTTGCTC...   \n",
       "5003  CCGCTAAAGGCCAAAAAAGCTCTACTTTTTGGCAACGTGCTTGCTC...   \n",
       "5004  CCCTAAAGCCCAATAAAGCTCTACTTTTTGGCAACGTGCTTGCTCG...   \n",
       "5005  CCGCCAAAGACCAACAAAGCTCTACTTTTTGGCAACGTGCTTGCTC...   \n",
       "5006  CCGCAAAAGGCCCAAAAAGCTCTACTTTTTGGCAACGTGCTTGCTC...   \n",
       "5007  CCGCTAAAGTTCAAGAAAGCTCTACTTTTTGGCAACGTGCTTGCTC...   \n",
       "5008  CCGCCAAAGTCCAACAAAGCTCTACTTTTAGGCAACGTGCTTGCTC...   \n",
       "5009  CCGCGAAAGGCCAACAAAGCTCTACTTTTTGGCAACGTGCTTGCTC...   \n",
       "5010  CCGCTAAAGCCCAACAAAGCGCTACTTTTTGGCAACGTGCTGTGCT...   \n",
       "5011  CCGCAAAGGCCCACAAAGCTGTACTTTTTGGCAACGTGCTTGCTCG...   \n",
       "5012  CGCTAAAGTTCAACAAAGCTCTACTTTTTGGCAACGTGCTTGCTCG...   \n",
       "5013  CCGCAAAAGGCCAGGAAAGCTTTACTTCTTGGCAACGTGCTTGCTC...   \n",
       "5014  CCGCGAAAGTCCAAGAAAGCTCTACTTTTTGGCAACGTGCTTGCTC...   \n",
       "5015  CCGCCAAAGCCCAAAAAAGCTCTACTTTTTGGCAACGTGCTTGCTC...   \n",
       "5016  CCGCAAAAGCCCAACAAAGCTCTACTTTTTGGCAACGTGCTTGCTC...   \n",
       "5017  CCGCTAAGGCCAATAAAGCTCTACTTTTTGGCAACGTGCTTGCTCG...   \n",
       "5018  CCGCGAAAGTCCAAAAAAGCTCAACTTTTTGGCAACGTGCTTGCTC...   \n",
       "5019  CCGCTAAGACCAATAAAGCTCTACTTTTTGGCAACGTGCTTGCTCG...   \n",
       "5020  CCGCAAAAGGCCAAGAAAGCTCTACTTTTTGGCAACGTGCTTGCTC...   \n",
       "5021  CCGCCCAAGTCCAAAAAAGCTCTACTTTTTGGAACGTGCTTGCTCG...   \n",
       "5022  CCGCTAAACGCAATAAAGCTCTACTTTTTGGCAACGTGCTTGCTCG...   \n",
       "5023  CCGCGAAAGGCCAAAAAAGCTCTACTTTTTGGCAACGTGCTTGCTC...   \n",
       "5024  CCGCAAAAGGCCAATAAAGCTCTACTTTTTGGCAAGTGCTTGCTCG...   \n",
       "5025  CCGCGAAAGCCCAACAAAGCTCTACTTTTTGGCAACGTGCTTGCTC...   \n",
       "5026  CCGCTAAAGCCCAACAAAGCTCTACTTTTTGGCAACGTGCTTGCTC...   \n",
       "5027  CCGCGAAAGCCCAAAAAAGCTCTACTTTTTGGCAACGTGCTTGCTC...   \n",
       "5028  CCGCGAAAGCCCGAGAAAGCTCTACTTTTTGGCAACGTGCTTGCTC...   \n",
       "5029  CCGCAAATGGCCAAGAAAGCCTCTCTTTTTGGCAACGTGCTTGCTC...   \n",
       "...                                                 ...   \n",
       "9970  CCGCAAAAGGCCAAAAAAGCTCTACTTTCGGCAACGTGCTTGCTCG...   \n",
       "9971  CCGCAAAAGACCAAGAAAGCTCTACTTTTTGGCAACGTGCTTGCTC...   \n",
       "9972  CCGCAAAAGCCCAAGAAAGCTCTACTTTTTGGCAACGTGCTTGCTC...   \n",
       "9973  CCGCTAAAGGCCAAGAAAGCTCTACTTTTTGGCAACGTGCGTGCTC...   \n",
       "9974  CCGCGAAAGCCCAATAAAGCTCACTTTTGGCAACGTGCTTGCTCGC...   \n",
       "9975  CCGCAAAAGGCCAAGAAAGCTCTACTTTTTGGCAACGTGCTTCTCG...   \n",
       "9976  CCGCAAAAGTCCAAAAAAGCTCTACTTTTTGGCAACGTGCTTGCTC...   \n",
       "9977  CCGCTAAAGTCCAAGAAAGCTCTACTTTTTGGCAACGTGCTTGCTC...   \n",
       "9978  CCTGCAAAAGTCCAACAAAGCTCTACTTTTTGGCAACGTGCTTGCT...   \n",
       "9979  CCGCAAAAGGCCAAGAAAGCTCTACTTTTTGGCAACGTGCTTGCTC...   \n",
       "9980  CCGCTAAAGGCCAAGAAAGCTCTACTTTTTGGCAACGTGCTTGCTC...   \n",
       "9981  CCGCCAAAGACCAACAAAGCTCTACTTTTGGCAACGTGCTTGCTCG...   \n",
       "9982  CCGCTAAAGCCCAAAAAAGCTCTACTTTTTGGCAACTGCTTGCTCG...   \n",
       "9983  CCGCCAAAGTCCAATAAAGCTCTACTTTTTGGCAACGTGCTTGCTC...   \n",
       "9984  CCGCCAAAGCCCAAGAAAGCTCTACTTTTTGGCAACGTACTTGCTC...   \n",
       "9985  CCGCTAAAGGCCAAAAAAGCTCTACTTTTTGGCAAGGTGCTTGCTC...   \n",
       "9986  CCGCTAAAGCCCAATAAAGCTCTACTTTTTGGCAACGTGCTTGCTC...   \n",
       "9987  CCGCGAAAGCCCAAGAAAGCTCTACTTTTTGGCAACGTGCTTGCTC...   \n",
       "9988  CCGCAAAAGTCCAATAAAGCTCTACTTTTTGGCAACGTGCTTGCTC...   \n",
       "9989  CCGCGAAAGTCCAACAAAGCTCTACTTTTTGGCAACGTGCTTGCTC...   \n",
       "9990  CCGCTAAAGCCCAACAAAGCTCTATTTTTGGCAACGTGCTTGCTCG...   \n",
       "9991  CCGCTAAAGCCCAAAAAAGCTCTACTTTTTGGCAACGTGCTTGCTC...   \n",
       "9992  CCGCAAAAGGCCAATAAAGCTCTACTTTTTGCAACGTGCTTGCTCG...   \n",
       "9993  CCGCTAAAGACCAAAAAAGCTCTACTTTTTGGCAACGTGCTTGCTC...   \n",
       "9994  CCGCGAAAGGCCATCAAGCTCTACTTTTTGGCAACGTGCTTGCCGC...   \n",
       "9995  CCGCAAAAGACCAAGAAAGCTCTACTTTTTGGCAACGTCTTGCTCG...   \n",
       "9996  CCGCTAAAGGCCAAAAAACTCTACTTTTTGGCAACGTGCTTGCTCG...   \n",
       "9997  CCGCTAAAGACCAAGAAAGCTATACTTTTTGGCAACGTGCTTGCTC...   \n",
       "9998  CCGCGAAAGAACAAGAAAGCTCTACTTTTTGCAACGTGCTTGCTCG...   \n",
       "9999  CCGCTAAAGGCCAACAAAGCTCTACGTTTTGGCAACGTGCTTGCTC...   \n",
       "\n",
       "                                                   qual XN  XM  \\\n",
       "5000  DDDIDID?DDIDDDDDDD?D:DD:IDD?:IDDDDDDDI:DDDID??...  0   7   \n",
       "5001  DIDID?:I?DDIDDDDDII??DIDDDDDDD:DD?DDDD?IIDDDD?...  0   4   \n",
       "5002  DD?DD:D??DDDDD?DDDIDDDD?IDDD?DDDDIIDDDDDDDDDI:...  0  10   \n",
       "5003  DID:IDDDDIDDDDDDIDI?I?DDIIDIID?D?ID?DD?D?D?DDD...  0   4   \n",
       "5004  IDDDIDID??D?D?DDD??DDDDD?DDDDDDDDI?DIDD?IDI?DD...  0   7   \n",
       "5005  DDDDDDDDDDIIIDIDDIDDIDIDDD?DDD:DD?D??DIDD:DDDD...  0   7   \n",
       "5006  ?DDIIIIDI?IDDDDDI:?ID?DID?DID??DDIDDD?DIDD?IDD...  0   5   \n",
       "5007  DDIID?DII?DID?DDIDDDDDDDIDIDI?DDDDD?D?DDDD?DDD...  0   3   \n",
       "5008  DIDDDDDD?DD?DI?D?DIIDDDI?DDDDD?DDDD?DDDD?DDDI:...  0   4   \n",
       "5009  DD?IIDDDDDDIDD?DDDDDDDIDDD?D?DDI?D?DIDID?DDDDD...  0   4   \n",
       "5010  IDDDDDDDDDDDDDDDDDD?DIDIDD:DDDII?DIIIIDDD7DDID...  0   5   \n",
       "5011  D?:DDIDD?IDDDDDDDDDIDDIDD?:DDDDDD?IDDDD?DDDDDI...  0   8   \n",
       "5012  DDDIIDID?IDDID?DDDDIDDD??DDIDIDIDDIIDD?IDDIIID...  0   5   \n",
       "5013  ?IDIDDDDDDDDDDDDD?D?DIII?DIDDDDDDIDDDDDDID??ID...  0   6   \n",
       "5014  DDIDD?DDDDDDDDIDDDIDDD?DID??:DD?IDIDDDID?DDDID...  0   3   \n",
       "5015  IDID?IDIDDDDDDDD:IIDD?DIDDDDDDD?IDIDDIIIDDIDDD...  0   4   \n",
       "5016  DDIIID?IDDDD?IDDDDDD:?IDDDD??DDDDID?IIDD?I???I...  0   5   \n",
       "5017  DD?IDD??I:ID??ID?IDDDDDDDDD:DD?DDD?DDIIDDDDDII...  0   8   \n",
       "5018  D?D?DDDIDDDDDDDDD?DI:DDDDDDI?DIDDDDDIDD??DDDII...  0   3   \n",
       "5019  DDD5DDDDDI?DI:DDDDDDD?DDDD:D?DDDDDI?DDD?IDDDDD...  0   6   \n",
       "5020  DDDDDDDDI?D??DDIIDD?I?DDDIDDD?DIIDD:DDDD?DDDII...  0   2   \n",
       "5021  DDDDDDDDIDDDDDDDDDDI?DD?DDDDDDDD?DDIDDDDDDD?DD...  0   5   \n",
       "5022  DI?DDDIID?DDDD?D?DDI:DDDDID??DD??DIDDDIIDDDD??...  0   8   \n",
       "5023  DI?DDDDD:DIDIDDDDDDDD???DDDDDDDDDDDDDDDIIDIDID...  0   3   \n",
       "5024  DDD?DDDD?IIIDDDDDDIDD??DDDDDDIDDDDDIDDIDIID?DI...  0   4   \n",
       "5025  DDD?D?DID?D:D?DDDDD:DDD?DDDIDDD?DIID?DDI?DDDD?...  0   4   \n",
       "5026  DD?D?D:?IDDD?DDDDDDDDD:D?I?DDD??DIDIDD??D?D?DD...  0   4   \n",
       "5027  DDDDDD:DDDDDDD?DDDD??DI??ID?DDDDDDDDDDIDIDDIDD...  0   8   \n",
       "5028  IDID?D?IDDDD?DD?DDDD:DDDDD?DD?DIDDDD?DD?I?ID?D...  0   6   \n",
       "5029  D??DD?DID??DDDDDDDD9DD:DDD?DDDDIDDDDDD:?DDDDDI...  0   6   \n",
       "...                                                 ... ..  ..   \n",
       "9970  DDIDDDDDIDDDDIDIDD?DDDDDDDD:I?DDDDDIIDDDI:DD?D...  0   9   \n",
       "9971  DDD?II?D?ID?DDDDDIDDDDDDDDID?DIIDDDII?DDDDIDD?...  0   3   \n",
       "9972  D?DDDDDDDDDDDDDIDDDIDDD:DDDDDDDDI5DI?DDIIID?DD...  0   4   \n",
       "9973  DD?IDD?DDDIIDDDDDD?DDDDDIDDDD?IDDIDDIDDDDDID?D...  0   3   \n",
       "9974  DIDII?D?DDD?DDID?DD:D?DDDIID?D?DDDDIDDDDDDDDDD...  0   5   \n",
       "9975  DIIIIDDDDDDDD?IDDDDDDDDDDDDDDIDDD?DDDDDD:DDIDD...  0   5   \n",
       "9976  D?D?DDDDDDDDDD?DDDDDD??DIIDD?DDDDDDDDIII?DDDDD...  0   3   \n",
       "9977  DDIDDDIDDDDDDD?DDDDDDI?I?DDID??DIIDIDD:?IDD?DI...  0   2   \n",
       "9978  I?5?D??DD?DDIDDDDI?:D?DDDDDIDD?I?IIIDDDDDDIIII...  0   6   \n",
       "9979  DD?DDIIDDD:DDID?DDDDD?DDDD:DDDDIDDDD?DDD:D?DDD...  0   4   \n",
       "9980  DDIDDDDDIIDIDDDDID?DDDDDD?ID:DDDIDDDIDDDI?D?DD...  0   4   \n",
       "9981  DDDDDDDDID?IDDDDI?DDDDIIDDD?DI?DDDDDID?DI:DDDD...  0   2   \n",
       "9982  DID??DDDDDDI?DDDDD?IDDD?DDDD?IDDD?DD?DDDDDDDDI...  0   3   \n",
       "9983  DDDDIDDI:DDIDDI?DIDDDDDDDDDDIDIDDDDDDDD?:DDD?D...  0   4   \n",
       "9984  DDIDDD?DDD?IDD?D?IDDD??IIDDIDDD?DDDDDID:DDIDDD...  0   3   \n",
       "9985  IDDD?DD?DIDIDIDDI?DDDDIDDII?DDIDD?DDDDDDDDDD?D...  0   4   \n",
       "9986  IDD?DDDDDDI:D?DI:DDDDD?DDDDDDDDD?DDDDD?ID?DDDI...  0   6   \n",
       "9987  DD?DDDDD:DDDDDDDDDDDDDDD??DDDDDDDDDDIDDDDDD??D...  0   4   \n",
       "9988  DDIIDDDDDD?DIDD?IDDDD:IDDDDDD?DIDDD?DIDDIIDDD?...  0   6   \n",
       "9989  DI?I?ID?DDIDDDIDDDDDDDDDDDDDDII?DDDDDDDID?DDDD...  0   4   \n",
       "9990  ?DD?DDDDDDD?IDDD??IDDDDDD?D:II?DDDIIDIDDDID?DD...  0   4   \n",
       "9991  ID?IDDDIDIDDD?DD?DD:DD?DDD?DDDD?D?DIDDDII??DDI...  0   8   \n",
       "9992  ?DDDDDDDDIDDDD?D?IDDDI?IDDDI:DDD??IIDDD:DDDDDD...  0   3   \n",
       "9993  DIDDIDDDDDDDDIDI?IDI?DDDDDIDDDD??D?I?DDDDD?DDD...  0   4   \n",
       "9994  D?DD?DDDIID??DDID?DD?D?DDDDDID?DIDDIDDIDDDDDDD...  0   4   \n",
       "9995  ?DD?IDIDD?DIDDDIDDD?DDDIDIDDDDDDDDDDDDIIIDDDDD...  0   5   \n",
       "9996  DDIDD?DDDD:?DDD?D?DDDDD??D?IDIDID?DDD???D?DI:D...  0   3   \n",
       "9997  DI:??DDIIDDDDDDDDDDDD?DIDDII??D?I?DD?DIDDDIDD?...  0   3   \n",
       "9998  DDDDIDDDD?DIID?DD?DDDDIDDDIIDDDD?:DDDDIDD:I?D:...  0  11   \n",
       "9999  DDIDDIDD?DIIDDDIDD?DDDDDD?IDIDDDDDDDDDDDDDDDI?...  0   4   \n",
       "\n",
       "                                                MD  \n",
       "5000                          4C4T4G100A88A6T66T18  \n",
       "5001                         4C4T39T49G41^A144^T11  \n",
       "5002               4C4T3A0G18A70A21G43^A0C93G17G14  \n",
       "5003                   4C4T4G35C22^A54^C13^T82^A74  \n",
       "5004                1G1C4T4G71G15^C21G12G9^C145^G6  \n",
       "5005                9T4G34T0C35^G32^T7G38^C50C9A69  \n",
       "5006                4C4T2A1G100A88^A29^A12^T41^A10  \n",
       "5007                           4C5C122^T26^A106T31  \n",
       "5008                           14G14T47T84G116^G18  \n",
       "5009                              4C4T4G77^T84C120  \n",
       "5010                4C4T4G5T43^C14^T39^T39C101^T37  \n",
       "5011                      1G0C5T2A1G6C50T160^T55A9  \n",
       "5012                  3C5C3G122G42^G41^T64^G7^T1T2  \n",
       "5013                       4C4T3A7C5T24T171^C2^A71  \n",
       "5014                               4C49^C81C28T131  \n",
       "5015                          9T4G72G38G1^C32^G137  \n",
       "5016                    4C4T4G147G61^C7C21^T12^T32  \n",
       "5017            4C2A1^T4G36T21^A12^G28A119A5C19T38  \n",
       "5018                                 4C9G7T203^C71  \n",
       "5019                      4C0^A3T4G117A0T37^C60C65  \n",
       "5020                                       4C4T286  \n",
       "5021                    5A8G17^C68T6C62^C10C48^C68  \n",
       "5022                  4C3^G0T0C3G93C20C63C69C8^C26  \n",
       "5023                     4C4T4G78^C16^T123^A32^T32  \n",
       "5024                          4C4T4G20^C59^T41G160  \n",
       "5025                      4C4T4G186^TC47^C10^T4C33  \n",
       "5026                       4C4T4G38T132^A88^C7^G16  \n",
       "5027                 4C4T4G36^T31G5^C60A2G38A80C25  \n",
       "5028                        4C4T2A81^CT0G105C56T39  \n",
       "5029                4C2A1T13^A23C21C26^G31C90^AC79  \n",
       "...                                            ...  \n",
       "9970        4C4T4G10^T3T85^A39A1G2^A10^C23A7G21A74  \n",
       "9971                               4C4T62^T112C112  \n",
       "9972  4C4T39^T5^G66^G22^A8^T12^T18^A30^C40T1^C37G0  \n",
       "9973                           4C4T30T119^A100^T37  \n",
       "9974                     4C4T4G7^T2^T33T187^T26T24  \n",
       "9975                 4C4T32^G4^C3^T0T56A53^T15C120  \n",
       "9976                               4C9G151^C21A107  \n",
       "9977                             4C89C38^T137^TC27  \n",
       "9978                        2G0C10G33C49G77A59^C60  \n",
       "9979                        4C4T61^A0T72^A60^C0A92  \n",
       "9980                             4C4T167^C26A23A68  \n",
       "9981                          9T4G10^T109^C57^C106  \n",
       "9982                                 4C4T4G21^G261  \n",
       "9983                     14G35^C28^T29A61^C70A52T3  \n",
       "9984                                9T28G91^A9G156  \n",
       "9985                          4C4T4G20C87^C107^C67  \n",
       "9986                        4C4T4G178C15C27^G49G10  \n",
       "9987                             4C4T43T34G34^C174  \n",
       "9988                    4C9G50^G68G45G13T30^A19A53  \n",
       "9989                    4C9G41G8^G45^C56G5^G83^T41  \n",
       "9990                           4C4T4G9^C65A133^C74  \n",
       "9991                  4C4T4G97C54^T53C25^T39G9T0G0  \n",
       "9992                  4C4T4G15^G20^T43^T9^G41^C152  \n",
       "9993                          4C4T4G130^A20^C65C65  \n",
       "9994              4C4T2^A1G0A28^T51^G95^A29^T8^C68  \n",
       "9995   4C4T28^G16^G49G32^T3^T8A5G3^G49^T37^A25^C24  \n",
       "9996                                  4C4T4^G3G279  \n",
       "9997                     4C4T11C74^G77^G26^T52^T45  \n",
       "9998  4C4T0C19^G23^C14C22T19C51G8^C26A32^T61T0C0T0  \n",
       "9999    4C4T4G10T21^C44^T27^G10^G48^G66^T32^A10^A8  \n",
       "\n",
       "[5000 rows x 10 columns]"
      ]
     },
     "execution_count": 13,
     "metadata": {},
     "output_type": "execute_result"
    }
   ],
   "source": [
    "df3"
   ]
  },
  {
   "cell_type": "code",
   "execution_count": 8,
   "metadata": {
    "collapsed": true
   },
   "outputs": [],
   "source": [
    "from seqtables.xarray_mods import st_merge"
   ]
  },
  {
   "cell_type": "code",
   "execution_count": 9,
   "metadata": {
    "collapsed": true
   },
   "outputs": [],
   "source": [
    "df3['header'] = df3['header'].apply(lambda x: x + '_2')"
   ]
  },
  {
   "cell_type": "code",
   "execution_count": 10,
   "metadata": {},
   "outputs": [
    {
     "name": "stdout",
     "output_type": "stream",
     "text": [
      "-1\n",
      "-2\n",
      "36\n",
      "-1\n",
      "-2\n",
      "36\n"
     ]
    }
   ],
   "source": [
    "t1 = seqtables.seq_tables.df_to_dataset(dft, 'NT', dft['header'], ref_name='t1', ref_to_pos_dict={'t1': 't1_position'})\n",
    "t2 = seqtables.seq_tables.df_to_dataset(df3, 'NT', df3['header'], ref_name='t1', ref_to_pos_dict={'t1': 't1_position'})"
   ]
  },
  {
   "cell_type": "code",
   "execution_count": 11,
   "metadata": {
    "scrolled": false
   },
   "outputs": [
    {
     "data": {
      "text/plain": [
       "(10000, 400)"
      ]
     },
     "execution_count": 11,
     "metadata": {},
     "output_type": "execute_result"
    }
   ],
   "source": [
    "xr.merge([t1,t2])['t1.sequence_table'].shape"
   ]
  },
  {
   "cell_type": "code",
   "execution_count": 20,
   "metadata": {
    "scrolled": true
   },
   "outputs": [
    {
     "ename": "AttributeError",
     "evalue": "'numpy.ndarray' object has no attribute '_data'",
     "output_type": "error",
     "traceback": [
      "\u001b[0;31m\u001b[0m",
      "\u001b[0;31mAttributeError\u001b[0mTraceback (most recent call last)",
      "\u001b[0;32m<ipython-input-20-9a777ce3c518>\u001b[0m in \u001b[0;36m<module>\u001b[0;34m()\u001b[0m\n\u001b[0;32m----> 1\u001b[0;31m \u001b[0mst_merge\u001b[0m\u001b[0;34m.\u001b[0m\u001b[0mmerge\u001b[0m\u001b[0;34m(\u001b[0m\u001b[0;34m[\u001b[0m\u001b[0mt1\u001b[0m\u001b[0;34m,\u001b[0m \u001b[0mt2\u001b[0m\u001b[0;34m]\u001b[0m\u001b[0;34m)\u001b[0m\u001b[0;34m[\u001b[0m\u001b[0;34m't1.sequence_table'\u001b[0m\u001b[0;34m]\u001b[0m\u001b[0;34m\u001b[0m\u001b[0m\n\u001b[0m",
      "\u001b[0;32m/home/ubuntu/GitHub/seqtables/xarray_mods/st_merge.pyc\u001b[0m in \u001b[0;36mmerge\u001b[0;34m(objects, compat, join)\u001b[0m\n\u001b[1;32m     18\u001b[0m     ]\n\u001b[1;32m     19\u001b[0m \u001b[0;34m\u001b[0m\u001b[0m\n\u001b[0;32m---> 20\u001b[0;31m     \u001b[0mnew_objects\u001b[0m \u001b[0;34m=\u001b[0m \u001b[0;34m[\u001b[0m\u001b[0mgetattr\u001b[0m\u001b[0;34m(\u001b[0m\u001b[0mxr2\u001b[0m\u001b[0;34m,\u001b[0m \u001b[0mc\u001b[0m\u001b[0;34m)\u001b[0m\u001b[0;34m(\u001b[0m\u001b[0mobjects\u001b[0m\u001b[0;34m[\u001b[0m\u001b[0mi\u001b[0m\u001b[0;34m]\u001b[0m\u001b[0;34m)\u001b[0m \u001b[0;32mif\u001b[0m \u001b[0mc\u001b[0m \u001b[0;32mis\u001b[0m \u001b[0;32mnot\u001b[0m \u001b[0mNone\u001b[0m \u001b[0;32melse\u001b[0m \u001b[0mobjects\u001b[0m\u001b[0;34m[\u001b[0m\u001b[0mi\u001b[0m\u001b[0;34m]\u001b[0m \u001b[0;32mfor\u001b[0m \u001b[0mi\u001b[0m\u001b[0;34m,\u001b[0m \u001b[0mc\u001b[0m \u001b[0;32min\u001b[0m \u001b[0menumerate\u001b[0m\u001b[0;34m(\u001b[0m\u001b[0mconversions\u001b[0m\u001b[0;34m)\u001b[0m\u001b[0;34m]\u001b[0m\u001b[0;34m\u001b[0m\u001b[0m\n\u001b[0m\u001b[1;32m     21\u001b[0m     \u001b[0mmerged_result\u001b[0m \u001b[0;34m=\u001b[0m \u001b[0mxr2\u001b[0m\u001b[0;34m.\u001b[0m\u001b[0mmerge\u001b[0m\u001b[0;34m(\u001b[0m\u001b[0mnew_objects\u001b[0m\u001b[0;34m,\u001b[0m \u001b[0mcompat\u001b[0m\u001b[0;34m,\u001b[0m \u001b[0mjoin\u001b[0m\u001b[0;34m)\u001b[0m\u001b[0;34m\u001b[0m\u001b[0m\n\u001b[1;32m     22\u001b[0m     \u001b[0mnew_type\u001b[0m \u001b[0;34m=\u001b[0m \u001b[0mstr\u001b[0m\u001b[0;34m(\u001b[0m\u001b[0mtype\u001b[0m\u001b[0;34m(\u001b[0m\u001b[0mmerged_result\u001b[0m\u001b[0;34m)\u001b[0m\u001b[0;34m)\u001b[0m\u001b[0;34m\u001b[0m\u001b[0m\n",
      "\u001b[0;32m/home/ubuntu/ubuntu_ve_2.9/lib/python2.7/site-packages/xarray/core/dataset.pyc\u001b[0m in \u001b[0;36m__init__\u001b[0;34m(self, data_vars, coords, attrs, compat)\u001b[0m\n\u001b[1;32m    351\u001b[0m             \u001b[0mcoords\u001b[0m \u001b[0;34m=\u001b[0m \u001b[0;34m{\u001b[0m\u001b[0;34m}\u001b[0m\u001b[0;34m\u001b[0m\u001b[0m\n\u001b[1;32m    352\u001b[0m         \u001b[0;32mif\u001b[0m \u001b[0mdata_vars\u001b[0m \u001b[0;32mis\u001b[0m \u001b[0;32mnot\u001b[0m \u001b[0mNone\u001b[0m \u001b[0;32mor\u001b[0m \u001b[0mcoords\u001b[0m \u001b[0;32mis\u001b[0m \u001b[0;32mnot\u001b[0m \u001b[0mNone\u001b[0m\u001b[0;34m:\u001b[0m\u001b[0;34m\u001b[0m\u001b[0m\n\u001b[0;32m--> 353\u001b[0;31m             \u001b[0mself\u001b[0m\u001b[0;34m.\u001b[0m\u001b[0m_set_init_vars_and_dims\u001b[0m\u001b[0;34m(\u001b[0m\u001b[0mdata_vars\u001b[0m\u001b[0;34m,\u001b[0m \u001b[0mcoords\u001b[0m\u001b[0;34m,\u001b[0m \u001b[0mcompat\u001b[0m\u001b[0;34m)\u001b[0m\u001b[0;34m\u001b[0m\u001b[0m\n\u001b[0m\u001b[1;32m    354\u001b[0m         \u001b[0;32mif\u001b[0m \u001b[0mattrs\u001b[0m \u001b[0;32mis\u001b[0m \u001b[0;32mnot\u001b[0m \u001b[0mNone\u001b[0m\u001b[0;34m:\u001b[0m\u001b[0;34m\u001b[0m\u001b[0m\n\u001b[1;32m    355\u001b[0m             \u001b[0mself\u001b[0m\u001b[0;34m.\u001b[0m\u001b[0mattrs\u001b[0m \u001b[0;34m=\u001b[0m \u001b[0mattrs\u001b[0m\u001b[0;34m\u001b[0m\u001b[0m\n",
      "\u001b[0;32m/home/ubuntu/ubuntu_ve_2.9/lib/python2.7/site-packages/xarray/core/dataset.pyc\u001b[0m in \u001b[0;36m_set_init_vars_and_dims\u001b[0;34m(self, data_vars, coords, compat)\u001b[0m\n\u001b[1;32m    366\u001b[0m \u001b[0;34m\u001b[0m\u001b[0m\n\u001b[1;32m    367\u001b[0m         variables, coord_names, dims = merge_data_and_coords(\n\u001b[0;32m--> 368\u001b[0;31m             data_vars, coords, compat=compat)\n\u001b[0m\u001b[1;32m    369\u001b[0m \u001b[0;34m\u001b[0m\u001b[0m\n\u001b[1;32m    370\u001b[0m         \u001b[0mself\u001b[0m\u001b[0;34m.\u001b[0m\u001b[0m_variables\u001b[0m \u001b[0;34m=\u001b[0m \u001b[0mvariables\u001b[0m\u001b[0;34m\u001b[0m\u001b[0m\n",
      "\u001b[0;32m/home/ubuntu/ubuntu_ve_2.9/lib/python2.7/site-packages/xarray/core/merge.pyc\u001b[0m in \u001b[0;36mmerge_data_and_coords\u001b[0;34m(data, coords, compat, join)\u001b[0m\n\u001b[1;32m    363\u001b[0m     \u001b[0mobjs\u001b[0m \u001b[0;34m=\u001b[0m \u001b[0;34m[\u001b[0m\u001b[0mdata\u001b[0m\u001b[0;34m,\u001b[0m \u001b[0mcoords\u001b[0m\u001b[0;34m]\u001b[0m\u001b[0;34m\u001b[0m\u001b[0m\n\u001b[1;32m    364\u001b[0m     \u001b[0mexplicit_coords\u001b[0m \u001b[0;34m=\u001b[0m \u001b[0mcoords\u001b[0m\u001b[0;34m.\u001b[0m\u001b[0mkeys\u001b[0m\u001b[0;34m(\u001b[0m\u001b[0;34m)\u001b[0m\u001b[0;34m\u001b[0m\u001b[0m\n\u001b[0;32m--> 365\u001b[0;31m     \u001b[0;32mreturn\u001b[0m \u001b[0mmerge_core\u001b[0m\u001b[0;34m(\u001b[0m\u001b[0mobjs\u001b[0m\u001b[0;34m,\u001b[0m \u001b[0mcompat\u001b[0m\u001b[0;34m,\u001b[0m \u001b[0mjoin\u001b[0m\u001b[0;34m,\u001b[0m \u001b[0mexplicit_coords\u001b[0m\u001b[0;34m=\u001b[0m\u001b[0mexplicit_coords\u001b[0m\u001b[0;34m)\u001b[0m\u001b[0;34m\u001b[0m\u001b[0m\n\u001b[0m\u001b[1;32m    366\u001b[0m \u001b[0;34m\u001b[0m\u001b[0m\n\u001b[1;32m    367\u001b[0m \u001b[0;34m\u001b[0m\u001b[0m\n",
      "\u001b[0;32m/home/ubuntu/ubuntu_ve_2.9/lib/python2.7/site-packages/xarray/core/merge.pyc\u001b[0m in \u001b[0;36mmerge_core\u001b[0;34m(objs, compat, join, priority_arg, explicit_coords, indexes)\u001b[0m\n\u001b[1;32m    420\u001b[0m     \u001b[0mpriority_vars\u001b[0m \u001b[0;34m=\u001b[0m \u001b[0m_get_priority_vars\u001b[0m\u001b[0;34m(\u001b[0m\u001b[0maligned\u001b[0m\u001b[0;34m,\u001b[0m \u001b[0mpriority_arg\u001b[0m\u001b[0;34m,\u001b[0m \u001b[0mcompat\u001b[0m\u001b[0;34m=\u001b[0m\u001b[0mcompat\u001b[0m\u001b[0;34m)\u001b[0m\u001b[0;34m\u001b[0m\u001b[0m\n\u001b[1;32m    421\u001b[0m     \u001b[0mvariables\u001b[0m \u001b[0;34m=\u001b[0m \u001b[0mmerge_variables\u001b[0m\u001b[0;34m(\u001b[0m\u001b[0mexpanded\u001b[0m\u001b[0;34m,\u001b[0m \u001b[0mpriority_vars\u001b[0m\u001b[0;34m,\u001b[0m \u001b[0mcompat\u001b[0m\u001b[0;34m=\u001b[0m\u001b[0mcompat\u001b[0m\u001b[0;34m)\u001b[0m\u001b[0;34m\u001b[0m\u001b[0m\n\u001b[0;32m--> 422\u001b[0;31m     \u001b[0massert_unique_multiindex_level_names\u001b[0m\u001b[0;34m(\u001b[0m\u001b[0mvariables\u001b[0m\u001b[0;34m)\u001b[0m\u001b[0;34m\u001b[0m\u001b[0m\n\u001b[0m\u001b[1;32m    423\u001b[0m \u001b[0;34m\u001b[0m\u001b[0m\n\u001b[1;32m    424\u001b[0m     \u001b[0mdims\u001b[0m \u001b[0;34m=\u001b[0m \u001b[0mcalculate_dimensions\u001b[0m\u001b[0;34m(\u001b[0m\u001b[0mvariables\u001b[0m\u001b[0;34m)\u001b[0m\u001b[0;34m\u001b[0m\u001b[0m\n",
      "\u001b[0;32m/home/ubuntu/ubuntu_ve_2.9/lib/python2.7/site-packages/xarray/core/variable.pyc\u001b[0m in \u001b[0;36massert_unique_multiindex_level_names\u001b[0;34m(variables)\u001b[0m\n\u001b[1;32m   1452\u001b[0m     \u001b[0mlevel_names\u001b[0m \u001b[0;34m=\u001b[0m \u001b[0mdefaultdict\u001b[0m\u001b[0;34m(\u001b[0m\u001b[0mlist\u001b[0m\u001b[0;34m)\u001b[0m\u001b[0;34m\u001b[0m\u001b[0m\n\u001b[1;32m   1453\u001b[0m     \u001b[0;32mfor\u001b[0m \u001b[0mvar_name\u001b[0m\u001b[0;34m,\u001b[0m \u001b[0mvar\u001b[0m \u001b[0;32min\u001b[0m \u001b[0mvariables\u001b[0m\u001b[0;34m.\u001b[0m\u001b[0mitems\u001b[0m\u001b[0;34m(\u001b[0m\u001b[0;34m)\u001b[0m\u001b[0;34m:\u001b[0m\u001b[0;34m\u001b[0m\u001b[0m\n\u001b[0;32m-> 1454\u001b[0;31m         \u001b[0;32mif\u001b[0m \u001b[0misinstance\u001b[0m\u001b[0;34m(\u001b[0m\u001b[0mvar\u001b[0m\u001b[0;34m.\u001b[0m\u001b[0m_data\u001b[0m\u001b[0;34m,\u001b[0m \u001b[0mPandasIndexAdapter\u001b[0m\u001b[0;34m)\u001b[0m\u001b[0;34m:\u001b[0m\u001b[0;34m\u001b[0m\u001b[0m\n\u001b[0m\u001b[1;32m   1455\u001b[0m             \u001b[0midx_level_names\u001b[0m \u001b[0;34m=\u001b[0m \u001b[0mvar\u001b[0m\u001b[0;34m.\u001b[0m\u001b[0mto_index_variable\u001b[0m\u001b[0;34m(\u001b[0m\u001b[0;34m)\u001b[0m\u001b[0;34m.\u001b[0m\u001b[0mlevel_names\u001b[0m\u001b[0;34m\u001b[0m\u001b[0m\n\u001b[1;32m   1456\u001b[0m             \u001b[0;32mif\u001b[0m \u001b[0midx_level_names\u001b[0m \u001b[0;32mis\u001b[0m \u001b[0;32mnot\u001b[0m \u001b[0mNone\u001b[0m\u001b[0;34m:\u001b[0m\u001b[0;34m\u001b[0m\u001b[0m\n",
      "\u001b[0;31mAttributeError\u001b[0m: 'numpy.ndarray' object has no attribute '_data'"
     ]
    }
   ],
   "source": [
    "st_merge.merge([t1, t2])['t1.sequence_table']"
   ]
  },
  {
   "cell_type": "code",
   "execution_count": 16,
   "metadata": {},
   "outputs": [
    {
     "data": {
      "text/plain": [
       "<bound method Frozen.values of Frozen(OrderedDict([('t1_position', <xarray.IndexVariable 't1_position' (t1_position: 300)>\n",
       "array([  1,   2,   3, ..., 298, 299, 300])), ('t1.read', <xarray.IndexVariable 't1.read' (t1.read: 5000)>\n",
       "array(['insilica_seq_1', 'insilica_seq_3', 'insilica_seq_2', ...,\n",
       "       'insilica_seq_4998', 'insilica_seq_4999', 'insilica_seq_5000'],\n",
       "      dtype='|S17')), ('t1.insertion_table_pos_data', <xarray.IndexVariable 't1.insertion_table_pos_data' (t1.insertion_table_pos_data: 1924)>\n",
       "array([('insilica_seq_4', 88, 1), ('insilica_seq_9', 226, 1),\n",
       "       ('insilica_seq_19', 215, 1), ..., ('insilica_seq_4987', 15, 4),\n",
       "       ('insilica_seq_4987', 15, 5), ('insilica_seq_4999', 47, 1)], dtype=object)), ('insertion_data', <xarray.IndexVariable 'insertion_data' (insertion_data: 2)>\n",
       "array(['letter', 'quality'],\n",
       "      dtype='|S7')), ('t1.sequence_table', <xarray.Variable (t1.read: 5000, t1_position: 300)>\n",
       "array([['C', 'C', 'G', ..., 'T', 'G', 'T'],\n",
       "       ['C', 'C', 'G', ..., '$', '$', '$'],\n",
       "       ['C', 'C', 'G', ..., 'T', 'G', 'T'],\n",
       "       ..., \n",
       "       ['C', 'C', 'G', ..., 'T', 'G', 'T'],\n",
       "       ['C', 'C', 'G', ..., 'T', '$', '$'],\n",
       "       ['C', 'C', 'G', ..., 'T', 'G', 'T']],\n",
       "      dtype='|S1')), ('t1.insertion_table', <xarray.Variable (t1.insertion_table_pos_data: 1924, insertion_data: 2)>\n",
       "array([['C', '5'],\n",
       "       ['A', '?'],\n",
       "       ['G', ';'],\n",
       "       ..., \n",
       "       ['C', '4'],\n",
       "       ['C', '5'],\n",
       "       ['G', 'D']],\n",
       "      dtype='|S1')), ('t1.quality_table', <xarray.Variable (t1.read: 5000, t1_position: 300)>\n",
       "array([[35, 35, 35, ..., 19, 17, 20],\n",
       "       [35, 40, 35, ...,  0,  0,  0],\n",
       "       [35, 30, 35, ..., 19, 12, 15],\n",
       "       ..., \n",
       "       [40, 40, 30, ..., 19, 17, 10],\n",
       "       [40, 35, 35, ..., 19,  0,  0],\n",
       "       [35, 35, 35, ..., 19, 17, 15]], dtype=int8))]))>"
      ]
     },
     "execution_count": 16,
     "metadata": {},
     "output_type": "execute_result"
    }
   ],
   "source": [
    "t1.variables.values"
   ]
  },
  {
   "cell_type": "code",
   "execution_count": null,
   "metadata": {},
   "outputs": [],
   "source": [
    "t1.variables['t1.sequence_table']"
   ]
  },
  {
   "cell_type": "code",
   "execution_count": null,
   "metadata": {
    "collapsed": true
   },
   "outputs": [],
   "source": [
    "getattr(t1.variables['t1.sequence_table'], 'no_conflicts')(t2.variables['t1.sequence_table'])"
   ]
  },
  {
   "cell_type": "code",
   "execution_count": null,
   "metadata": {
    "collapsed": true
   },
   "outputs": [],
   "source": [
    "arr = np.array([(1,2.,'Hello'),(2,3.,\"World\")], \n",
    "               dtype=[('foo', 'i4'),('bar', 'f4'), ('baz', 'a10')])\n",
    "recordarr = arr.view(dtype=np.dtype((np.record, arr.dtype)), \n",
    "                      type=np.recarray)\n",
    "recordarr.foo"
   ]
  },
  {
   "cell_type": "code",
   "execution_count": null,
   "metadata": {
    "collapsed": true
   },
   "outputs": [],
   "source": [
    "arr"
   ]
  },
  {
   "cell_type": "code",
   "execution_count": null,
   "metadata": {
    "collapsed": true
   },
   "outputs": [],
   "source": [
    "'ltr_code'"
   ]
  },
  {
   "cell_type": "code",
   "execution_count": null,
   "metadata": {
    "collapsed": true
   },
   "outputs": [],
   "source": [
    "x = np.zeros(3, dtype={'col1':('i1',10,'title 1'), 'col2':('f4',3,'title 2')})\n",
    "x"
   ]
  },
  {
   "cell_type": "code",
   "execution_count": null,
   "metadata": {
    "collapsed": true
   },
   "outputs": [],
   "source": [
    "t3['t1.sequence_table'].values"
   ]
  },
  {
   "cell_type": "code",
   "execution_count": null,
   "metadata": {
    "collapsed": true
   },
   "outputs": [],
   "source": [
    "t3['t1.sequence_table'] = t3['t1.sequence_table'].astype('S1')"
   ]
  },
  {
   "cell_type": "code",
   "execution_count": null,
   "metadata": {
    "collapsed": true
   },
   "outputs": [],
   "source": [
    "t2['t1.quality_table']"
   ]
  },
  {
   "cell_type": "code",
   "execution_count": null,
   "metadata": {
    "collapsed": true
   },
   "outputs": [],
   "source": [
    "xr.merge([t1,t2])"
   ]
  },
  {
   "cell_type": "code",
   "execution_count": null,
   "metadata": {
    "collapsed": true
   },
   "outputs": [],
   "source": [
    "t1['t1.sequence_table'].values.astype('S1').shape"
   ]
  },
  {
   "cell_type": "code",
   "execution_count": null,
   "metadata": {
    "collapsed": true
   },
   "outputs": [],
   "source": []
  },
  {
   "cell_type": "code",
   "execution_count": null,
   "metadata": {
    "collapsed": true
   },
   "outputs": [],
   "source": [
    "t1.attrs['seqtable']['references']['t1']['dimension_names']['insertion_positions_multiindex']"
   ]
  },
  {
   "cell_type": "code",
   "execution_count": null,
   "metadata": {
    "collapsed": true,
    "scrolled": true
   },
   "outputs": [],
   "source": [
    "# current naive solution, merge data arrays but have each dimension be unique\n",
    "vals1 = np.random.normal(size=(6,2))\n",
    "vals2 = np.random.normal(size=(3,3))\n",
    "x1 = xr.Dataset(\n",
    "    {'table1': (['x', 'y'], vals1)},\n",
    "    coords={\n",
    "        'x': np.arange(6),\n",
    "        'y': np.arange(2)\n",
    "    }\n",
    ")\n",
    "x2 = xr.Dataset(\n",
    "    {'table2': (['x', 'y'], vals2)},\n",
    "    coords={\n",
    "        'x': np.arange(10, 10+3),\n",
    "        'y': np.arange(8, 8+3)\n",
    "    }\n",
    ")\n",
    "\n",
    "index=pd.MultiIndex.from_tuples([(0, 0, 1), (1, 1, 1), (2, 2, 1)], names=('x3', 'y3', 'z3'))\n",
    "vals3 = np.random.normal(size=(3,3))\n",
    "x3 = xr.Dataset(\n",
    "        {'table3-multiindex': (['multi-index', 'cols'], vals3)},        \n",
    "        coords={'multi-index': index}\n",
    ")\n",
    "\n",
    "xr.merge([x1, x2, x3], join='exact')['table1']"
   ]
  },
  {
   "cell_type": "code",
   "execution_count": null,
   "metadata": {
    "collapsed": true
   },
   "outputs": [],
   "source": [
    "vals3"
   ]
  },
  {
   "cell_type": "code",
   "execution_count": null,
   "metadata": {
    "collapsed": true
   },
   "outputs": [],
   "source": [
    "index"
   ]
  },
  {
   "cell_type": "code",
   "execution_count": null,
   "metadata": {
    "collapsed": true
   },
   "outputs": [],
   "source": [
    "test = pd.DataFrame([['A', 'B'], ['C', 'E'], ['F', 'G']], index=pd.MultiIndex.from_tuples([(0, 'a', 1), (1, 'b', 1), (2, 'c', 1)]))"
   ]
  },
  {
   "cell_type": "code",
   "execution_count": null,
   "metadata": {
    "collapsed": true
   },
   "outputs": [],
   "source": [
    "test"
   ]
  },
  {
   "cell_type": "code",
   "execution_count": null,
   "metadata": {
    "collapsed": true
   },
   "outputs": [],
   "source": [
    "test.to_xarray()[0]"
   ]
  },
  {
   "cell_type": "code",
   "execution_count": null,
   "metadata": {
    "collapsed": true
   },
   "outputs": [],
   "source": [
    "t2['t2.sequence_table']"
   ]
  },
  {
   "cell_type": "code",
   "execution_count": null,
   "metadata": {
    "collapsed": true
   },
   "outputs": [],
   "source": [
    "import xarray as xr\n"
   ]
  },
  {
   "cell_type": "code",
   "execution_count": null,
   "metadata": {
    "collapsed": true
   },
   "outputs": [],
   "source": [
    "t3 = xr.merge([t1, t2], compat='no_conflicts')"
   ]
  },
  {
   "cell_type": "code",
   "execution_count": null,
   "metadata": {
    "collapsed": true
   },
   "outputs": [],
   "source": [
    "t3['t2.sequence_table']"
   ]
  },
  {
   "cell_type": "code",
   "execution_count": null,
   "metadata": {
    "collapsed": true
   },
   "outputs": [],
   "source": [
    "t3['t1.sequence_table'] = t3['t1.sequence_table'][:, :100]"
   ]
  },
  {
   "cell_type": "code",
   "execution_count": null,
   "metadata": {
    "collapsed": true
   },
   "outputs": [],
   "source": [
    "t3['t1.sequence_table'].shape"
   ]
  },
  {
   "cell_type": "code",
   "execution_count": null,
   "metadata": {
    "collapsed": true
   },
   "outputs": [],
   "source": [
    "t3['t2.sequence_table'].nbytes"
   ]
  },
  {
   "cell_type": "code",
   "execution_count": null,
   "metadata": {
    "collapsed": true
   },
   "outputs": [],
   "source": [
    "t2['t2.sequence_table'].nbytes"
   ]
  },
  {
   "cell_type": "code",
   "execution_count": null,
   "metadata": {
    "collapsed": true
   },
   "outputs": [],
   "source": [
    "t3['t2.sequence_table']"
   ]
  },
  {
   "cell_type": "code",
   "execution_count": null,
   "metadata": {
    "collapsed": true
   },
   "outputs": [],
   "source": [
    "t1['t1.sequence_table'].nbytes"
   ]
  },
  {
   "cell_type": "code",
   "execution_count": null,
   "metadata": {
    "collapsed": true,
    "scrolled": true
   },
   "outputs": [],
   "source": [
    "t3 = xr.concat([t1, t2], dim='read')\n",
    "t3"
   ]
  },
  {
   "cell_type": "code",
   "execution_count": null,
   "metadata": {
    "collapsed": true
   },
   "outputs": [],
   "source": [
    "t3['t1.sequence_table']"
   ]
  },
  {
   "cell_type": "code",
   "execution_count": null,
   "metadata": {
    "collapsed": true
   },
   "outputs": [],
   "source": [
    "t2['t1.sequence_table']"
   ]
  },
  {
   "cell_type": "code",
   "execution_count": null,
   "metadata": {
    "collapsed": true
   },
   "outputs": [],
   "source": [
    "t1['t1.sequence_table']"
   ]
  },
  {
   "cell_type": "code",
   "execution_count": null,
   "metadata": {
    "collapsed": true
   },
   "outputs": [],
   "source": [
    "t1['t1.sequence_table']"
   ]
  },
  {
   "cell_type": "code",
   "execution_count": null,
   "metadata": {
    "collapsed": true
   },
   "outputs": [],
   "source": [
    "import xarray as xr\n",
    "# xr.concat([t1,t2])"
   ]
  },
  {
   "cell_type": "code",
   "execution_count": null,
   "metadata": {
    "collapsed": true
   },
   "outputs": [],
   "source": [
    "t2"
   ]
  },
  {
   "cell_type": "code",
   "execution_count": null,
   "metadata": {
    "collapsed": true
   },
   "outputs": [],
   "source": [
    "t1"
   ]
  },
  {
   "cell_type": "code",
   "execution_count": null,
   "metadata": {
    "collapsed": true
   },
   "outputs": [],
   "source": [
    "tmp1, tmp2 = _"
   ]
  },
  {
   "cell_type": "code",
   "execution_count": null,
   "metadata": {
    "collapsed": true
   },
   "outputs": [],
   "source": [
    "tmp1.shape"
   ]
  },
  {
   "cell_type": "code",
   "execution_count": null,
   "metadata": {
    "collapsed": true
   },
   "outputs": [],
   "source": [
    "tmp2"
   ]
  },
  {
   "cell_type": "code",
   "execution_count": null,
   "metadata": {
    "collapsed": true
   },
   "outputs": [],
   "source": [
    "dft.iloc[0]['cigar']"
   ]
  },
  {
   "cell_type": "code",
   "execution_count": null,
   "metadata": {
    "collapsed": true
   },
   "outputs": [],
   "source": [
    "sam_to_arr.test_cpy('116M1D67M1D1I')"
   ]
  },
  {
   "cell_type": "code",
   "execution_count": null,
   "metadata": {
    "collapsed": true
   },
   "outputs": [],
   "source": [
    "dft['pos'].dtype"
   ]
  },
  {
   "cell_type": "code",
   "execution_count": null,
   "metadata": {
    "collapsed": true
   },
   "outputs": [],
   "source": [
    "np.array(dft['seq'].values, dtype='S').view('S1').reshape(dft.shape[0], -1).dtype"
   ]
  },
  {
   "cell_type": "code",
   "execution_count": null,
   "metadata": {
    "collapsed": true
   },
   "outputs": [],
   "source": [
    "dft.iloc[0]"
   ]
  },
  {
   "cell_type": "code",
   "execution_count": null,
   "metadata": {
    "collapsed": true
   },
   "outputs": [],
   "source": [
    "import time\n",
    "t1= time.time()\n",
    "dummy = sam_to_arr.seq_to_algn_str(\n",
    "    dft['seq'].values,\n",
    "    dft['qual'].values,\n",
    "    dft['pos'].values,\n",
    "    dft['cigar'].values, \n",
    "    np.array(list(dft.index)),\n",
    ")\n",
    "t2 = time.time()\n",
    "(t2-t1)*100"
   ]
  },
  {
   "cell_type": "code",
   "execution_count": null,
   "metadata": {
    "collapsed": true
   },
   "outputs": [],
   "source": [
    "dummy[0]"
   ]
  },
  {
   "cell_type": "code",
   "execution_count": null,
   "metadata": {
    "collapsed": true,
    "scrolled": false
   },
   "outputs": [],
   "source": [
    "pd.DataFrame(dummy[3], index=pd.MultiIndex.from_tuples(dummy[2], names=('read', 'position', 'insertion')))"
   ]
  },
  {
   "cell_type": "code",
   "execution_count": null,
   "metadata": {
    "collapsed": true,
    "scrolled": true
   },
   "outputs": [],
   "source": [
    "ttt = dft.iloc[:3]\n",
    "dummy = sam_to_arr.seq_to_algn_str(\n",
    "    ttt['seq'].values,\n",
    "    ttt['qual'].values,\n",
    "    ttt['pos'].values,\n",
    "    ttt['cigar'].values,\n",
    "    np.array(list(ttt.index)),\n",
    "    min_pos = 1\n",
    ")"
   ]
  },
  {
   "cell_type": "code",
   "execution_count": null,
   "metadata": {
    "collapsed": true
   },
   "outputs": [],
   "source": [
    "pd.DataFrame(dummy[2], dummy[3])"
   ]
  },
  {
   "cell_type": "code",
   "execution_count": null,
   "metadata": {
    "collapsed": true
   },
   "outputs": [],
   "source": [
    "t1 = _[0]\n",
    "t2 = _[1]"
   ]
  },
  {
   "cell_type": "code",
   "execution_count": null,
   "metadata": {
    "collapsed": true
   },
   "outputs": [],
   "source": [
    "t3 = pd.DataFrame((t1[:, 2]).astype('S').view('S1').reshape(t1.shape[0], -1).view(np.uint8)).astype(np.float)"
   ]
  },
  {
   "cell_type": "code",
   "execution_count": null,
   "metadata": {
    "collapsed": true
   },
   "outputs": [],
   "source": [
    "t3[t3==0] = np.nan"
   ]
  },
  {
   "cell_type": "code",
   "execution_count": null,
   "metadata": {
    "collapsed": true
   },
   "outputs": [],
   "source": [
    "t3_ins = t3.stack().astype(np.uint8)"
   ]
  },
  {
   "cell_type": "code",
   "execution_count": null,
   "metadata": {
    "collapsed": true,
    "scrolled": true
   },
   "outputs": [],
   "source": [
    "t2t = pd.DataFrame(t2)\n",
    "t2t = t2t.rename(columns={p: p + 1 for p in t2t.columns}).stack().astype(np.int)\n",
    "t2t"
   ]
  },
  {
   "cell_type": "code",
   "execution_count": null,
   "metadata": {
    "collapsed": true,
    "scrolled": true
   },
   "outputs": [],
   "source": [
    "t3_ins"
   ]
  }
 ],
 "metadata": {
  "kernelspec": {
   "display_name": "Python 3",
   "language": "python",
   "name": "python3"
  },
  "language_info": {
   "codemirror_mode": {
    "name": "ipython",
    "version": 3
   },
   "file_extension": ".py",
   "mimetype": "text/x-python",
   "name": "python",
   "nbconvert_exporter": "python",
   "pygments_lexer": "ipython3",
   "version": "3.5.2"
  }
 },
 "nbformat": 4,
 "nbformat_minor": 2
}
