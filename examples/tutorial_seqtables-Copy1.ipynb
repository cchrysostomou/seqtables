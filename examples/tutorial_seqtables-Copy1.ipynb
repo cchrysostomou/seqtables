{
 "cells": [
  {
   "cell_type": "markdown",
   "metadata": {},
   "source": [
    "### Examples for working with seqtables with xarray ###"
   ]
  },
  {
   "cell_type": "code",
   "execution_count": 1,
   "metadata": {
    "collapsed": false
   },
   "outputs": [],
   "source": [
    "%load_ext autoreload\n",
    "%autoreload 2"
   ]
  },
  {
   "cell_type": "code",
   "execution_count": 2,
   "metadata": {
    "collapsed": false
   },
   "outputs": [
    {
     "name": "stderr",
     "output_type": "stream",
     "text": [
      "C:\\Anaconda3\\lib\\importlib\\_bootstrap.py:321: FutureWarning: The pandas.tslib module is deprecated and will be removed in a future version.\n",
      "  return f(*args, **kwds)\n"
     ]
    }
   ],
   "source": [
    "import os\n",
    "import sys\n",
    "sys.path.insert(0, '../../')\n",
    "import pandas as pd\n",
    "import numpy as np\n",
    "from seqtables import seq_tables, read_sequences, insilica_sequences"
   ]
  },
  {
   "cell_type": "code",
   "execution_count": 3,
   "metadata": {
    "collapsed": false
   },
   "outputs": [],
   "source": [
    "from sys import getsizeof\n",
    "import time"
   ]
  },
  {
   "cell_type": "code",
   "execution_count": 4,
   "metadata": {
    "collapsed": true
   },
   "outputs": [],
   "source": [
    "def utf8len(s):\n",
    "    return len(s.encode('utf-8'))"
   ]
  },
  {
   "cell_type": "code",
   "execution_count": 5,
   "metadata": {
    "collapsed": false,
    "scrolled": true
   },
   "outputs": [],
   "source": [
    "st, wt_seq = read_sequences.create_scratch_data(10000, 300, ss_pos=[5, 10, 15])"
   ]
  },
  {
   "cell_type": "code",
   "execution_count": 6,
   "metadata": {
    "collapsed": false,
    "scrolled": true
   },
   "outputs": [],
   "source": [
    "sequences = list(st.seq_arr.view('S300').astype('U').squeeze())\n",
    "qualities = list(st.qual_arr.view('S300').astype('U').squeeze())"
   ]
  },
  {
   "cell_type": "code",
   "execution_count": 7,
   "metadata": {
    "collapsed": false,
    "scrolled": true
   },
   "outputs": [],
   "source": [
    "sequences[2] += 'N'\n",
    "qualities[2] +=' !'\n",
    "sequences[3] += 'ACCAAGA' + 'N' * 100\n",
    "qualities[3] += '!!!!!!!' + '!' * 100"
   ]
  },
  {
   "cell_type": "code",
   "execution_count": 8,
   "metadata": {
    "collapsed": false
   },
   "outputs": [],
   "source": [
    "seq_arr = np.array(sequences, dtype='S').view('S1').reshape(len(sequences), -1).view(np.uint8)\n",
    "qual_arr = np.array(qualities, dtype='S').view('S1').reshape(len(qualities), -1).view(np.uint8)\n",
    "seq_arr[seq_arr == 0] = ord('N')\n",
    "qual_arr[qual_arr == 0] = 33"
   ]
  },
  {
   "cell_type": "code",
   "execution_count": 9,
   "metadata": {
    "collapsed": false
   },
   "outputs": [
    {
     "data": {
      "text/plain": [
       "array([['A', 'A', 'G', ..., 'G', 'C', 'C'],\n",
       "       ['A', 'A', 'G', ..., 'G', 'C', 'C'],\n",
       "       ['A', 'A', 'G', ..., 'G', 'C', 'C'],\n",
       "       ..., \n",
       "       ['A', 'A', 'G', ..., 'G', 'C', 'C'],\n",
       "       ['A', 'A', 'G', ..., 'G', 'C', 'C'],\n",
       "       ['A', 'A', 'G', ..., 'G', 'C', 'C']], \n",
       "      dtype='<U1')"
      ]
     },
     "execution_count": 9,
     "metadata": {},
     "output_type": "execute_result"
    }
   ],
   "source": [
    "st.seq_arr.astype('U').view('U1')"
   ]
  },
  {
   "cell_type": "code",
   "execution_count": 10,
   "metadata": {
    "collapsed": false
   },
   "outputs": [],
   "source": [
    "seq_qual_arr = np.dstack([seq_arr, qual_arr - 33])"
   ]
  },
  {
   "cell_type": "code",
   "execution_count": 11,
   "metadata": {
    "collapsed": false,
    "scrolled": true
   },
   "outputs": [],
   "source": [
    "import xarray as xr"
   ]
  },
  {
   "cell_type": "code",
   "execution_count": 24,
   "metadata": {
    "collapsed": false,
    "scrolled": true
   },
   "outputs": [],
   "source": [
    "seq_xarray = xr.DataArray(\n",
    "    seq_arr, \n",
    "    dims=['read', 'position'], \n",
    "    coords={\n",
    "        'position': np.arange(1, seq_qual_arr.shape[1] + 1),\n",
    "    }\n",
    "                    \n",
    ")\n",
    "qual_xarray = xr.DataArray(\n",
    "    qual_arr, \n",
    "    dims=['read', 'position'], \n",
    "    coords={\n",
    "        'position': np.arange(100, 100 + qual_arr.shape[1])\n",
    "    }\n",
    "                    \n",
    ")"
   ]
  },
  {
   "cell_type": "code",
   "execution_count": 29,
   "metadata": {
    "collapsed": false,
    "scrolled": true
   },
   "outputs": [],
   "source": [
    "p1 = seq_xarray.to_dataframe(name='seqs')\n",
    "\n",
    "p2 = qual_xarray.to_dataframe(name='quals')\n",
    "p3 = pd.concat([p1, p2]).stack()"
   ]
  },
  {
   "cell_type": "code",
   "execution_count": 132,
   "metadata": {
    "collapsed": false
   },
   "outputs": [],
   "source": [
    "midx = np.arange(1, seq_qual_arr.shape[1] + 1)\n",
    "midx2 = pd.MultiIndex.from_product([['B'], np.arange(0, qual_arr.shape[1])])"
   ]
  },
  {
   "cell_type": "code",
   "execution_count": 141,
   "metadata": {
    "collapsed": false
   },
   "outputs": [
    {
     "data": {
      "text/plain": [
       "array([], dtype=float64)"
      ]
     },
     "execution_count": 141,
     "metadata": {},
     "output_type": "execute_result"
    }
   ],
   "source": [
    "np.zeros(0)"
   ]
  },
  {
   "cell_type": "code",
   "execution_count": 144,
   "metadata": {
    "collapsed": false,
    "scrolled": true
   },
   "outputs": [
    {
     "ename": "ValueError",
     "evalue": "dimensions ('ref.read', 'ref.position') must have the same length as the number of data dimensions, ndim=1",
     "output_type": "error",
     "traceback": [
      "\u001b[1;31m---------------------------------------------------------------------------\u001b[0m",
      "\u001b[1;31mValueError\u001b[0m                                Traceback (most recent call last)",
      "\u001b[1;32m<ipython-input-144-465bcf8994d5>\u001b[0m in \u001b[0;36m<module>\u001b[1;34m()\u001b[0m\n\u001b[1;32m----> 1\u001b[1;33m \u001b[0mmda\u001b[0m \u001b[1;33m=\u001b[0m \u001b[0mxr\u001b[0m\u001b[1;33m.\u001b[0m\u001b[0mDataArray\u001b[0m\u001b[1;33m(\u001b[0m\u001b[0mnp\u001b[0m\u001b[1;33m.\u001b[0m\u001b[0mzeros\u001b[0m\u001b[1;33m(\u001b[0m\u001b[1;36m0\u001b[0m\u001b[1;33m)\u001b[0m\u001b[1;33m,\u001b[0m \u001b[0mdims\u001b[0m\u001b[1;33m=\u001b[0m\u001b[1;33m[\u001b[0m\u001b[1;34m'ref.read'\u001b[0m\u001b[1;33m,\u001b[0m \u001b[1;34m'ref.position'\u001b[0m\u001b[1;33m]\u001b[0m\u001b[1;33m)\u001b[0m\u001b[1;33m\u001b[0m\u001b[0m\n\u001b[0m\u001b[0;32m      2\u001b[0m \u001b[0mmdb\u001b[0m \u001b[1;33m=\u001b[0m \u001b[0mxr\u001b[0m\u001b[1;33m.\u001b[0m\u001b[0mDataArray\u001b[0m\u001b[1;33m(\u001b[0m\u001b[0mqual_arr\u001b[0m\u001b[1;33m,\u001b[0m \u001b[0mcoords\u001b[0m\u001b[1;33m=\u001b[0m\u001b[1;33m{\u001b[0m\u001b[1;34m'ref.position'\u001b[0m\u001b[1;33m:\u001b[0m \u001b[0mmidx\u001b[0m\u001b[1;33m}\u001b[0m\u001b[1;33m,\u001b[0m \u001b[0mdims\u001b[0m\u001b[1;33m=\u001b[0m\u001b[1;33m[\u001b[0m\u001b[1;34m'ref.read'\u001b[0m\u001b[1;33m,\u001b[0m \u001b[1;34m'ref.position'\u001b[0m\u001b[1;33m]\u001b[0m\u001b[1;33m)\u001b[0m\u001b[1;33m\u001b[0m\u001b[0m\n\u001b[0;32m      3\u001b[0m seq_qual_xarray_set = xr.Dataset(\n\u001b[0;32m      4\u001b[0m     data_vars = {\n\u001b[0;32m      5\u001b[0m         \u001b[1;34m'ref.sequence_table'\u001b[0m\u001b[1;33m:\u001b[0m \u001b[0mmda\u001b[0m\u001b[1;33m,\u001b[0m\u001b[1;33m\u001b[0m\u001b[0m\n",
      "\u001b[1;32mC:\\Anaconda3\\lib\\site-packages\\xarray\\core\\dataarray.py\u001b[0m in \u001b[0;36m__init__\u001b[1;34m(self, data, coords, dims, name, attrs, encoding, fastpath)\u001b[0m\n\u001b[0;32m    221\u001b[0m             \u001b[0mdata\u001b[0m \u001b[1;33m=\u001b[0m \u001b[0mas_compatible_data\u001b[0m\u001b[1;33m(\u001b[0m\u001b[0mdata\u001b[0m\u001b[1;33m)\u001b[0m\u001b[1;33m\u001b[0m\u001b[0m\n\u001b[0;32m    222\u001b[0m             \u001b[0mcoords\u001b[0m\u001b[1;33m,\u001b[0m \u001b[0mdims\u001b[0m \u001b[1;33m=\u001b[0m \u001b[0m_infer_coords_and_dims\u001b[0m\u001b[1;33m(\u001b[0m\u001b[0mdata\u001b[0m\u001b[1;33m.\u001b[0m\u001b[0mshape\u001b[0m\u001b[1;33m,\u001b[0m \u001b[0mcoords\u001b[0m\u001b[1;33m,\u001b[0m \u001b[0mdims\u001b[0m\u001b[1;33m)\u001b[0m\u001b[1;33m\u001b[0m\u001b[0m\n\u001b[1;32m--> 223\u001b[1;33m             \u001b[0mvariable\u001b[0m \u001b[1;33m=\u001b[0m \u001b[0mVariable\u001b[0m\u001b[1;33m(\u001b[0m\u001b[0mdims\u001b[0m\u001b[1;33m,\u001b[0m \u001b[0mdata\u001b[0m\u001b[1;33m,\u001b[0m \u001b[0mattrs\u001b[0m\u001b[1;33m,\u001b[0m \u001b[0mencoding\u001b[0m\u001b[1;33m,\u001b[0m \u001b[0mfastpath\u001b[0m\u001b[1;33m=\u001b[0m\u001b[1;32mTrue\u001b[0m\u001b[1;33m)\u001b[0m\u001b[1;33m\u001b[0m\u001b[0m\n\u001b[0m\u001b[0;32m    224\u001b[0m \u001b[1;33m\u001b[0m\u001b[0m\n\u001b[0;32m    225\u001b[0m         \u001b[1;31m# uncomment for a useful consistency check:\u001b[0m\u001b[1;33m\u001b[0m\u001b[1;33m\u001b[0m\u001b[0m\n",
      "\u001b[1;32mC:\\Anaconda3\\lib\\site-packages\\xarray\\core\\variable.py\u001b[0m in \u001b[0;36m__init__\u001b[1;34m(self, dims, data, attrs, encoding, fastpath)\u001b[0m\n\u001b[0;32m    234\u001b[0m         \"\"\"\n\u001b[0;32m    235\u001b[0m         \u001b[0mself\u001b[0m\u001b[1;33m.\u001b[0m\u001b[0m_data\u001b[0m \u001b[1;33m=\u001b[0m \u001b[0mas_compatible_data\u001b[0m\u001b[1;33m(\u001b[0m\u001b[0mdata\u001b[0m\u001b[1;33m,\u001b[0m \u001b[0mfastpath\u001b[0m\u001b[1;33m=\u001b[0m\u001b[0mfastpath\u001b[0m\u001b[1;33m)\u001b[0m\u001b[1;33m\u001b[0m\u001b[0m\n\u001b[1;32m--> 236\u001b[1;33m         \u001b[0mself\u001b[0m\u001b[1;33m.\u001b[0m\u001b[0m_dims\u001b[0m \u001b[1;33m=\u001b[0m \u001b[0mself\u001b[0m\u001b[1;33m.\u001b[0m\u001b[0m_parse_dimensions\u001b[0m\u001b[1;33m(\u001b[0m\u001b[0mdims\u001b[0m\u001b[1;33m)\u001b[0m\u001b[1;33m\u001b[0m\u001b[0m\n\u001b[0m\u001b[0;32m    237\u001b[0m         \u001b[0mself\u001b[0m\u001b[1;33m.\u001b[0m\u001b[0m_attrs\u001b[0m \u001b[1;33m=\u001b[0m \u001b[1;32mNone\u001b[0m\u001b[1;33m\u001b[0m\u001b[0m\n\u001b[0;32m    238\u001b[0m         \u001b[0mself\u001b[0m\u001b[1;33m.\u001b[0m\u001b[0m_encoding\u001b[0m \u001b[1;33m=\u001b[0m \u001b[1;32mNone\u001b[0m\u001b[1;33m\u001b[0m\u001b[0m\n",
      "\u001b[1;32mC:\\Anaconda3\\lib\\site-packages\\xarray\\core\\variable.py\u001b[0m in \u001b[0;36m_parse_dimensions\u001b[1;34m(self, dims)\u001b[0m\n\u001b[0;32m    343\u001b[0m             raise ValueError('dimensions %s must have the same length as the '\n\u001b[0;32m    344\u001b[0m                              \u001b[1;34m'number of data dimensions, ndim=%s'\u001b[0m\u001b[1;33m\u001b[0m\u001b[0m\n\u001b[1;32m--> 345\u001b[1;33m                              % (dims, self.ndim))\n\u001b[0m\u001b[0;32m    346\u001b[0m         \u001b[1;32mreturn\u001b[0m \u001b[0mdims\u001b[0m\u001b[1;33m\u001b[0m\u001b[0m\n\u001b[0;32m    347\u001b[0m \u001b[1;33m\u001b[0m\u001b[0m\n",
      "\u001b[1;31mValueError\u001b[0m: dimensions ('ref.read', 'ref.position') must have the same length as the number of data dimensions, ndim=1"
     ]
    }
   ],
   "source": [
    "mda = xr.DataArray(seq_arr, coords={'ref.position': midx, 'ref.read': []}, dims=['ref.read', 'ref.position'])\n",
    "mdb = xr.DataArray(qual_arr, coords={'ref.position': midx}, dims=['ref.read', 'ref.position'])\n",
    "seq_qual_xarray_set = xr.Dataset(\n",
    "    data_vars = {\n",
    "        'ref.sequence_table': mda,\n",
    "        'ref.quality_table': mdb,\n",
    "        'ref.insertion_table': []\n",
    "    }\n",
    ")"
   ]
  },
  {
   "cell_type": "code",
   "execution_count": null,
   "metadata": {
    "collapsed": true
   },
   "outputs": [],
   "source": []
  },
  {
   "cell_type": "code",
   "execution_count": 134,
   "metadata": {
    "collapsed": false
   },
   "outputs": [
    {
     "data": {
      "text/plain": [
       "<xarray.Dataset>\n",
       "Dimensions:              (ref.insertion_table: 0, ref.position: 407, ref.read: 10000)\n",
       "Coordinates:\n",
       "  * ref.position         (ref.position) int32 1 2 3 4 5 6 7 8 9 10 11 12 13 ...\n",
       "  * ref.insertion_table  (ref.insertion_table) float64 \n",
       "Dimensions without coordinates: ref.read\n",
       "Data variables:\n",
       "    ref.quality_table    (ref.read, ref.position) uint8 68 68 58 68 73 68 68 ...\n",
       "    ref.sequence_table   (ref.read, ref.position) uint8 65 65 71 67 65 84 84 ..."
      ]
     },
     "execution_count": 134,
     "metadata": {},
     "output_type": "execute_result"
    }
   ],
   "source": [
    "seq_qual_xarray_set"
   ]
  },
  {
   "cell_type": "code",
   "execution_count": 18,
   "metadata": {
    "collapsed": false
   },
   "outputs": [],
   "source": [
    "seq_qual_xarray_set = xr.Dataset(\n",
    "    data_vars = {\n",
    "        'seq_array': seq_xarray,\n",
    "        'qual_array': qual_xarray,\n",
    "        'insertion_table': []\n",
    "    }\n",
    ")"
   ]
  },
  {
   "cell_type": "code",
   "execution_count": 24,
   "metadata": {
    "collapsed": true
   },
   "outputs": [],
   "source": [
    "seq_qual_xarray_set = xr.Dataset(\n",
    "    data_vars = {\n",
    "        'reference_table': seq_qual_xarray, \n",
    "        'insertion_table': []\n",
    "    }\n",
    ")"
   ]
  },
  {
   "cell_type": "code",
   "execution_count": 50,
   "metadata": {
    "collapsed": false
   },
   "outputs": [
    {
     "data": {
      "text/plain": [
       "array([], shape=(0, 0), dtype=float64)"
      ]
     },
     "execution_count": 50,
     "metadata": {},
     "output_type": "execute_result"
    }
   ],
   "source": [
    "tmp = np.array([]).reshape(0,0)\n",
    "tmp"
   ]
  },
  {
   "cell_type": "code",
   "execution_count": 21,
   "metadata": {
    "collapsed": false
   },
   "outputs": [
    {
     "data": {
      "text/plain": [
       "<xarray.Dataset>\n",
       "Dimensions:          (insertion_table: 0, position: 407, read: 10000, seqlet_qual: 2)\n",
       "Coordinates:\n",
       "  * seqlet_qual      (seqlet_qual) <U13 'seq_letter' 'quality_score'\n",
       "  * position         (position) int32 1 2 3 4 5 6 7 8 9 10 11 12 13 14 15 16 ...\n",
       "  * insertion_table  (insertion_table) float64 \n",
       "Dimensions without coordinates: read\n",
       "Data variables:\n",
       "    reference_table  (read, position, seqlet_qual) uint8 71 35 71 35 65 30 ..."
      ]
     },
     "execution_count": 21,
     "metadata": {},
     "output_type": "execute_result"
    }
   ],
   "source": [
    "seq_qual_xarray_set"
   ]
  },
  {
   "cell_type": "code",
   "execution_count": null,
   "metadata": {
    "collapsed": true
   },
   "outputs": [],
   "source": []
  },
  {
   "cell_type": "code",
   "execution_count": 122,
   "metadata": {
    "collapsed": false
   },
   "outputs": [
    {
     "data": {
      "text/plain": [
       "array([[b'G', b'G', b'G', b'T', b'T'],\n",
       "       [b'G', b'G', b'G', b'T', b'C'],\n",
       "       [b'G', b'G', b'G', b'T', b'G']], \n",
       "      dtype='|S1')"
      ]
     },
     "execution_count": 122,
     "metadata": {},
     "output_type": "execute_result"
    }
   ],
   "source": [
    "seq_qual_xarray[0:3, 0:5, 0].values.view('S1')"
   ]
  },
  {
   "cell_type": "code",
   "execution_count": 52,
   "metadata": {
    "collapsed": false
   },
   "outputs": [
    {
     "data": {
      "text/plain": [
       "5140000"
      ]
     },
     "execution_count": 52,
     "metadata": {},
     "output_type": "execute_result"
    }
   ],
   "source": [
    "seq_arr.nbytes"
   ]
  },
  {
   "cell_type": "code",
   "execution_count": 41,
   "metadata": {
    "collapsed": false
   },
   "outputs": [
    {
     "name": "stdout",
     "output_type": "stream",
     "text": [
      "100 loops, best of 3: 6.05 ms per loop\n"
     ]
    }
   ],
   "source": [
    "%timeit seq_arr[seq_arr.view(np.uint8) == 0] = 'X'"
   ]
  },
  {
   "cell_type": "code",
   "execution_count": 42,
   "metadata": {
    "collapsed": false
   },
   "outputs": [
    {
     "data": {
      "text/plain": [
       "array([[b'G', b'G', b'G', ..., b'X', b'X', b'X'],\n",
       "       [b'G', b'G', b'G', ..., b'X', b'X', b'X'],\n",
       "       [b'G', b'G', b'G', ..., b'X', b'X', b'X'],\n",
       "       ..., \n",
       "       [b'G', b'G', b'G', ..., b'X', b'X', b'X'],\n",
       "       [b'G', b'G', b'G', ..., b'X', b'X', b'X'],\n",
       "       [b'G', b'G', b'G', ..., b'X', b'X', b'X']], \n",
       "      dtype='|S1')"
      ]
     },
     "execution_count": 42,
     "metadata": {},
     "output_type": "execute_result"
    }
   ],
   "source": [
    "seq_arr"
   ]
  },
  {
   "cell_type": "code",
   "execution_count": 27,
   "metadata": {
    "collapsed": false
   },
   "outputs": [
    {
     "name": "stdout",
     "output_type": "stream",
     "text": [
      "The slowest run took 38.49 times longer than the fastest. This could mean that an intermediate result is being cached.\n",
      "1000000 loops, best of 3: 661 ns per loop\n"
     ]
    }
   ],
   "source": [
    "%timeit seq_arr.view(np.uint8)"
   ]
  },
  {
   "cell_type": "code",
   "execution_count": 37,
   "metadata": {
    "collapsed": false,
    "scrolled": true
   },
   "outputs": [
    {
     "data": {
      "text/plain": [
       "array([[b'A', b'C', b'C', b'G', b'A', b'C', b'C', b'G', b'T', b'A', b'C',\n",
       "        b'T', b'G', b'C', b'T', b'G', b'T', b'C', b'T', b'T', b'A', b'A',\n",
       "        b'A', b'T', b'A', b'T', b'T', b'A', b'T', b'A', b'T', b'A', b'T',\n",
       "        b'C', b'A', b'T', b'G', b'A', b'C', b'T', b'T', b'G', b'C', b'T',\n",
       "        b'A', b'A', b'A', b'T', b'G', b'C', b'G', b'G', b'T', b'A', b'T',\n",
       "        b'C', b'A', b'T', b'T', b'A', b'C', b'G', b'A', b'A', b'T', b'C',\n",
       "        b'C', b'A', b'G', b'T', b'G', b'G', b'G', b'C', b'G', b'G', b'G',\n",
       "        b'A', b'A', b'C', b'C', b'G', b'T', b'G', b'T', b'G', b'T', b'A',\n",
       "        b'A', b'G', b'G', b'C', b'G', b'C', b'G', b'C', b'C', b'A', b'C',\n",
       "        b'C', b'C', b'G', b'G', b'G', b'T', b'T', b'A', b'T', b'A', b'G',\n",
       "        b'A', b'G', b'C', b'G', b'C', b'A', b'G', b'C', b'T', b'A', b'T',\n",
       "        b'T', b'T', b'G', b'G', b'C', b'T', b'T', b'A', b'G', b'G', b'G',\n",
       "        b'C', b'T', b'G', b'A', b'C', b'C', b'A', b'G', b'G', b'T', b'C',\n",
       "        b'C', b'T', b'G', b'C', b'A', b'C', b'T', b'G', b'T', b'A', b'A',\n",
       "        b'C', b'G', b'T', b'A', b'G', b'C', b'A', b'C', b'A', b'A', b'G',\n",
       "        b'A', b'C', b'T', b'A', b'G', b'C', b'T', b'C', b'A', b'T', b'G',\n",
       "        b'C', b'G', b'G', b'T', b'G', b'C', b'A', b'A', b'C', b'C', b'G',\n",
       "        b'C', b'A', b'G', b'A', b'G', b'C', b'T', b'A', b'T', b'G', b'T',\n",
       "        b'G', b'C', b'A', b'C', b'G', b'C', b'T', b'T', b'G', b'A', b'C',\n",
       "        b'T', b'A', b'A', b'T', b'T', b'A', b'A', b'C', b'T', b'A', b'T',\n",
       "        b'C', b'G', b'G', b'G', b'T', b'G', b'G', b'T', b'C', b'G', b'G',\n",
       "        b'G', b'T', b'C', b'C', b'A', b'G', b'A', b'C', b'A', b'A', b'A',\n",
       "        b'A', b'A', b'A', b'T', b'T', b'T', b'G', b'C', b'T', b'C', b'A',\n",
       "        b'C', b'G', b'A', b'C', b'A', b'G', b'T', b'A', b'C', b'T', b'A',\n",
       "        b'G', b'G', b'C', b'A', b'A', b'T', b'T', b'G', b'T', b'G', b'A',\n",
       "        b'G', b'C', b'G', b'C', b'C', b'C', b'G', b'G', b'A', b'G', b'C',\n",
       "        b'T', b'T', b'G', b'T', b'T', b'C', b'C', b'A', b'C', b'C', b'T',\n",
       "        b'C', b'G', b'C', b'N', b'', b'', b'', b'', b'', b''],\n",
       "       [b'A', b'C', b'C', b'G', b'T', b'C', b'C', b'G', b'T', b'A', b'C',\n",
       "        b'T', b'G', b'C', b'T', b'G', b'T', b'C', b'T', b'T', b'A', b'A',\n",
       "        b'A', b'T', b'A', b'T', b'T', b'A', b'T', b'A', b'A', b'A', b'T',\n",
       "        b'C', b'A', b'T', b'G', b'A', b'C', b'T', b'T', b'G', b'C', b'T',\n",
       "        b'A', b'A', b'A', b'T', b'G', b'C', b'G', b'G', b'T', b'A', b'T',\n",
       "        b'C', b'A', b'T', b'T', b'A', b'C', b'G', b'A', b'A', b'T', b'C',\n",
       "        b'C', b'A', b'G', b'T', b'G', b'G', b'G', b'C', b'G', b'G', b'G',\n",
       "        b'A', b'A', b'C', b'C', b'G', b'T', b'G', b'T', b'A', b'T', b'A',\n",
       "        b'A', b'G', b'G', b'C', b'G', b'C', b'G', b'C', b'C', b'A', b'C',\n",
       "        b'C', b'C', b'G', b'G', b'G', b'T', b'T', b'A', b'T', b'A', b'G',\n",
       "        b'A', b'G', b'C', b'G', b'C', b'A', b'G', b'C', b'T', b'A', b'T',\n",
       "        b'T', b'T', b'G', b'G', b'C', b'T', b'T', b'A', b'G', b'G', b'G',\n",
       "        b'C', b'T', b'G', b'A', b'C', b'C', b'A', b'G', b'G', b'T', b'G',\n",
       "        b'C', b'T', b'T', b'C', b'A', b'C', b'T', b'G', b'T', b'A', b'A',\n",
       "        b'C', b'G', b'T', b'A', b'G', b'C', b'A', b'C', b'A', b'A', b'G',\n",
       "        b'G', b'C', b'T', b'A', b'G', b'C', b'T', b'C', b'A', b'T', b'G',\n",
       "        b'C', b'G', b'A', b'T', b'G', b'C', b'A', b'A', b'C', b'C', b'G',\n",
       "        b'C', b'A', b'G', b'A', b'G', b'C', b'T', b'A', b'T', b'G', b'T',\n",
       "        b'G', b'C', b'A', b'C', b'G', b'C', b'T', b'T', b'G', b'A', b'C',\n",
       "        b'T', b'A', b'A', b'T', b'T', b'A', b'A', b'C', b'T', b'A', b'T',\n",
       "        b'C', b'G', b'G', b'G', b'T', b'G', b'G', b'T', b'C', b'G', b'G',\n",
       "        b'G', b'T', b'C', b'C', b'A', b'G', b'A', b'C', b'A', b'A', b'A',\n",
       "        b'A', b'A', b'A', b'T', b'T', b'T', b'G', b'C', b'T', b'C', b'A',\n",
       "        b'C', b'G', b'C', b'C', b'A', b'G', b'T', b'A', b'C', b'T', b'A',\n",
       "        b'G', b'G', b'C', b'A', b'A', b'T', b'T', b'G', b'T', b'G', b'A',\n",
       "        b'G', b'C', b'G', b'C', b'C', b'C', b'G', b'C', b'T', b'G', b'C',\n",
       "        b'T', b'T', b'G', b'T', b'T', b'C', b'C', b'A', b'C', b'C', b'T',\n",
       "        b'C', b'G', b'C', b'A', b'C', b'C', b'A', b'A', b'G', b'A'],\n",
       "       [b'A', b'C', b'C', b'G', b'G', b'C', b'G', b'G', b'T', b'C', b'C',\n",
       "        b'T', b'G', b'C', b'T', b'G', b'T', b'C', b'T', b'T', b'A', b'A',\n",
       "        b'A', b'T', b'A', b'T', b'T', b'A', b'T', b'A', b'A', b'A', b'T',\n",
       "        b'C', b'A', b'T', b'G', b'A', b'C', b'T', b'T', b'G', b'C', b'T',\n",
       "        b'A', b'A', b'A', b'T', b'G', b'C', b'G', b'G', b'T', b'A', b'T',\n",
       "        b'C', b'A', b'T', b'T', b'A', b'C', b'G', b'A', b'A', b'T', b'G',\n",
       "        b'C', b'A', b'G', b'T', b'G', b'G', b'G', b'C', b'G', b'G', b'G',\n",
       "        b'A', b'A', b'C', b'C', b'G', b'T', b'G', b'T', b'A', b'T', b'A',\n",
       "        b'A', b'G', b'G', b'C', b'G', b'C', b'G', b'C', b'C', b'A', b'C',\n",
       "        b'C', b'C', b'G', b'G', b'G', b'T', b'T', b'A', b'T', b'A', b'T',\n",
       "        b'A', b'G', b'C', b'G', b'C', b'A', b'G', b'C', b'T', b'A', b'T',\n",
       "        b'T', b'T', b'G', b'G', b'C', b'T', b'T', b'A', b'G', b'G', b'G',\n",
       "        b'C', b'T', b'G', b'A', b'C', b'C', b'A', b'G', b'G', b'T', b'C',\n",
       "        b'C', b'T', b'G', b'C', b'A', b'C', b'T', b'G', b'T', b'A', b'A',\n",
       "        b'C', b'G', b'T', b'A', b'G', b'C', b'A', b'C', b'A', b'A', b'G',\n",
       "        b'G', b'C', b'T', b'A', b'G', b'C', b'T', b'C', b'A', b'T', b'G',\n",
       "        b'C', b'G', b'G', b'T', b'G', b'C', b'A', b'A', b'C', b'C', b'G',\n",
       "        b'C', b'A', b'G', b'A', b'G', b'C', b'T', b'A', b'T', b'G', b'T',\n",
       "        b'G', b'C', b'A', b'C', b'G', b'C', b'T', b'T', b'G', b'A', b'C',\n",
       "        b'T', b'A', b'A', b'T', b'T', b'A', b'A', b'C', b'T', b'A', b'T',\n",
       "        b'C', b'G', b'G', b'G', b'T', b'G', b'A', b'T', b'C', b'G', b'G',\n",
       "        b'G', b'T', b'C', b'C', b'A', b'G', b'A', b'C', b'A', b'A', b'A',\n",
       "        b'A', b'A', b'A', b'T', b'T', b'T', b'G', b'C', b'T', b'C', b'A',\n",
       "        b'C', b'G', b'C', b'C', b'A', b'G', b'T', b'A', b'C', b'T', b'A',\n",
       "        b'G', b'G', b'C', b'A', b'A', b'T', b'T', b'G', b'T', b'G', b'A',\n",
       "        b'G', b'C', b'G', b'C', b'C', b'C', b'G', b'C', b'A', b'G', b'C',\n",
       "        b'T', b'T', b'G', b'T', b'T', b'C', b'C', b'A', b'C', b'C', b'T',\n",
       "        b'C', b'G', b'C', b'', b'', b'', b'', b'', b'', b'']], \n",
       "      dtype='|S1')"
      ]
     },
     "execution_count": 37,
     "metadata": {},
     "output_type": "execute_result"
    }
   ],
   "source": [
    "seqarr.view('S1').reshape(len(sequences), -1)[2:5]"
   ]
  }
 ],
 "metadata": {
  "kernelspec": {
   "display_name": "Python 3",
   "language": "python",
   "name": "python3"
  },
  "language_info": {
   "codemirror_mode": {
    "name": "ipython",
    "version": 3
   },
   "file_extension": ".py",
   "mimetype": "text/x-python",
   "name": "python",
   "nbconvert_exporter": "python",
   "pygments_lexer": "ipython3",
   "version": "3.4.5"
  }
 },
 "nbformat": 4,
 "nbformat_minor": 0
}
