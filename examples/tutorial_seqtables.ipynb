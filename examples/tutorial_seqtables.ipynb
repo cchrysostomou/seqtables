{
 "cells": [
  {
   "cell_type": "markdown",
   "metadata": {},
   "source": [
    "### Examples for working with seqtables ###"
   ]
  },
  {
   "cell_type": "code",
   "execution_count": 1,
   "metadata": {
    "collapsed": false
   },
   "outputs": [],
   "source": [
    "%load_ext autoreload\n",
    "%autoreload 2"
   ]
  },
  {
   "cell_type": "code",
   "execution_count": 2,
   "metadata": {
    "collapsed": false
   },
   "outputs": [
    {
     "name": "stderr",
     "output_type": "stream",
     "text": [
      "C:\\Anaconda3\\lib\\importlib\\_bootstrap.py:321: FutureWarning:\n",
      "\n",
      "The pandas.tslib module is deprecated and will be removed in a future version.\n",
      "\n"
     ]
    }
   ],
   "source": [
    "import os\n",
    "import sys\n",
    "sys.path.insert(0, '../../')\n",
    "import pandas as pd\n",
    "import numpy as np\n",
    "from __future__ import absolute_import\n",
    "from seqtables import seqtables\n",
    "from seqtables.utils.insilica_sequences import generate_sequence\n",
    "from seqtables.io import create_scratch_data"
   ]
  },
  {
   "cell_type": "code",
   "execution_count": 3,
   "metadata": {
    "collapsed": false
   },
   "outputs": [],
   "source": [
    "from sys import getsizeof\n",
    "import time"
   ]
  },
  {
   "cell_type": "code",
   "execution_count": 4,
   "metadata": {
    "collapsed": true
   },
   "outputs": [],
   "source": [
    "def utf8len(s):\n",
    "    return len(s.encode('utf-8'))"
   ]
  },
  {
   "cell_type": "markdown",
   "metadata": {},
   "source": [
    "** Creating seqtables **"
   ]
  },
  {
   "cell_type": "markdown",
   "metadata": {},
   "source": [
    "The following shows how to create seqtables via fastq\n",
    "\n",
    "*Note: Simlarly to read_fastq function, there is a read_sam function that loads results from a samfile into seqtable(refer to doc)*"
   ]
  },
  {
   "cell_type": "code",
   "execution_count": null,
   "metadata": {
    "collapsed": false
   },
   "outputs": [],
   "source": [
    "# read a fastq file (using biopython) into as a seqtable (not as useful usually as using a prealigned sam file)\n",
    "t1 = time.time()\n",
    "st = read_sequences.read_fastq('../tests/files/r1.fastq', use_pandas=False)\n",
    "t2 = time.time()\n",
    "print(t2-t1)"
   ]
  },
  {
   "cell_type": "code",
   "execution_count": null,
   "metadata": {
    "collapsed": false
   },
   "outputs": [],
   "source": [
    "# read the same file except using pd.read_csv rather than biopython\n",
    "\n",
    "t1 = time.time()\n",
    "st = read_sequences.read_fastq('../tests/files/r1.fastq', use_pandas=True)\n",
    "t2 = time.time()\n",
    "print(t2-t1)"
   ]
  },
  {
   "cell_type": "markdown",
   "metadata": {},
   "source": [
    "We also can create a seqtable by passing in a list of sequences and or qualities"
   ]
  },
  {
   "cell_type": "code",
   "execution_count": null,
   "metadata": {
    "collapsed": false,
    "scrolled": true
   },
   "outputs": [],
   "source": [
    "sttmp = seq_tables.seqtable(\n",
    "    ['AACCAAAGGA', 'AAAAAAAA', 'AAATTGAAAGA'], \n",
    "    qualitydata=['AAGCA?AGGA', '/ABAAAEA', 'FAA?T[GAAGA' ],\n",
    ")\n",
    "sttmp"
   ]
  },
  {
   "cell_type": "markdown",
   "metadata": {},
   "source": [
    "Finally for test purposes we can simply create some fake data to work with seqtables\n",
    "\n",
    "*Fake data will be site-saturated at positions 5, 10, and 15*"
   ]
  },
  {
   "cell_type": "code",
   "execution_count": 5,
   "metadata": {
    "collapsed": false,
    "scrolled": true
   },
   "outputs": [],
   "source": [
    "seqs, quals, wt_seq = create_scratch_data(10000, 300, ss_pos=[5, 10, 15])"
   ]
  },
  {
   "cell_type": "code",
   "execution_count": 6,
   "metadata": {
    "collapsed": false
   },
   "outputs": [
    {
     "data": {
      "text/plain": [
       "'TAACTTAGACGGCGTGCGGTGGACGCATACGTGAAAAGTCTTGGTGATGCGATCGGAAGTCCCAACAGTCAAGGAATCGAACTGATTTGGCTGCACAGGTGGCCTCTGACCTTCCGCCCCGCGGCTGCGTCCAAAGATGTCAGTGCTTGCGAAAACGGAACCGTCCAAGCCCATCACCCAAGAAAAGGGGAACTAAACCCCCTCCTCAAATTGCCCACGCCTCTCTCCCACCCGTCGAGGACGGTACGGACCCTACGATTACTCAGGACTAGGCGTGGTTGCCCCGGGGTAGAAGGTATA'"
      ]
     },
     "execution_count": 6,
     "metadata": {},
     "output_type": "execute_result"
    }
   ],
   "source": [
    "# reference sequence we made\n",
    "wt_seq"
   ]
  },
  {
   "cell_type": "code",
   "execution_count": null,
   "metadata": {
    "collapsed": false
   },
   "outputs": [],
   "source": [
    "tmp = np.array(list(seqs), dtype='S').view('S1').reshape(len(seqs), -1)"
   ]
  },
  {
   "cell_type": "code",
   "execution_count": null,
   "metadata": {
    "collapsed": false
   },
   "outputs": [],
   "source": [
    "tmp[:20]"
   ]
  },
  {
   "cell_type": "code",
   "execution_count": null,
   "metadata": {
    "collapsed": true
   },
   "outputs": [],
   "source": []
  },
  {
   "cell_type": "markdown",
   "metadata": {},
   "source": [
    "** Working with quality scores **"
   ]
  },
  {
   "cell_type": "markdown",
   "metadata": {},
   "source": [
    "**Plotting data**"
   ]
  },
  {
   "cell_type": "markdown",
   "metadata": {},
   "source": [
    "Using plotly, we can plot how the quality scores are distributed across the sequence data. Similarly to fastqc, we can define bins for grouping together regions in the sequence and generate box plots of the median quality scores in each bin"
   ]
  },
  {
   "cell_type": "code",
   "execution_count": null,
   "metadata": {
    "collapsed": false
   },
   "outputs": [],
   "source": [
    "t1 = time.time()\n",
    "qual_dists_plots, qual_dist_df, qual_dist_stats = st.get_quality_dist()\n",
    "t2 = time.time()\n",
    "t2-t1"
   ]
  },
  {
   "cell_type": "markdown",
   "metadata": {},
   "source": [
    "The second element returned by the function get_quality_dist returns an aggregated dataframe where each row represents a quantile defined by the user and each column represents the bins used to merge the data (i.e. 255-259 means that quality scores at base positions 255 to 259 were merged together before getting the descriptive statistics)"
   ]
  },
  {
   "cell_type": "code",
   "execution_count": null,
   "metadata": {
    "collapsed": false
   },
   "outputs": [],
   "source": [
    "qual_dist_df"
   ]
  },
  {
   "cell_type": "markdown",
   "metadata": {},
   "source": [
    "The last element returned by the function get_quality_dist returns an aggregated dataframe where each row represents a descriptive statistic and each column represents the bins used to merge the data (i.e. 255-259 means that quality scores at base positions 255 to 259 were merged together before getting the descriptive statistics)\n",
    "\n",
    "The statistics it returns are:\n",
    "1. min value in a bin\n",
    "2. max value in a bin\n",
    "3. mean quality score of bin\n",
    "4. median quality score of bin"
   ]
  },
  {
   "cell_type": "code",
   "execution_count": null,
   "metadata": {
    "collapsed": false
   },
   "outputs": [],
   "source": [
    "qual_dist_stats"
   ]
  },
  {
   "cell_type": "code",
   "execution_count": null,
   "metadata": {
    "collapsed": false
   },
   "outputs": [],
   "source": [
    "from plotly.offline import iplot, init_notebook_mode\n",
    "import plotly.graph_objs as go\n",
    "init_notebook_mode()"
   ]
  },
  {
   "cell_type": "markdown",
   "metadata": {},
   "source": [
    "The first element returned by get_quality_dist is a list of box plot information that can be used by plotly to generate interactive plots"
   ]
  },
  {
   "cell_type": "code",
   "execution_count": null,
   "metadata": {
    "collapsed": false
   },
   "outputs": [],
   "source": [
    "qual_dists_plots"
   ]
  },
  {
   "cell_type": "code",
   "execution_count": null,
   "metadata": {
    "collapsed": false
   },
   "outputs": [],
   "source": [
    "iplot(qual_dists_plots)"
   ]
  },
  {
   "cell_type": "markdown",
   "metadata": {
    "collapsed": true
   },
   "source": [
    "** Removing low quality bases **"
   ]
  },
  {
   "cell_type": "markdown",
   "metadata": {},
   "source": [
    "Seqtables can keep track of both base and quality score at a given position"
   ]
  },
  {
   "cell_type": "code",
   "execution_count": null,
   "metadata": {
    "collapsed": false
   },
   "outputs": [],
   "source": [
    "#bases\n",
    "st.seq_table.values.view('S1')"
   ]
  },
  {
   "cell_type": "code",
   "execution_count": null,
   "metadata": {
    "collapsed": false
   },
   "outputs": [],
   "source": [
    "# corresponding qualities\n",
    "st.qual_table.values"
   ]
  },
  {
   "cell_type": "markdown",
   "metadata": {},
   "source": [
    "Because each index position within the table are connected, we can easily convert low quality bases to N by matching the two tables\n",
    "\n",
    "Lets convert all bases lower than 20 to N"
   ]
  },
  {
   "cell_type": "code",
   "execution_count": null,
   "metadata": {
    "collapsed": true
   },
   "outputs": [],
   "source": [
    "st.convert_low_bases_to_null(q=20, replace_with='N', inplace=True)"
   ]
  },
  {
   "cell_type": "markdown",
   "metadata": {},
   "source": [
    "Lets see how many low quality bases we generated at each position"
   ]
  },
  {
   "cell_type": "code",
   "execution_count": null,
   "metadata": {
    "collapsed": false,
    "scrolled": true
   },
   "outputs": [],
   "source": [
    "total_n_by_pos = (st.seq_table == ord('N')).sum(axis=0)\n",
    "total_n_by_pos"
   ]
  },
  {
   "cell_type": "code",
   "execution_count": null,
   "metadata": {
    "collapsed": false
   },
   "outputs": [],
   "source": [
    "iplot([go.Scatter(x=st.seq_table.columns, y=total_n_by_pos.values)])"
   ]
  },
  {
   "cell_type": "markdown",
   "metadata": {},
   "source": [
    "*Note we could have gotten same answer if we just looked at the qual_table*"
   ]
  },
  {
   "cell_type": "code",
   "execution_count": null,
   "metadata": {
    "collapsed": false
   },
   "outputs": [],
   "source": [
    "low_qual_by_pos = (st.qual_table < 20).sum(axis=0)\n",
    "iplot([go.Scatter(x=st.seq_table.columns, y=low_qual_by_pos.values)])"
   ]
  },
  {
   "cell_type": "markdown",
   "metadata": {},
   "source": [
    "**Sequence logos **\n",
    "\n",
    "We can also generate sequence logos or the distribution of sequences at each position\n",
    "\n",
    "In this example we can see the positions used for a site-saturation library at base positions, 5, 10, and 15"
   ]
  },
  {
   "cell_type": "code",
   "execution_count": null,
   "metadata": {
    "collapsed": false
   },
   "outputs": [],
   "source": [
    "iplot(st.seq_logo()[0])"
   ]
  },
  {
   "cell_type": "markdown",
   "metadata": {},
   "source": [
    "Most of the common metrics used to look at diversity at a given position should be available"
   ]
  },
  {
   "cell_type": "code",
   "execution_count": null,
   "metadata": {
    "collapsed": false
   },
   "outputs": [],
   "source": [
    "st.get_seq_dist(method='counts')"
   ]
  },
  {
   "cell_type": "code",
   "execution_count": null,
   "metadata": {
    "collapsed": false
   },
   "outputs": [],
   "source": [
    "# using frequency\n",
    "st.get_seq_dist(method='freq', ignore_characters='N')"
   ]
  },
  {
   "cell_type": "code",
   "execution_count": null,
   "metadata": {
    "collapsed": false
   },
   "outputs": [],
   "source": [
    "# using entropy/bits\n",
    "st.get_seq_dist(method='bits', ignore_characters='N')"
   ]
  },
  {
   "cell_type": "markdown",
   "metadata": {},
   "source": [
    "** Analyzing sequences to a reference **\n",
    "\n",
    "Seqtables was created mainly for situations where one wanted to observe how variants within a set differed from a reference. For example, in protein engineering experiments where we create a set of variants from a scaffold or in immunological experiments where one wants to see how the framework or cdr regions evolved from germline\n",
    "\n",
    "The following will show some really simple examples for looking at select mutations that perform better than using functions such as distance.hamming"
   ]
  },
  {
   "cell_type": "markdown",
   "metadata": {},
   "source": [
    "**Mutation profile**\n",
    "\n",
    "First we can check whether there are any biases in the types of mutations we observed (i.e. is there a bias for A->C mutations?)"
   ]
  },
  {
   "cell_type": "code",
   "execution_count": null,
   "metadata": {
    "collapsed": false
   },
   "outputs": [],
   "source": [
    "st.mutation_profile(wt_seq)"
   ]
  },
  {
   "cell_type": "code",
   "execution_count": null,
   "metadata": {
    "collapsed": false
   },
   "outputs": [],
   "source": [
    "wt_seq"
   ]
  },
  {
   "cell_type": "markdown",
   "metadata": {},
   "source": [
    "We can also aggregate the above mutation profile even more and only look for transition or transversion mutations"
   ]
  },
  {
   "cell_type": "code",
   "execution_count": null,
   "metadata": {
    "collapsed": false
   },
   "outputs": [],
   "source": [
    "#returns => (ratio of TS/TV freq, ts freq, tv freq)\n",
    "st.mutation_TS_TV_profile(wt_seq)"
   ]
  },
  {
   "cell_type": "markdown",
   "metadata": {},
   "source": [
    "** Where mutations occur **\n",
    "\n",
    "In addition we can plot where mutations occur with regard to the reference sequence\n"
   ]
  },
  {
   "cell_type": "code",
   "execution_count": null,
   "metadata": {
    "collapsed": false
   },
   "outputs": [],
   "source": [
    "diff_table = st.compare_to_reference(wt_seq, flip=True, ignore_characters=['N'])\n",
    "iplot(go.Figure(\n",
    "        data=[go.Scatter(x=st.seq_table.columns, y=diff_table.sum(axis=0))],\n",
    "        layout=go.Layout(\n",
    "            xaxis=dict(title='base position'),\n",
    "            yaxis=dict(title='Mutation counts')\n",
    "        )\n",
    "))"
   ]
  },
  {
   "cell_type": "markdown",
   "metadata": {},
   "source": [
    "** Hamming distance **\n",
    "\n",
    "In the test data above we created a library within an error prone rate of 0.01 and 3 positions of site saturation. So we can look at the distribution of hamming distance for each sequence\n",
    "\n",
    "*Another added benefit of using seqtables rather than distance.hamming is we can explicitly define characters we do not want to include when calculating percent of mutations or characters we want to force to always be equal to the wildtype sequence*\n"
   ]
  },
  {
   "cell_type": "code",
   "execution_count": null,
   "metadata": {
    "collapsed": false,
    "scrolled": true
   },
   "outputs": [],
   "source": [
    "mut_freq_per_seq = st.hamming_distance(wt_seq, ignore_characters=['N'], normalized=True)"
   ]
  },
  {
   "cell_type": "code",
   "execution_count": null,
   "metadata": {
    "collapsed": false,
    "scrolled": true
   },
   "outputs": [],
   "source": [
    "iplot(go.Figure(\n",
    "        data=[go.Histogram(x=mut_freq_per_seq.values)],\n",
    "    layout=go.Layout(title='Histogram of mutated bases per sequence')))"
   ]
  },
  {
   "cell_type": "markdown",
   "metadata": {},
   "source": [
    "**Sequence substrings**\n",
    "\n",
    "Often we are interested in only a specific region within a sequence. This is especially true when considering site-saturated libraries. In our example above we generated a library where we saturated 3 positions with ACTorG (N). \n"
   ]
  },
  {
   "cell_type": "markdown",
   "metadata": {},
   "source": [
    "We can slice the data and only extract those regions of interest"
   ]
  },
  {
   "cell_type": "code",
   "execution_count": null,
   "metadata": {
    "collapsed": false,
    "scrolled": true
   },
   "outputs": [],
   "source": [
    "st.slice_sequences(positions=[5, 10, 15])"
   ]
  },
  {
   "cell_type": "markdown",
   "metadata": {},
   "source": [
    "Next consider a situation in which we create a site saturated library at 15 positions. In this example, the library size is much too large to have sampled every possible combination of bases. However a more likely situtation is one where we can easily observe all possible combinations of ** *3 positions* within the 15 available positions**\n",
    "\n",
    "In other words, we know that we can easily observe how the distribution of individual positions within the 15 where biased and selected for in the library (that is ** *1 position within the 15* **), but it would also be useful to detect *linked mutations* or situations where a specific set of 3 bases were more biased than others\n",
    "\n",
    "This is where the function *get_substrings* comes in. Rather than consider each base position independently, it will calculate the occurrence of each unique substring possible within the sequences provided. The total number of possible substrings can be calculated as follows:\n",
    "\n",
    "* let n = total # of letters in sequence\n",
    "* let k = substring length desired\n",
    "* let a = number of unique letters in a sequence (A, C, T, G)\n",
    "\n",
    "(n choose k) * a^k"
   ]
  },
  {
   "cell_type": "markdown",
   "metadata": {},
   "source": [
    "From the example  above, lets slice 5 positions and then analyze all possible combinations of substrings of length 3"
   ]
  },
  {
   "cell_type": "code",
   "execution_count": null,
   "metadata": {
    "collapsed": false,
    "scrolled": true
   },
   "outputs": [],
   "source": [
    "# create a new instance of seqtable with just the 5 positions of interest\n",
    "st_subset = seq_tables.seqtable(st.slice_sequences([2, 5, 10, 15, 16])['seqs'], encode_letters=False)\n",
    "st_subset"
   ]
  },
  {
   "cell_type": "code",
   "execution_count": null,
   "metadata": {
    "collapsed": false,
    "scrolled": true
   },
   "outputs": [],
   "source": [
    "# calculate the distribution of all substrings of length 3 within this set of sequences whose length is 5\n",
    "substring_counts = st_subset.get_substrings(word_length=3)\n",
    "substring_counts"
   ]
  },
  {
   "cell_type": "markdown",
   "metadata": {},
   "source": [
    "In the function above we asked to get all substrings within the seqtable of length 3. The result is a dataframe whose \n",
    "* columns represent all possible combinations of NCHOOSEK positions where N is the length of the sequence and K is the length of the substring (i.e. (1, 2, 3) represents slice all sequences at base position 1, 2, and 3). \n",
    "* rows represent all unique possible combinations of strings with length K (i.e. 4^k if letters are only [ACTG])\n",
    "* the values represents the # of times a substring of sequences at defined positions (columns) contain the substring defined by the index/rows\n"
   ]
  },
  {
   "cell_type": "code",
   "execution_count": null,
   "metadata": {
    "collapsed": false
   },
   "outputs": [],
   "source": [
    "iplot(go.Figure(\n",
    " data=[go.Heatmap(\n",
    "    x = [str(s) for s in substring_counts.columns],\n",
    "    y = substring_counts.index,\n",
    "    z = substring_counts.values\n",
    "    )\n",
    "    ],\n",
    "layout=go.Layout(\n",
    "        title='Heatmap of substring counts at defined positions',\n",
    "        xaxis=dict(title='Set of positions'),\n",
    "        yaxis=dict(title='substring')\n",
    ")\n",
    "))"
   ]
  },
  {
   "cell_type": "markdown",
   "metadata": {},
   "source": [
    "** The result above shows that any set of positions containing (2, 3, 4) which are site-saturated, show an even distrubtion of all substrings at each position, \n",
    "where as substrings containing only one of the positions of site saturation (i.e. 1, 2, 5) show a much higher distribution of substrings with wildtype values at positions 1 and 5**"
   ]
  }
 ],
 "metadata": {
  "kernelspec": {
   "display_name": "Python 3",
   "language": "python",
   "name": "python3"
  },
  "language_info": {
   "codemirror_mode": {
    "name": "ipython",
    "version": 3
   },
   "file_extension": ".py",
   "mimetype": "text/x-python",
   "name": "python",
   "nbconvert_exporter": "python",
   "pygments_lexer": "ipython3",
   "version": "3.4.5"
  }
 },
 "nbformat": 4,
 "nbformat_minor": 0
}
