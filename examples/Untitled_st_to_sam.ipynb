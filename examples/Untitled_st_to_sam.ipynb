{
 "cells": [
  {
   "cell_type": "code",
   "execution_count": 1,
   "metadata": {},
   "outputs": [],
   "source": [
    "%load_ext autoreload\n",
    "%autoreload 2"
   ]
  },
  {
   "cell_type": "code",
   "execution_count": 1,
   "metadata": {
    "collapsed": true
   },
   "outputs": [],
   "source": [
    "import pandas as pd\n",
    "import sys\n",
    "sys.path.insert(0, '../../')\n",
    "\n",
    "from seqtables import seqtables\n",
    "from seqtables.utils.insilica_sequences import generate_sequence\n",
    "from seqtables.io import create_scratch_data"
   ]
  },
  {
   "cell_type": "code",
   "execution_count": 2,
   "metadata": {},
   "outputs": [
    {
     "name": "stdout",
     "output_type": "stream",
     "text": [
      "go2o2\n"
     ]
    }
   ],
   "source": [
    "from seqtables.internals import sam_to_arr"
   ]
  },
  {
   "cell_type": "code",
   "execution_count": 3,
   "metadata": {},
   "outputs": [],
   "source": [
    "from seqtables.utils import sam_tools"
   ]
  },
  {
   "cell_type": "code",
   "execution_count": 5,
   "metadata": {},
   "outputs": [
    {
     "data": {
      "text/plain": [
       "'aac'"
      ]
     },
     "execution_count": 5,
     "metadata": {},
     "output_type": "execute_result"
    }
   ],
   "source": [
    "sam_to_arr.tounicode('aacca')"
   ]
  },
  {
   "cell_type": "code",
   "execution_count": 4,
   "metadata": {},
   "outputs": [],
   "source": [
    "sample_sam_file = './fake_algn_data.sam'\n",
    "df = sam_tools.read_sam(sample_sam_file, chunks=None)"
   ]
  },
  {
   "cell_type": "code",
   "execution_count": 7,
   "metadata": {
    "collapsed": true
   },
   "outputs": [],
   "source": [
    "dft = pd.concat([d for d in df])"
   ]
  },
  {
   "cell_type": "code",
   "execution_count": 8,
   "metadata": {},
   "outputs": [],
   "source": [
    "from seqtables.internals import constructor_ops\n",
    "arr = constructor_ops.strseries_to_bytearray(dft['seq'])\n",
    "qt = constructor_ops.strseries_to_bytearray(dft['qual'])"
   ]
  },
  {
   "cell_type": "code",
   "execution_count": 5,
   "metadata": {
    "collapsed": true
   },
   "outputs": [],
   "source": [
    "import numpy as np"
   ]
  },
  {
   "cell_type": "code",
   "execution_count": 13,
   "metadata": {
    "collapsed": true
   },
   "outputs": [],
   "source": [
    "def sam_to_nparray(ref, cigar, pos, name, seqs_np_array, quals_np_array, min_pos = 1, max_pos = None):\n",
    "    seqs_np_array = seqs_np_array.view('S1')\n",
    "    quals_np_array = quals_np_array.view('S1')\n",
    "    assert min_pos >= 1, 'Error: currently only allow base positions >= 1'\n",
    "    c = sam_tools.cigar_breakdown(cigar)[0]\n",
    "    if c[0][0] == 'S':\n",
    "        seqs_np_array = seqs_np_array[c[0][1]:]\n",
    "        quals_np_array = quals_np_array[c[0][1]:]\n",
    "        c = c[1:]\n",
    "    if c[-1][0] == 'S':\n",
    "        seqs_np_array = seqs_np_array[:c[1][1]]\n",
    "        quals_np_array = quals_np_array[:c[-1][1]]\n",
    "        c = c[:-1]\n",
    "    nums = seqs_np_array.shape[0]\n",
    "    \n",
    "    if pos > min_pos:        \n",
    "        # add gaps at beginning of sequence\n",
    "        c.insert(0, ('D', pos - min_pos))\n",
    "        pos = min_pos\n",
    "\n",
    "    pend = pos\n",
    "    \n",
    "    for (ctype, nume) in c:\n",
    "        # determine end alignment position\n",
    "        if ctype == 'M' or ctype == 'D':\n",
    "            pend += nume\n",
    "    # pend should be THE LAST base position (not the next base position)\n",
    "    pend -= 1\n",
    "    if max_pos is None:\n",
    "        max_pos = pend\n",
    "    if pend < max_pos:\n",
    "        # add gaps at end of sequence\n",
    "        c.append(('D', max_pos - pend))\n",
    "\n",
    "    p = pos    \n",
    "    i = 0\n",
    "    algn_seq_arrs = []\n",
    "    ins_seq = []\n",
    "    ins_qual = []\n",
    "    algn_qual_arrs = []\n",
    "    \n",
    "    for (ctype, nume) in c:                    \n",
    "        if ctype == 'M':         \n",
    "            algn_seq_arrs.append(seqs_np_array[:, i: i + nume])\n",
    "            algn_qual_arrs.append(quals_np_array[:, i: i + nume])            \n",
    "            p += nume\n",
    "            i += nume\n",
    "        elif ctype == 'D':\n",
    "            algn_seq_arrs.append(np.repeat('-'.encode(), nums * nume).reshape(nums, nume))\n",
    "            algn_qual_arrs.append(np.repeat('!'.encode(), nums * nume).reshape(nums, nume))\n",
    "            p += nume            \n",
    "        elif ctype == 'I':\n",
    "            if p < min_pos or p > max_pos:\n",
    "                # no need to store these insertions\n",
    "                i += nume\n",
    "                continue\n",
    "            ins_seq.append(\n",
    "                {\n",
    "                    p: [name, seqs_np_array[:, i: i + nume]]\n",
    "                }\n",
    "            )\n",
    "            ins_qual.append(\n",
    "                {\n",
    "                    p: [name, quals_np_array[:, i: i + nume]]\n",
    "                }\n",
    "            )\n",
    "            i += nume\n",
    "        else:\n",
    "            raise Exception('Unexpected cigar string: ' + cigar)\n",
    "    # p should be the last base position, not the next base position\n",
    "    p -= 1\n",
    "    algn_seq_arrs = np.hstack(algn_seq_arrs)\n",
    "    algn_qual_arrs = np.hstack(algn_qual_arrs)\n",
    "            \n",
    "    column_names = np.arange(pos, p + 1)\n",
    "    \n",
    "    slice_these_cols = [i for i, pind in enumerate(column_names) if pind >= min_pos and pind <= max_pos]\n",
    "    algn_seq_arrs = algn_seq_arrs[:, slice_these_cols]\n",
    "    algn_qual_arrs = algn_qual_arrs[:, slice_these_cols]\n",
    "    column_names = column_names[slice_these_cols]\n",
    "    \n",
    "    return algn_seq_arrs, algn_qual_arrs, ins_seq, ins_qual, column_names\n",
    "            \n",
    "            \n",
    "            \n",
    "    "
   ]
  },
  {
   "cell_type": "code",
   "execution_count": 14,
   "metadata": {
    "collapsed": true
   },
   "outputs": [],
   "source": [
    "def sam_to_nparray_2(ref, cigar, pos, seq, qual, min_pos = 1, max_pos = None):    \n",
    "    c = sam_tools.cigar_breakdown(cigar)[0]\n",
    "    s = ''\n",
    "    q = ''\n",
    "        \n",
    "    if c[0][0] == 'S':\n",
    "        seq = seq[c[0][1]:]\n",
    "        qual = qual[c[0][1]:]\n",
    "        c = c[1:]\n",
    "    if c[-1][0] == 'S':\n",
    "        seq = seq[:c[1][1]]\n",
    "        qualy = qual[:c[-1][1]]\n",
    "        c = c[:-1]\n",
    "    \n",
    "    if pos > min_pos:        \n",
    "        # add gaps at beginning of sequence\n",
    "        c.insert(0, ('D', pos - min_pos))\n",
    "        pos = min_pos\n",
    "        \n",
    "    pend = pos\n",
    "    \n",
    "    for (ctype, nume) in c:\n",
    "        # determine end alignment position\n",
    "        if ctype == 'M' or ctype == 'D':\n",
    "            pend += nume\n",
    "            \n",
    "    # pend should be THE LAST base position (not the next base position)\n",
    "    pend -= 1\n",
    "    if max_pos is None:\n",
    "        max_pos = pend\n",
    "    if pend < max_pos:\n",
    "        # add gaps at end of sequence\n",
    "        c.append(('D', max_pos - pend))\n",
    "\n",
    "    p = pos    \n",
    "    i = 0\n",
    "    algn_seq_arrs = []\n",
    "    ins_seq = []\n",
    "    ins_qual = []\n",
    "    algn_qual_arrs = []\n",
    "    q = ''\n",
    "    s = ''\n",
    "    \n",
    "    for (ctype, nume) in c:                    \n",
    "        if ctype == 'M':   \n",
    "            s += seq[i:i+nume]\n",
    "            q += qual[i:i+nume]            \n",
    "            p += nume\n",
    "            i += nume\n",
    "        elif ctype == 'D':\n",
    "            s += '-'*nume\n",
    "            q += '!'*nume            \n",
    "            p += nume            \n",
    "        elif ctype == 'I':\n",
    "            if p < min_pos or p > max_pos:\n",
    "                # no need to store these insertions\n",
    "                i += nume\n",
    "                continue\n",
    "            #ins_seq.append(\n",
    "            #    {\n",
    "            #        p: [name, seqs_np_array[:, i: i + nume]]\n",
    "            #    }\n",
    "            #)\n",
    "            #ins_qual.append(\n",
    "            #    {\n",
    "            #        p: [name, quals_np_array[:, i: i + nume]]\n",
    "            #    }\n",
    "            #)\n",
    "            i += nume\n",
    "        else:\n",
    "            raise Exception('Unexpected cigar string: ' + cigar)\n",
    "    # p should be the last base position, not the next base position\n",
    "    # p -= 1\n",
    "    # algn_seq_arrs = np.hstack(algn_seq_arrs)\n",
    "    # algn_qual_arrs = np.hstack(algn_qual_arrs)\n",
    "            \n",
    "    # column_names = np.arange(pos, p + 1)\n",
    "    \n",
    "    # slice_these_cols = [i for i, pind in enumerate(column_names) if pind >= min_pos and pind <= max_pos]\n",
    "    # algn_seq_arrs = algn_seq_arrs[:, slice_these_cols]\n",
    "    # algn_qual_arrs = algn_qual_arrs[:, slice_these_cols]\n",
    "    # column_names = column_names[slice_these_cols]\n",
    "    \n",
    "    return s, q #algn_seq_arrs, algn_qual_arrs, ins_seq, ins_qual, column_names\n",
    "            \n",
    "            \n",
    "            \n",
    "    "
   ]
  },
  {
   "cell_type": "code",
   "execution_count": 18,
   "metadata": {},
   "outputs": [
    {
     "name": "stdout",
     "output_type": "stream",
     "text": [
      "1 loop, best of 3: 730 ms per loop\n"
     ]
    }
   ],
   "source": [
    "%timeit dft[['rname', 'cigar', 'pos', 'seq', 'qual']].apply(lambda x: sam_to_nparray_2(x[0], x[1], x[2], x[3], x[4]), axis=1)"
   ]
  },
  {
   "cell_type": "code",
   "execution_count": 23,
   "metadata": {},
   "outputs": [
    {
     "data": {
      "text/plain": [
       "4.8242881298065186"
      ]
     },
     "execution_count": 23,
     "metadata": {},
     "output_type": "execute_result"
    }
   ],
   "source": [
    "import time\n",
    "t1 =time.time()\n",
    "dft[['rname', 'cigar', 'pos', 'seq', 'qual']].groupby(by=['rname', 'cigar', 'pos']).apply(\n",
    "    lambda g: g.apply(lambda x: sam_to_nparray_2(x[0], x[1], x[2], x[3], x[4]), axis=1)\n",
    ")\n",
    "t2 = time.time()\n",
    "t2-t1"
   ]
  }
 ],
 "metadata": {
  "kernelspec": {
   "display_name": "Python 2",
   "language": "python",
   "name": "python2"
  },
  "language_info": {
   "codemirror_mode": {
    "name": "ipython",
    "version": 2
   },
   "file_extension": ".py",
   "mimetype": "text/x-python",
   "name": "python",
   "nbconvert_exporter": "python",
   "pygments_lexer": "ipython2",
   "version": "2.7.9"
  }
 },
 "nbformat": 4,
 "nbformat_minor": 2
}
