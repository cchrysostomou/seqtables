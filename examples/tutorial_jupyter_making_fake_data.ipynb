{
 "cells": [
  {
   "cell_type": "markdown",
   "metadata": {},
   "source": [
    "### Creating Fake Data ###"
   ]
  },
  {
   "cell_type": "code",
   "execution_count": 1,
   "metadata": {
    "collapsed": false
   },
   "outputs": [],
   "source": [
    "%load_ext autoreload\n",
    "%autoreload 2"
   ]
  },
  {
   "cell_type": "code",
   "execution_count": 2,
   "metadata": {
    "collapsed": true
   },
   "outputs": [],
   "source": [
    "import os\n",
    "import sys\n",
    "sys.path.insert(0, '../../')\n",
    "import pandas as pd\n",
    "from sequence_analysis import seq_tables, read_sequences, insilica_sequences"
   ]
  },
  {
   "cell_type": "code",
   "execution_count": 3,
   "metadata": {
    "collapsed": true
   },
   "outputs": [],
   "source": [
    "import numpy as np\n",
    "import time"
   ]
  },
  {
   "cell_type": "code",
   "execution_count": 4,
   "metadata": {
    "collapsed": true
   },
   "outputs": [],
   "source": [
    "from matplotlib import pyplot as plt\n",
    "%matplotlib inline"
   ]
  },
  {
   "cell_type": "code",
   "execution_count": 5,
   "metadata": {
    "collapsed": false
   },
   "outputs": [
    {
     "data": {
      "text/plain": [
       "'GGTAATAAAGAAGATTTAAGCTGACGCGCGAGCCCTTCTCTCAAGGCCTGCAGTGGCCCCGGGAGCCTACCTGTATCTGAGTCGATGGGATACAAACCGCTCCCAAATCAATCGCGACCACCATCTCGCTGCGAGAGATTGCTTGGTTACATCTAAAATCTAATGTCCTATCAGACCAAAGACCACTCCATTGTCTCTGGTGGATACTGGATCCAGGGTCTCCTAGGTCGTTCGGCCGGGTTAAGCAGTTACCCCATGAAGGGAGGAATCGCTCGATGCTTCCGGACCTGGTAATTTCAC'"
      ]
     },
     "execution_count": 5,
     "metadata": {},
     "output_type": "execute_result"
    }
   ],
   "source": [
    "seq = insilica_sequences.generate_sequence(seq_len=300)\n",
    "seq"
   ]
  },
  {
   "cell_type": "code",
   "execution_count": 6,
   "metadata": {
    "collapsed": false
   },
   "outputs": [
    {
     "data": {
      "text/plain": [
       "0.1130068302154541"
      ]
     },
     "execution_count": 6,
     "metadata": {},
     "output_type": "execute_result"
    }
   ],
   "source": [
    "# create a set of sequences based on the seq above\n",
    "# erorr prone rate = 0.01 (1%, dont mutate the first position)\n",
    "# takes 6 seconds to generate 1 million sequences of a 100mer sequence\n",
    "# each element in matrix is 1 byte , so total size = seq x bases \n",
    "t1 = time.time()\n",
    "lib = insilica_sequences.generate_library(\n",
    "    seq,\n",
    "    10000, \n",
    "    error_prone_rate=0.01, \n",
    "    no_error_prone_pos=[1]\n",
    ")\n",
    "t2 = time.time()\n",
    "t2-t1"
   ]
  },
  {
   "cell_type": "code",
   "execution_count": 7,
   "metadata": {
    "collapsed": false,
    "scrolled": true
   },
   "outputs": [
    {
     "data": {
      "text/plain": [
       "0.1370081901550293"
      ]
     },
     "execution_count": 7,
     "metadata": {},
     "output_type": "execute_result"
    }
   ],
   "source": [
    "# we could also generate a site saturated library (NNN at each position)\n",
    "ss_pos = [5,6,7, 10,11,12, 20,21,22]\n",
    "t1 = time.time()\n",
    "lib = insilica_sequences.generate_library(\n",
    "    seq,\n",
    "    10000, \n",
    "    error_prone_rate=0.01, \n",
    "    no_error_prone_pos=[1],\n",
    "    ss_pos=ss_pos\n",
    ")\n",
    "t2 = time.time()\n",
    "t2-t1"
   ]
  },
  {
   "cell_type": "code",
   "execution_count": 8,
   "metadata": {
    "collapsed": false
   },
   "outputs": [
    {
     "data": {
      "text/plain": [
       "(array([b'A', b'C', b'G', b'T'], \n",
       "       dtype='|S1'), array([2468, 2541, 2520, 2471], dtype=int64))"
      ]
     },
     "execution_count": 8,
     "metadata": {},
     "output_type": "execute_result"
    }
   ],
   "source": [
    "np.unique(lib[:, 4], return_counts=True)"
   ]
  },
  {
   "cell_type": "code",
   "execution_count": 9,
   "metadata": {
    "collapsed": false
   },
   "outputs": [],
   "source": [
    "# now we can generate a set of fake quality scores for the library (assuming they were sequenced)\n",
    "q_r1 = insilica_sequences.add_quality_scores(lib, read_type='r1', bulk_size=10000)\n",
    "q_r2 = insilica_sequences.add_quality_scores(lib, read_type='r2', bulk_size=10000)"
   ]
  },
  {
   "cell_type": "code",
   "execution_count": 10,
   "metadata": {
    "collapsed": false
   },
   "outputs": [
    {
     "data": {
      "text/plain": [
       "array([[35, 35, 35, ..., 19, 17, 15],\n",
       "       [35, 35, 35, ..., 19, 17, 20],\n",
       "       [35, 35, 35, ..., 19, 17, 15],\n",
       "       ..., \n",
       "       [35, 35, 35, ..., 14, 17, 10],\n",
       "       [35, 35, 35, ..., 19, 17, 15],\n",
       "       [35, 40, 35, ..., 19, 12, 15]], dtype=uint8)"
      ]
     },
     "execution_count": 10,
     "metadata": {},
     "output_type": "execute_result"
    }
   ],
   "source": [
    "(q_r1).view(np.uint8) - 33"
   ]
  },
  {
   "cell_type": "code",
   "execution_count": 11,
   "metadata": {
    "collapsed": false
   },
   "outputs": [
    {
     "data": {
      "text/plain": [
       "<matplotlib.axes._subplots.AxesSubplot at 0xc8717f0>"
      ]
     },
     "execution_count": 11,
     "metadata": {},
     "output_type": "execute_result"
    },
    {
     "data": {
      "image/png": "[encoded data removed]",
      "text/plain": [
       "<matplotlib.figure.Figure at 0xc85e9b0>"
      ]
     },
     "metadata": {},
     "output_type": "display_data"
    }
   ],
   "source": [
    "# plot quality scores\n",
    "pd.DataFrame(q_r1.view(np.uint8) - 33).plot(kind='box')"
   ]
  },
  {
   "cell_type": "code",
   "execution_count": 12,
   "metadata": {
    "collapsed": false
   },
   "outputs": [
    {
     "data": {
      "text/plain": [
       "<matplotlib.axes._subplots.AxesSubplot at 0xd6e2fd0>"
      ]
     },
     "execution_count": 12,
     "metadata": {},
     "output_type": "execute_result"
    },
    {
     "data": {
      "image/png": "[encoded data removed]",
      "text/plain": [
       "<matplotlib.figure.Figure at 0xd7e8080>"
      ]
     },
     "metadata": {},
     "output_type": "display_data"
    }
   ],
   "source": [
    "# plot quality scores\n",
    "pd.DataFrame(q_r2.view(np.uint8) - 33).plot(kind='box')"
   ]
  },
  {
   "cell_type": "code",
   "execution_count": 13,
   "metadata": {
    "collapsed": false
   },
   "outputs": [],
   "source": [
    "lib_seqs = lib.view('S300').squeeze().astype('U')\n",
    "r1_qual = q_r1.view('S300').squeeze().astype('U')\n",
    "with open('../tests/files/r1_10k.fastq', 'w') as w:\n",
    "    for i in range(lib_seqs.shape[0]):\n",
    "        w.write('\\n'.join([\n",
    "            '@seq_' + str(i),\n",
    "            lib_seqs[i],\n",
    "            '+',\n",
    "            r1_qual[i]\n",
    "        ]\n",
    "    ) + '\\n'\n",
    ")\n",
    "        \n",
    "del lib_seqs\n",
    "del r1_qual"
   ]
  },
  {
   "cell_type": "code",
   "execution_count": 14,
   "metadata": {
    "collapsed": true
   },
   "outputs": [],
   "source": [
    "lib_seqs = lib.view('S300').squeeze().astype('U')\n",
    "with open('../tests/files/r1_10k.fa', 'w') as w:\n",
    "    for i in range(lib_seqs.shape[0]):\n",
    "        w.write('\\n'.join([\n",
    "            '>seq_' + str(i),\n",
    "            lib_seqs[i],            \n",
    "        ]\n",
    "    ) + '\\n'\n",
    ")\n",
    "        \n",
    "del lib_seqs"
   ]
  },
  {
   "cell_type": "code",
   "execution_count": 15,
   "metadata": {
    "collapsed": false
   },
   "outputs": [],
   "source": [
    "from Bio.Seq import Seq\n",
    "lib_seqs = lib.view('S300').squeeze().astype('U')\n",
    "r2_qual = q_r2.view('S300').squeeze().astype('U')\n",
    "with open('../tests/files/r2_10k.fastq', 'w') as w:\n",
    "    for i in range(lib_seqs.shape[0]):\n",
    "        w.write('\\n'.join([\n",
    "            '@seq_' + str(i),\n",
    "            str(Seq(lib_seqs[i]).reverse_complement()),\n",
    "            '+',\n",
    "            r2_qual[i][::-1]\n",
    "        ]\n",
    "    ) + '\\n'\n",
    ")\n",
    "        \n",
    "del lib_seqs\n",
    "del r2_qual"
   ]
  },
  {
   "cell_type": "code",
   "execution_count": null,
   "metadata": {
    "collapsed": true
   },
   "outputs": [],
   "source": []
  }
 ],
 "metadata": {
  "kernelspec": {
   "display_name": "Python 3",
   "language": "python",
   "name": "python3"
  },
  "language_info": {
   "codemirror_mode": {
    "name": "ipython",
    "version": 3
   },
   "file_extension": ".py",
   "mimetype": "text/x-python",
   "name": "python",
   "nbconvert_exporter": "python",
   "pygments_lexer": "ipython3",
   "version": "3.4.5"
  }
 },
 "nbformat": 4,
 "nbformat_minor": 0
}
