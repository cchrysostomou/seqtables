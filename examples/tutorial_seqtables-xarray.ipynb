{
 "cells": [
  {
   "cell_type": "markdown",
   "metadata": {},
   "source": [
    "### Examples for working with seqtables ###"
   ]
  },
  {
   "cell_type": "code",
   "execution_count": 1,
   "metadata": {
    "collapsed": false
   },
   "outputs": [],
   "source": [
    "%load_ext autoreload\n",
    "%autoreload 2"
   ]
  },
  {
   "cell_type": "code",
   "execution_count": null,
   "metadata": {
    "collapsed": false
   },
   "outputs": [],
   "source": [
    "import os\n",
    "import sys\n",
    "sys.path.insert(0, '../../')\n",
    "import pandas as pd\n",
    "import numpy as np\n",
    "from __future__ import absolute_import\n",
    "from seqtables import seqtables\n",
    "from seqtables.utils.insilica_sequences import generate_sequence, randomly_add_indels\n",
    "from seqtables.io import create_scratch_data\n",
    "from seqtables.io import write_sequences"
   ]
  },
  {
   "cell_type": "code",
   "execution_count": 5,
   "metadata": {
    "collapsed": false
   },
   "outputs": [],
   "source": [
    "from seqtables.external_algn_tools.bowtie_tools import bowtie2"
   ]
  },
  {
   "cell_type": "code",
   "execution_count": 6,
   "metadata": {
    "collapsed": false
   },
   "outputs": [],
   "source": [
    "from sys import getsizeof\n",
    "import time"
   ]
  },
  {
   "cell_type": "code",
   "execution_count": 7,
   "metadata": {
    "collapsed": true
   },
   "outputs": [],
   "source": [
    "def utf8len(s):\n",
    "    return len(s.encode('utf-8'))"
   ]
  },
  {
   "cell_type": "markdown",
   "metadata": {},
   "source": [
    "** Creating seqtables **"
   ]
  },
  {
   "cell_type": "markdown",
   "metadata": {},
   "source": [
    "For test purposes we can simply create some fake data to work with seqtables\n",
    "\n",
    "*Fake data will be site-saturated at positions 5, 10, and 15*"
   ]
  },
  {
   "cell_type": "code",
   "execution_count": 8,
   "metadata": {
    "collapsed": false,
    "scrolled": true
   },
   "outputs": [],
   "source": [
    "seqs, quals, wt_seq = create_scratch_data(10000, 300, ss_pos=[5, 10, 15])"
   ]
  },
  {
   "cell_type": "markdown",
   "metadata": {},
   "source": [
    "Add insertions in deletions randomly throughout sequence list"
   ]
  },
  {
   "cell_type": "code",
   "execution_count": 9,
   "metadata": {
    "collapsed": false
   },
   "outputs": [],
   "source": [
    "seqs_with_indels, quals_with_indels = randomly_add_indels(seqs, quals)"
   ]
  },
  {
   "cell_type": "code",
   "execution_count": 10,
   "metadata": {
    "collapsed": false
   },
   "outputs": [],
   "source": [
    "write_sequences.seqs_to_fastq(seqs_with_indels, quals_with_indels, 'fake_fastq_data.fq')"
   ]
  },
  {
   "cell_type": "code",
   "execution_count": 11,
   "metadata": {
    "collapsed": true
   },
   "outputs": [],
   "source": [
    "with open('original_wt_seq.fa', 'w') as w:\n",
    "    w.write('>fake_reference\\n'+wt_seq+'\\n')"
   ]
  },
  {
   "cell_type": "code",
   "execution_count": 18,
   "metadata": {
    "collapsed": false
   },
   "outputs": [
    {
     "name": "stdout",
     "output_type": "stream",
     "text": [
      "C:\\Users\\constantine.chrysost\\Documents\\GitHub\\seqtables\\external_algn_tools\\executables\\bowtie2-2.2.8-windows\\bowtie2-align-l.exe --threads 2 -x C:\\Users\\constantine.chrysost\\Documents\\GitHub\\seqtables\\examples\\bt_ref -U C:\\Users\\constantine.chrysost\\Documents\\GitHub\\seqtables\\examples\\fake_fastq_data.fq -S C:\\Users\\constantine.chrysost\\Documents\\GitHub\\seqtables\\examples\\fake_algn_data.sam\n",
      "The following error was returned: \n",
      "b'Could not locate a Bowtie index corresponding to basename \"C:\\\\Users\\\\constantine.chrysost\\\\Documents\\\\GitHub\\\\seqtables\\\\examples\\\\bt_ref\"\\r\\nError: Encountered internal Bowtie 2 exception (#1)\\r\\nCommand: C:\\\\Users\\\\constantine.chrysost\\\\Documents\\\\GitHub\\\\seqtables\\\\external_algn_tools\\\\executables\\\\bowtie2-2.2.8-windows\\\\bowtie2-align-l.exe --threads 2 -x C:\\\\Users\\\\constantine.chrysost\\\\Documents\\\\GitHub\\\\seqtables\\\\examples\\\\bt_ref -U C:\\\\Users\\\\constantine.chrysost\\\\Documents\\\\GitHub\\\\seqtables\\\\examples\\\\fake_fastq_data.fq -S C:\\\\Users\\\\constantine.chrysost\\\\Documents\\\\GitHub\\\\seqtables\\\\examples\\\\fake_algn_data.sam \\r\\n'\n"
     ]
    },
    {
     "ename": "TypeError",
     "evalue": "Can't convert 'bytes' object to str implicitly",
     "output_type": "error",
     "traceback": [
      "\u001b[1;31m---------------------------------------------------------------------------\u001b[0m",
      "\u001b[1;31mTypeError\u001b[0m                                 Traceback (most recent call last)",
      "\u001b[1;32m<ipython-input-18-554478f96d36>\u001b[0m in \u001b[0;36m<module>\u001b[1;34m()\u001b[0m\n\u001b[0;32m      1\u001b[0m algned_file = bowtie2(\n\u001b[0;32m      2\u001b[0m     \u001b[1;33m[\u001b[0m\u001b[1;34m'fake_fastq_data.fq'\u001b[0m\u001b[1;33m]\u001b[0m\u001b[1;33m,\u001b[0m \u001b[1;34m'original_wt_seq.fa'\u001b[0m\u001b[1;33m,\u001b[0m \u001b[0mpaired_seqs\u001b[0m\u001b[1;33m=\u001b[0m\u001b[1;32mFalse\u001b[0m\u001b[1;33m,\u001b[0m\u001b[1;33m\u001b[0m\u001b[0m\n\u001b[1;32m----> 3\u001b[1;33m     \u001b[0msam_file_name\u001b[0m\u001b[1;33m=\u001b[0m\u001b[1;34m'fake_algn_data.sam'\u001b[0m\u001b[1;33m,\u001b[0m \u001b[0mbowtie_ref_name\u001b[0m\u001b[1;33m=\u001b[0m\u001b[1;34m'bt_ref'\u001b[0m\u001b[1;33m,\u001b[0m \u001b[0minclude_phix\u001b[0m\u001b[1;33m=\u001b[0m\u001b[1;32mFalse\u001b[0m\u001b[1;33m,\u001b[0m\u001b[1;33m\u001b[0m\u001b[0m\n\u001b[0m\u001b[0;32m      4\u001b[0m )\n",
      "\u001b[1;32mC:\\Users\\constantine.chrysost\\Documents\\GitHub\\seqtables\\external_algn_tools\\bowtie_tools.py\u001b[0m in \u001b[0;36mbowtie2\u001b[1;34m(fastq_files, references, paired_seqs, sam_file_name, bowtie_ref_name, working_directory, include_phix, phix_filter, threads, options)\u001b[0m\n\u001b[0;32m    161\u001b[0m                 \u001b[0mprint\u001b[0m\u001b[1;33m(\u001b[0m\u001b[1;34m'The following error was returned: '\u001b[0m\u001b[1;33m)\u001b[0m\u001b[1;33m\u001b[0m\u001b[0m\n\u001b[0;32m    162\u001b[0m                 \u001b[0mprint\u001b[0m\u001b[1;33m(\u001b[0m\u001b[0merr\u001b[0m\u001b[1;33m)\u001b[0m\u001b[1;33m\u001b[0m\u001b[0m\n\u001b[1;32m--> 163\u001b[1;33m                 \u001b[1;32mraise\u001b[0m \u001b[0mException\u001b[0m\u001b[1;33m(\u001b[0m\u001b[1;34m'Something went wrong when running bowtie: '\u001b[0m \u001b[1;33m+\u001b[0m \u001b[0merr\u001b[0m\u001b[1;33m)\u001b[0m\u001b[1;33m\u001b[0m\u001b[0m\n\u001b[0m\u001b[0;32m    164\u001b[0m \u001b[1;33m\u001b[0m\u001b[0m\n\u001b[0;32m    165\u001b[0m         \u001b[1;32mif\u001b[0m \u001b[1;32mnot\u001b[0m \u001b[0mos\u001b[0m\u001b[1;33m.\u001b[0m\u001b[0mpath\u001b[0m\u001b[1;33m.\u001b[0m\u001b[0misfile\u001b[0m\u001b[1;33m(\u001b[0m\u001b[0mos\u001b[0m\u001b[1;33m.\u001b[0m\u001b[0mpath\u001b[0m\u001b[1;33m.\u001b[0m\u001b[0mabspath\u001b[0m\u001b[1;33m(\u001b[0m\u001b[0msam_file_name\u001b[0m\u001b[1;33m)\u001b[0m\u001b[1;33m)\u001b[0m\u001b[1;33m:\u001b[0m\u001b[1;33m\u001b[0m\u001b[0m\n",
      "\u001b[1;31mTypeError\u001b[0m: Can't convert 'bytes' object to str implicitly"
     ]
    }
   ],
   "source": [
    "algned_file = bowtie2(\n",
    "    ['fake_fastq_data.fq'], 'original_wt_seq.fa', paired_seqs=False,\n",
    "    sam_file_name='fake_algn_data.sam', bowtie_ref_name='bt_ref', include_phix=False,\n",
    ")"
   ]
  }
 ],
 "metadata": {
  "kernelspec": {
   "display_name": "Python 3",
   "language": "python",
   "name": "python3"
  },
  "language_info": {
   "codemirror_mode": {
    "name": "ipython",
    "version": 3
   },
   "file_extension": ".py",
   "mimetype": "text/x-python",
   "name": "python",
   "nbconvert_exporter": "python",
   "pygments_lexer": "ipython3",
   "version": "3.4.5"
  }
 },
 "nbformat": 4,
 "nbformat_minor": 0
}
