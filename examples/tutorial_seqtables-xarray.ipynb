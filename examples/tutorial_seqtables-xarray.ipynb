{
 "cells": [
  {
   "cell_type": "markdown",
   "metadata": {},
   "source": [
    "### Examples for working with seqtables ###"
   ]
  },
  {
   "cell_type": "code",
   "execution_count": 1,
   "metadata": {},
   "outputs": [],
   "source": [
    "%load_ext autoreload\n",
    "%autoreload 2"
   ]
  },
  {
   "cell_type": "code",
   "execution_count": 2,
   "metadata": {},
   "outputs": [],
   "source": [
    "import os\n",
    "import sys\n",
    "sys.path.insert(0, '../../')\n",
    "import pandas as pd\n",
    "import numpy as np\n",
    "from __future__ import absolute_import\n",
    "from seqtables import seqtables\n",
    "from seqtables.utils.insilica_sequences import generate_sequence, randomly_add_indels\n",
    "from seqtables.io import create_scratch_data\n",
    "from seqtables.io import write_sequences"
   ]
  },
  {
   "cell_type": "code",
   "execution_count": 3,
   "metadata": {},
   "outputs": [],
   "source": [
    "from seqtables.external_algn_tools.bowtie_tools import bowtie2"
   ]
  },
  {
   "cell_type": "code",
   "execution_count": 4,
   "metadata": {},
   "outputs": [],
   "source": [
    "from sys import getsizeof\n",
    "import time"
   ]
  },
  {
   "cell_type": "code",
   "execution_count": 5,
   "metadata": {
    "collapsed": true
   },
   "outputs": [],
   "source": [
    "def utf8len(s):\n",
    "    return len(s.encode('utf-8'))"
   ]
  },
  {
   "cell_type": "markdown",
   "metadata": {},
   "source": [
    "** Creating seqtables **"
   ]
  },
  {
   "cell_type": "markdown",
   "metadata": {},
   "source": [
    "For test purposes we can simply create some fake data to work with seqtables\n",
    "\n",
    "*Fake data will be site-saturated at positions 5, 10, and 15*"
   ]
  },
  {
   "cell_type": "code",
   "execution_count": 29,
   "metadata": {
    "scrolled": true
   },
   "outputs": [],
   "source": [
    "seqs, quals, wt_seq = create_scratch_data(10000, 300, ss_pos=[5, 10, 15])"
   ]
  },
  {
   "cell_type": "markdown",
   "metadata": {},
   "source": [
    "Add insertions in deletions randomly throughout sequence list"
   ]
  },
  {
   "cell_type": "code",
   "execution_count": 30,
   "metadata": {},
   "outputs": [],
   "source": [
    "seqs_with_indels, quals_with_indels = randomly_add_indels(seqs, quals)"
   ]
  },
  {
   "cell_type": "code",
   "execution_count": null,
   "metadata": {
    "scrolled": true
   },
   "outputs": [],
   "source": [
    "pd.DataFrame([pd.Series(seqs_with_indels).apply(len), pd.Series(quals_with_indels).apply(len)])"
   ]
  },
  {
   "cell_type": "code",
   "execution_count": 28,
   "metadata": {},
   "outputs": [
    {
     "data": {
      "text/plain": [
       "array([ 0, 32, 34, 32, -1, 38, 38, 32], dtype=int8)"
      ]
     },
     "execution_count": 28,
     "metadata": {},
     "output_type": "execute_result"
    }
   ],
   "source": [
    "np.array(list(['!ACA GGA'])).view('S1').view(np.int8) - 33"
   ]
  },
  {
   "cell_type": "code",
   "execution_count": 8,
   "metadata": {},
   "outputs": [],
   "source": [
    "write_sequences.seqs_to_fastq(seqs_with_indels, quals_with_indels, 'fake_fastq_data.fq')"
   ]
  },
  {
   "cell_type": "code",
   "execution_count": 9,
   "metadata": {
    "collapsed": true
   },
   "outputs": [],
   "source": [
    "with open('original_wt_seq.fa', 'w') as w:\n",
    "    w.write('>fake_reference\\n'+wt_seq+'\\n')"
   ]
  },
  {
   "cell_type": "code",
   "execution_count": 20,
   "metadata": {},
   "outputs": [
    {
     "name": "stdout",
     "output_type": "stream",
     "text": [
      "The following error was returned: \n",
      "Error: Read insilica_seq_1 has more read characters than quality values.\n",
      "terminate called after throwing an instance of 'int'\n",
      "Aborted (core dumped)\n",
      "(ERR): bowtie2-align exited with value 134\n",
      "\n"
     ]
    },
    {
     "ename": "Exception",
     "evalue": "Something went wrong when running bowtie: Error: Read insilica_seq_1 has more read characters than quality values.\nterminate called after throwing an instance of 'int'\nAborted (core dumped)\n(ERR): bowtie2-align exited with value 134\n",
     "output_type": "error",
     "traceback": [
      "\u001b[0;31m---------------------------------------------------------------------------\u001b[0m",
      "\u001b[0;31mException\u001b[0m                                 Traceback (most recent call last)",
      "\u001b[0;32m<ipython-input-20-e033955ec495>\u001b[0m in \u001b[0;36m<module>\u001b[0;34m()\u001b[0m\n\u001b[1;32m      1\u001b[0m algned_file = bowtie2(\n\u001b[1;32m      2\u001b[0m     \u001b[0;34m[\u001b[0m\u001b[0;34m'fake_fastq_data.fq'\u001b[0m\u001b[0;34m]\u001b[0m\u001b[0;34m,\u001b[0m \u001b[0;34m[\u001b[0m\u001b[0;34m(\u001b[0m\u001b[0;34m'wtref'\u001b[0m\u001b[0;34m,\u001b[0m \u001b[0mwt_seq\u001b[0m\u001b[0;34m)\u001b[0m\u001b[0;34m]\u001b[0m\u001b[0;34m,\u001b[0m \u001b[0mpaired_seqs\u001b[0m\u001b[0;34m=\u001b[0m\u001b[0mFalse\u001b[0m\u001b[0;34m,\u001b[0m\u001b[0;34m\u001b[0m\u001b[0m\n\u001b[0;32m----> 3\u001b[0;31m     \u001b[0msam_file_name\u001b[0m\u001b[0;34m=\u001b[0m\u001b[0;34m'fake_algn_data.sam'\u001b[0m\u001b[0;34m,\u001b[0m \u001b[0mbowtie_ref_name\u001b[0m\u001b[0;34m=\u001b[0m\u001b[0;34m'bt_ref'\u001b[0m\u001b[0;34m,\u001b[0m \u001b[0minclude_phix\u001b[0m\u001b[0;34m=\u001b[0m\u001b[0mFalse\u001b[0m\u001b[0;34m,\u001b[0m\u001b[0;34m\u001b[0m\u001b[0m\n\u001b[0m\u001b[1;32m      4\u001b[0m )\n",
      "\u001b[0;32m/home/ubuntu/GitHub/seqtables/external_algn_tools/bowtie_tools.py\u001b[0m in \u001b[0;36mbowtie2\u001b[0;34m(fastq_files, references, paired_seqs, sam_file_name, bowtie_ref_name, working_directory, include_phix, phix_filter, threads, options)\u001b[0m\n\u001b[1;32m    151\u001b[0m                 \u001b[0;32mprint\u001b[0m\u001b[0;34m(\u001b[0m\u001b[0;34m'The following error was returned: '\u001b[0m\u001b[0;34m)\u001b[0m\u001b[0;34m\u001b[0m\u001b[0m\n\u001b[1;32m    152\u001b[0m                 \u001b[0;32mprint\u001b[0m\u001b[0;34m(\u001b[0m\u001b[0merr\u001b[0m\u001b[0;34m)\u001b[0m\u001b[0;34m\u001b[0m\u001b[0m\n\u001b[0;32m--> 153\u001b[0;31m                 \u001b[0;32mraise\u001b[0m \u001b[0mException\u001b[0m\u001b[0;34m(\u001b[0m\u001b[0;34m'Something went wrong when running bowtie: '\u001b[0m \u001b[0;34m+\u001b[0m \u001b[0merr\u001b[0m\u001b[0;34m)\u001b[0m\u001b[0;34m\u001b[0m\u001b[0m\n\u001b[0m\u001b[1;32m    154\u001b[0m \u001b[0;34m\u001b[0m\u001b[0m\n\u001b[1;32m    155\u001b[0m         \u001b[0;32mif\u001b[0m \u001b[0;32mnot\u001b[0m \u001b[0mos\u001b[0m\u001b[0;34m.\u001b[0m\u001b[0mpath\u001b[0m\u001b[0;34m.\u001b[0m\u001b[0misfile\u001b[0m\u001b[0;34m(\u001b[0m\u001b[0mos\u001b[0m\u001b[0;34m.\u001b[0m\u001b[0mpath\u001b[0m\u001b[0;34m.\u001b[0m\u001b[0mabspath\u001b[0m\u001b[0;34m(\u001b[0m\u001b[0msam_file_name\u001b[0m\u001b[0;34m)\u001b[0m\u001b[0;34m)\u001b[0m\u001b[0;34m:\u001b[0m\u001b[0;34m\u001b[0m\u001b[0m\n",
      "\u001b[0;31mException\u001b[0m: Something went wrong when running bowtie: Error: Read insilica_seq_1 has more read characters than quality values.\nterminate called after throwing an instance of 'int'\nAborted (core dumped)\n(ERR): bowtie2-align exited with value 134\n"
     ]
    }
   ],
   "source": [
    "algned_file = bowtie2(\n",
    "    ['fake_fastq_data.fq'], [('wtref', wt_seq)], paired_seqs=False,\n",
    "    sam_file_name='fake_algn_data.sam', bowtie_ref_name='bt_ref', include_phix=False,\n",
    ")"
   ]
  }
 ],
 "metadata": {
  "kernelspec": {
   "display_name": "Python 2",
   "language": "python",
   "name": "python2"
  },
  "language_info": {
   "codemirror_mode": {
    "name": "ipython",
    "version": 2
   },
   "file_extension": ".py",
   "mimetype": "text/x-python",
   "name": "python",
   "nbconvert_exporter": "python",
   "pygments_lexer": "ipython2",
   "version": "2.7.9"
  }
 },
 "nbformat": 4,
 "nbformat_minor": 1
}
