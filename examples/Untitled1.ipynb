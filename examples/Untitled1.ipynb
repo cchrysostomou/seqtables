{
 "cells": [
  {
   "cell_type": "code",
   "execution_count": 1,
   "metadata": {
    "collapsed": true
   },
   "outputs": [],
   "source": [
    "%load_ext autoreload\n",
    "%autoreload 2"
   ]
  },
  {
   "cell_type": "code",
   "execution_count": 2,
   "metadata": {},
   "outputs": [
    {
     "name": "stderr",
     "output_type": "stream",
     "text": [
      "C:\\Anaconda3\\lib\\importlib\\_bootstrap.py:321: FutureWarning:\n",
      "\n",
      "The pandas.tslib module is deprecated and will be removed in a future version.\n",
      "\n"
     ]
    }
   ],
   "source": [
    "import pandas as pd\n",
    "import sys\n",
    "sys.path.insert(0, '../../')\n",
    "\n",
    "from seqtables import seqtables\n",
    "from seqtables.utils.insilica_sequences import generate_sequence\n",
    "from seqtables.io import create_scratch_data"
   ]
  },
  {
   "cell_type": "code",
   "execution_count": 3,
   "metadata": {
    "collapsed": true
   },
   "outputs": [],
   "source": [
    "from seqtables.utils import sam_tools"
   ]
  },
  {
   "cell_type": "code",
   "execution_count": 4,
   "metadata": {
    "scrolled": true
   },
   "outputs": [],
   "source": [
    "sample_sam_file = './fake_algn_data.sam'\n",
    "df = sam_tools.read_sam(sample_sam_file, chunks=None)"
   ]
  },
  {
   "cell_type": "code",
   "execution_count": 5,
   "metadata": {},
   "outputs": [],
   "source": [
    "dft = pd.concat([d for d in df])"
   ]
  },
  {
   "cell_type": "code",
   "execution_count": 6,
   "metadata": {},
   "outputs": [],
   "source": [
    "from seqtables.internals import constructor_ops"
   ]
  },
  {
   "cell_type": "code",
   "execution_count": 7,
   "metadata": {
    "collapsed": true
   },
   "outputs": [],
   "source": [
    "arr = constructor_ops.strseries_to_bytearray(dft['seq'])"
   ]
  },
  {
   "cell_type": "code",
   "execution_count": 8,
   "metadata": {
    "collapsed": true
   },
   "outputs": [],
   "source": [
    "qt = constructor_ops.strseries_to_bytearray(dft['qual'])"
   ]
  },
  {
   "cell_type": "code",
   "execution_count": 9,
   "metadata": {},
   "outputs": [],
   "source": [
    "import numpy as np"
   ]
  },
  {
   "cell_type": "code",
   "execution_count": 10,
   "metadata": {},
   "outputs": [],
   "source": [
    "def sam_to_nparray(ref, cigar, pos, name, seqs_np_array, quals_np_array, min_pos = 1, max_pos = None):\n",
    "    seqs_np_array = seqs_np_array.view('S1')\n",
    "    quals_np_array = quals_np_array.view('S1')\n",
    "    assert min_pos >= 1, 'Error: currently only allow base positions >= 1'\n",
    "    c = sam_tools.cigar_breakdown(cigar)[0]\n",
    "    if c[0][0] == 'S':\n",
    "        seqs_np_array = seqs_np_array[c[0][1]:]\n",
    "        quals_np_array = quals_np_array[c[0][1]:]\n",
    "        c = c[1:]\n",
    "    if c[-1][0] == 'S':\n",
    "        seqs_np_array = seqs_np_array[:c[1][1]]\n",
    "        quals_np_array = quals_np_array[:c[-1][1]]\n",
    "        c = c[:-1]\n",
    "    nums = seqs_np_array.shape[0]\n",
    "    \n",
    "    if pos > min_pos:        \n",
    "        # add gaps at beginning of sequence\n",
    "        c.insert(0, ('D', pos - min_pos))\n",
    "        pos = min_pos\n",
    "\n",
    "    pend = pos\n",
    "    \n",
    "    for (ctype, nume) in c:\n",
    "        # determine end alignment position\n",
    "        if ctype == 'M' or ctype == 'D':\n",
    "            pend += nume\n",
    "    # pend should be THE LAST base position (not the next base position)\n",
    "    pend -= 1\n",
    "    if max_pos is None:\n",
    "        max_pos = pend\n",
    "    if pend < max_pos:\n",
    "        # add gaps at end of sequence\n",
    "        c.append(('D', max_pos - pend))\n",
    "\n",
    "    p = pos    \n",
    "    i = 0\n",
    "    algn_seq_arrs = []\n",
    "    ins_seq = []\n",
    "    ins_qual = []\n",
    "    algn_qual_arrs = []\n",
    "    \n",
    "    for (ctype, nume) in c:                    \n",
    "        if ctype == 'M':         \n",
    "            algn_seq_arrs.append(seqs_np_array[:, i: i + nume])\n",
    "            algn_qual_arrs.append(quals_np_array[:, i: i + nume])            \n",
    "            p += nume\n",
    "            i += nume\n",
    "        elif ctype == 'D':\n",
    "            algn_seq_arrs.append(np.repeat('-'.encode(), nums * nume).reshape(nums, nume))\n",
    "            algn_qual_arrs.append(np.repeat('!'.encode(), nums * nume).reshape(nums, nume))\n",
    "            p += nume            \n",
    "        elif ctype == 'I':\n",
    "            if p < min_pos or p > max_pos:\n",
    "                # no need to store these insertions\n",
    "                i += nume\n",
    "                continue\n",
    "            ins_seq.append(\n",
    "                {\n",
    "                    p: [name, seqs_np_array[:, i: i + nume]]\n",
    "                }\n",
    "            )\n",
    "            ins_qual.append(\n",
    "                {\n",
    "                    p: [name, quals_np_array[:, i: i + nume]]\n",
    "                }\n",
    "            )\n",
    "            i += nume\n",
    "        else:\n",
    "            raise Exception('Unexpected cigar string: ' + cigar)\n",
    "    # p should be the last base position, not the next base position\n",
    "    p -= 1\n",
    "    algn_seq_arrs = np.hstack(algn_seq_arrs)\n",
    "    algn_qual_arrs = np.hstack(algn_qual_arrs)\n",
    "            \n",
    "    column_names = np.arange(pos, p + 1)\n",
    "    \n",
    "    slice_these_cols = [i for i, pind in enumerate(column_names) if pind >= min_pos and pind <= max_pos]\n",
    "    algn_seq_arrs = algn_seq_arrs[:, slice_these_cols]\n",
    "    algn_qual_arrs = algn_qual_arrs[:, slice_these_cols]\n",
    "    column_names = column_names[slice_these_cols]\n",
    "    \n",
    "    return algn_seq_arrs, algn_qual_arrs, ins_seq, ins_qual, column_names\n",
    "            \n",
    "            \n",
    "            \n",
    "    "
   ]
  },
  {
   "cell_type": "code",
   "execution_count": 39,
   "metadata": {
    "collapsed": true
   },
   "outputs": [],
   "source": [
    "def sam_to_nparray_2(ref, cigar, pos, seq, qual, min_pos = 1, max_pos = None):    \n",
    "    c = sam_tools.cigar_breakdown(cigar)[0]\n",
    "    s = ''\n",
    "    q = ''\n",
    "        \n",
    "    if c[0][0] == 'S':\n",
    "        seq = seq[c[0][1]:]\n",
    "        qual = qual[c[0][1]:]\n",
    "        c = c[1:]\n",
    "    if c[-1][0] == 'S':\n",
    "        seq = seq[:c[1][1]]\n",
    "        qualy = qual[:c[-1][1]]\n",
    "        c = c[:-1]\n",
    "    \n",
    "    if pos > min_pos:        \n",
    "        # add gaps at beginning of sequence\n",
    "        c.insert(0, ('D', pos - min_pos))\n",
    "        pos = min_pos\n",
    "        \n",
    "    pend = pos\n",
    "    \n",
    "    for (ctype, nume) in c:\n",
    "        # determine end alignment position\n",
    "        if ctype == 'M' or ctype == 'D':\n",
    "            pend += nume\n",
    "            \n",
    "    # pend should be THE LAST base position (not the next base position)\n",
    "    pend -= 1\n",
    "    if max_pos is None:\n",
    "        max_pos = pend\n",
    "    if pend < max_pos:\n",
    "        # add gaps at end of sequence\n",
    "        c.append(('D', max_pos - pend))\n",
    "\n",
    "    p = pos    \n",
    "    i = 0\n",
    "    algn_seq_arrs = []\n",
    "    ins_seq = []\n",
    "    ins_qual = []\n",
    "    algn_qual_arrs = []\n",
    "    q = ''\n",
    "    s = ''\n",
    "    \n",
    "    for (ctype, nume) in c:                    \n",
    "        if ctype == 'M':   \n",
    "            s += seq[i:i+nume]\n",
    "            q += qual[i:i+nume]            \n",
    "            p += nume\n",
    "            i += nume\n",
    "        elif ctype == 'D':\n",
    "            s += '-'*nume\n",
    "            q += '!'*nume            \n",
    "            p += nume            \n",
    "        elif ctype == 'I':\n",
    "            if p < min_pos or p > max_pos:\n",
    "                # no need to store these insertions\n",
    "                i += nume\n",
    "                continue\n",
    "            #ins_seq.append(\n",
    "            #    {\n",
    "            #        p: [name, seqs_np_array[:, i: i + nume]]\n",
    "            #    }\n",
    "            #)\n",
    "            #ins_qual.append(\n",
    "            #    {\n",
    "            #        p: [name, quals_np_array[:, i: i + nume]]\n",
    "            #    }\n",
    "            #)\n",
    "            i += nume\n",
    "        else:\n",
    "            raise Exception('Unexpected cigar string: ' + cigar)\n",
    "    # p should be the last base position, not the next base position\n",
    "    # p -= 1\n",
    "    # algn_seq_arrs = np.hstack(algn_seq_arrs)\n",
    "    # algn_qual_arrs = np.hstack(algn_qual_arrs)\n",
    "            \n",
    "    # column_names = np.arange(pos, p + 1)\n",
    "    \n",
    "    # slice_these_cols = [i for i, pind in enumerate(column_names) if pind >= min_pos and pind <= max_pos]\n",
    "    # algn_seq_arrs = algn_seq_arrs[:, slice_these_cols]\n",
    "    # algn_qual_arrs = algn_qual_arrs[:, slice_these_cols]\n",
    "    # column_names = column_names[slice_these_cols]\n",
    "    \n",
    "    return s, q #algn_seq_arrs, algn_qual_arrs, ins_seq, ins_qual, column_names\n",
    "            \n",
    "            \n",
    "            \n",
    "    "
   ]
  },
  {
   "cell_type": "code",
   "execution_count": 51,
   "metadata": {},
   "outputs": [
    {
     "data": {
      "text/plain": [
       "100"
      ]
     },
     "execution_count": 51,
     "metadata": {},
     "output_type": "execute_result"
    }
   ],
   "source": []
  },
  {
   "cell_type": "code",
   "execution_count": 44,
   "metadata": {},
   "outputs": [
    {
     "name": "stdout",
     "output_type": "stream",
     "text": [
      "1 loop, best of 3: 1.26 s per loop\n"
     ]
    }
   ],
   "source": [
    "%timeit dft[['rname', 'cigar', 'pos', 'seq', 'qual']].apply(lambda x: sam_to_nparray_2(x[0], x[1], x[2], x[3], x[4]), axis=1)"
   ]
  },
  {
   "cell_type": "code",
   "execution_count": null,
   "metadata": {
    "collapsed": true
   },
   "outputs": [],
   "source": [
    "dft.groupby(by=['rname', 'cigar', 'pos', 'seq', 'qual']).apply(\n",
    "    lambda g: g.apply(lambda x: sam_to_nparray_2(x[0], x[1], x[2], x[3], x[4]), axis=1)\n",
    ")"
   ]
  },
  {
   "cell_type": "code",
   "execution_count": 26,
   "metadata": {},
   "outputs": [
    {
     "data": {
      "text/plain": [
       "1.4191420078277588"
      ]
     },
     "execution_count": 26,
     "metadata": {},
     "output_type": "execute_result"
    }
   ],
   "source": [
    "delme = np.arange(1, 500)\n",
    "import time\n",
    "t1 = time.time()\n",
    "for i in range(1000000):\n",
    "    delme[1:490]\n",
    "t2 = time.time()\n",
    "t2-t1\n",
    "    "
   ]
  },
  {
   "cell_type": "code",
   "execution_count": null,
   "metadata": {
    "collapsed": true
   },
   "outputs": [],
   "source": [
    "import warnings\n",
    "def sam_to_nparray(ref, cigar, pos, name, min_pos = None, max_pos = None, adjust_softclipping_to_pos=False):\n",
    "    # Return:\n",
    "        # indices of aligned sequences\n",
    "        # indices of inserted bases\n",
    "        # column names\n",
    "    \n",
    "    cb = sam_tool.cigar_breakdown(cigar)\n",
    "    c = cb[0]\n",
    "    c_evt = cb[1]\n",
    "    \n",
    "    \n",
    "    if min_pos is None:\n",
    "        min_pos = pos\n",
    "\n",
    "    sp = pos\n",
    "    ep = pos + c_evt['D'] - c_evt['I']\n",
    "    ind_p = sum(c_evt.values()) - c_evt['D']\n",
    "    \n",
    "        \n",
    "    if max_pos is None:\n",
    "        max_pos = ep\n",
    "\n",
    "    col_names = np.arange(min_pos, max_pos + 1)\n",
    "    ind_names =np.arrange(0, ind_p + 1)\n",
    "    \n",
    "    p = sp\n",
    "    ind = 0\n",
    "    \n",
    "    pos_ind = []\n",
    "    arr_ind = []\n",
    "    \n",
    "    for e, (ctype, nume) in enumerate(c):\n",
    "        if ctype == 'S':\n",
    "            # softclipping, remove bases from sequence of interest, dont change reference position\n",
    "            ind += nume\n",
    "        elif ctype == 'M':\n",
    "            # match or mismatch bases, add to the indicies, adjust reference position\n",
    "            stop_p = p + num_e\n",
    "            \n",
    "            \n",
    "            if p >= min_pos:\n",
    "            elif p + nume >= min_pos:\n",
    "                \n",
    "            pos_ind.append(\n",
    "                \n",
    "            )\n",
    "            p += nume\n",
    "            ind += nume            \n",
    "        elif ctype == 'D':\n",
    "            # deletions \n",
    "    \n",
    "    \n",
    "    \n",
    "    \n",
    "    \n",
    "        \n",
    "    \n",
    "    \n",
    "    \n",
    "    pos_ind = []\n",
    "    arr_ind = []\n",
    "    \n",
    "    p = pos  # index wrt reference sequence\n",
    "    ind = 0  # index wrt read\n",
    "    \n",
    "    if p < min_pos:\n",
    "    \n",
    "    for e, (ctype, nume) in enumerate(c):\n",
    "        if ctype == 'S':\n",
    "            if e == 0:\n",
    "                # 5' softclipping\n",
    "                if adjust_softclipping_to_pos and pos > min_pos:\n",
    "                    # need to adjust softclipping to add more bases that should align to reference and not be softclipped\n",
    "                    adjusted_softclipping = min((pos - min_pos), nume)\n",
    "                    p = pos - adjusted_softclipping\n",
    "                \n",
    "                    \n",
    "                else:\n",
    "                    # skip these indices\n",
    "                    ind += nume\n",
    "                \n",
    "                    \n",
    "            elif e == len(c):\n",
    "            else:\n",
    "                warnings.warn('Unusual place for softclipping?? ' + cigar)\n",
    "                continue\n",
    "        elif \n",
    "        \n",
    "        elif ctype == 'S' and e == len(c):\n",
    "        elif ctype == 'S'\n",
    "    \n",
    "    3\n",
    "    1 5 => 4\n",
    "    \n",
    "    if c[0][0] == 'S':\n",
    "        if adjust_softclipping_to_pos and pos > min_pos:\n",
    "            # need to adjust softclipping to add more bases that should align to reference and not be softclipped\n",
    "            adjusted_softclipping = min((pos - min_pos), c[0][1])\n",
    "            pos -= adjusted_softclipping\n",
    "            c = [('M', adjusted_softclipping)] + c[1:]\n",
    "        else:\n",
    "            c = c[1:]\n",
    "            \n",
    "    if c[-1][0] == 'S':\n",
    "        seqs_np_array = seqs_np_array[:c[1][1]]\n",
    "        quals_np_array = quals_np_array[:c[-1][1]]\n",
    "        c = c[:-1]\n",
    "    nums = seqs_np_array.shape[0]\n",
    "    \n",
    "    if pos > min_pos:        \n",
    "        # add gaps at beginning of sequence\n",
    "        c.insert(0, ('D', pos - min_pos))\n",
    "        pos = min_pos\n",
    "\n",
    "    pend = pos\n",
    "    \n",
    "    for (ctype, nume) in c:\n",
    "        # determine end alignment position\n",
    "        if ctype == 'M' or ctype == 'D':\n",
    "            pend += nume\n",
    "    # pend should be THE LAST base position (not the next base position)\n",
    "    pend -= 1\n",
    "    if max_pos is None:\n",
    "        max_pos = pend\n",
    "    if pend < max_pos:\n",
    "        # add gaps at end of sequence\n",
    "        c.append(('D', max_pos - pend))\n",
    "\n",
    "    p = pos    \n",
    "    i = 0\n",
    "    algn_seq_arrs = []\n",
    "    ins_seq = []\n",
    "    ins_qual = []\n",
    "    algn_qual_arrs = []\n",
    "    \n",
    "    for (ctype, nume) in c:                    \n",
    "        if ctype == 'M':         \n",
    "            algn_seq_arrs.append(seqs_np_array[:, i: i + nume])\n",
    "            algn_qual_arrs.append(quals_np_array[:, i: i + nume])            \n",
    "            p += nume\n",
    "            i += nume\n",
    "        elif ctype == 'D':\n",
    "            algn_seq_arrs.append(np.repeat('-'.encode(), nums * nume).reshape(nums, nume))\n",
    "            algn_qual_arrs.append(np.repeat('!'.encode(), nums * nume).reshape(nums, nume))\n",
    "            p += nume            \n",
    "        elif ctype == 'I':\n",
    "            if p < min_pos or p > max_pos:\n",
    "                # no need to store these insertions\n",
    "                i += nume\n",
    "                continue\n",
    "            ins_seq.append(\n",
    "                {\n",
    "                    p: [name, seqs_np_array[:, i: i + nume]]\n",
    "                }\n",
    "            )\n",
    "            ins_qual.append(\n",
    "                {\n",
    "                    p: [name, quals_np_array[:, i: i + nume]]\n",
    "                }\n",
    "            )\n",
    "            i += nume\n",
    "        else:\n",
    "            raise Exception('Unexpected cigar string: ' + cigar)\n",
    "    # p should be the last base position, not the next base position\n",
    "    p -= 1\n",
    "    algn_seq_arrs = np.hstack(algn_seq_arrs)\n",
    "    algn_qual_arrs = np.hstack(algn_qual_arrs)\n",
    "            \n",
    "    column_names = np.arange(pos, p + 1)\n",
    "    \n",
    "    slice_these_cols = [i for i, pind in enumerate(column_names) if pind >= min_pos and pind <= max_pos]\n",
    "    algn_seq_arrs = algn_seq_arrs[:, slice_these_cols]\n",
    "    algn_qual_arrs = algn_qual_arrs[:, slice_these_cols]\n",
    "    column_names = column_names[slice_these_cols]\n",
    "    \n",
    "    return algn_seq_arrs, algn_qual_arrs, ins_seq, ins_qual, column_names\n",
    "            \n",
    "            \n",
    "            \n",
    "    "
   ]
  },
  {
   "cell_type": "code",
   "execution_count": 307,
   "metadata": {
    "scrolled": true
   },
   "outputs": [],
   "source": [
    "import xarray as xr\n",
    "arrdf = pd.DataFrame(arr.view(np.uint8), index=dft.index)\n",
    "qualdf = pd.DataFrame(qt.view(np.uint8), index=dft.index)"
   ]
  },
  {
   "cell_type": "code",
   "execution_count": 309,
   "metadata": {},
   "outputs": [],
   "source": [
    "tmp = pd.concat([dft[['rname', 'cigar', 'pos']], arrdf, qualdf], axis=1, keys=['sam', 'seq', 'qual'])"
   ]
  },
  {
   "cell_type": "code",
   "execution_count": 373,
   "metadata": {
    "scrolled": true
   },
   "outputs": [
    {
     "data": {
      "text/plain": [
       "29.32545018196106"
      ]
     },
     "execution_count": 373,
     "metadata": {},
     "output_type": "execute_result"
    }
   ],
   "source": [
    "import time\n",
    "t1 = time.time()\n",
    "tmp.groupby(by=[('sam', 'rname'), ('sam', 'cigar'), ('sam', 'pos')]).apply(\n",
    "    lambda grp: sam_to_nparray(\n",
    "        grp.name[0], grp.name[1], grp.name[2], \n",
    "        grp.index, grp['seq'].values, grp['qual'].values\n",
    "    )\n",
    ")\n",
    "t2 = time.time()\n",
    "t2-t1"
   ]
  },
  {
   "cell_type": "code",
   "execution_count": 389,
   "metadata": {
    "scrolled": true
   },
   "outputs": [
    {
     "data": {
      "text/plain": [
       "0.032501220703125"
      ]
     },
     "execution_count": 389,
     "metadata": {},
     "output_type": "execute_result"
    }
   ],
   "source": [
    "t1 = time.time()\n",
    "sam_to_nparray(\n",
    "    'wtref',\n",
    "    '10S190M3D1DI395M',\n",
    "    1,\n",
    "    tmp.index,\n",
    "    tmp['seq'].values,\n",
    "    tmp['qual'].values\n",
    ") \n",
    "t2= time.time()\n",
    "t2-t1"
   ]
  },
  {
   "cell_type": "code",
   "execution_count": 396,
   "metadata": {
    "scrolled": true
   },
   "outputs": [
    {
     "ename": "TypeError",
     "evalue": "('Cannot change data-type for object array.', 'occurred at index 0')",
     "output_type": "error",
     "traceback": [
      "\u001b[1;31m---------------------------------------------------------------------------\u001b[0m",
      "\u001b[1;31mTypeError\u001b[0m                                 Traceback (most recent call last)",
      "\u001b[1;32m<ipython-input-396-906b95e2496e>\u001b[0m in \u001b[0;36m<module>\u001b[1;34m()\u001b[0m\n\u001b[0;32m      9\u001b[0m         \u001b[0mx\u001b[0m\u001b[1;33m[\u001b[0m\u001b[1;34m'qual'\u001b[0m\u001b[1;33m]\u001b[0m\u001b[1;33m.\u001b[0m\u001b[0mvalues\u001b[0m\u001b[1;33m\u001b[0m\u001b[0m\n\u001b[0;32m     10\u001b[0m     ),\n\u001b[1;32m---> 11\u001b[1;33m     \u001b[0maxis\u001b[0m\u001b[1;33m=\u001b[0m\u001b[1;36m1\u001b[0m\u001b[1;33m\u001b[0m\u001b[0m\n\u001b[0m\u001b[0;32m     12\u001b[0m )\n\u001b[0;32m     13\u001b[0m \u001b[0mt2\u001b[0m \u001b[1;33m=\u001b[0m \u001b[0mtime\u001b[0m\u001b[1;33m.\u001b[0m\u001b[0mtime\u001b[0m\u001b[1;33m(\u001b[0m\u001b[1;33m)\u001b[0m\u001b[1;33m\u001b[0m\u001b[0m\n",
      "\u001b[1;32mC:\\Anaconda3\\lib\\site-packages\\pandas\\core\\frame.py\u001b[0m in \u001b[0;36mapply\u001b[1;34m(self, func, axis, broadcast, raw, reduce, args, **kwds)\u001b[0m\n\u001b[0;32m   4358\u001b[0m                         \u001b[0mf\u001b[0m\u001b[1;33m,\u001b[0m \u001b[0maxis\u001b[0m\u001b[1;33m,\u001b[0m\u001b[1;33m\u001b[0m\u001b[0m\n\u001b[0;32m   4359\u001b[0m                         \u001b[0mreduce\u001b[0m\u001b[1;33m=\u001b[0m\u001b[0mreduce\u001b[0m\u001b[1;33m,\u001b[0m\u001b[1;33m\u001b[0m\u001b[0m\n\u001b[1;32m-> 4360\u001b[1;33m                         ignore_failures=ignore_failures)\n\u001b[0m\u001b[0;32m   4361\u001b[0m             \u001b[1;32melse\u001b[0m\u001b[1;33m:\u001b[0m\u001b[1;33m\u001b[0m\u001b[0m\n\u001b[0;32m   4362\u001b[0m                 \u001b[1;32mreturn\u001b[0m \u001b[0mself\u001b[0m\u001b[1;33m.\u001b[0m\u001b[0m_apply_broadcast\u001b[0m\u001b[1;33m(\u001b[0m\u001b[0mf\u001b[0m\u001b[1;33m,\u001b[0m \u001b[0maxis\u001b[0m\u001b[1;33m)\u001b[0m\u001b[1;33m\u001b[0m\u001b[0m\n",
      "\u001b[1;32mC:\\Anaconda3\\lib\\site-packages\\pandas\\core\\frame.py\u001b[0m in \u001b[0;36m_apply_standard\u001b[1;34m(self, func, axis, ignore_failures, reduce)\u001b[0m\n\u001b[0;32m   4454\u001b[0m             \u001b[1;32mtry\u001b[0m\u001b[1;33m:\u001b[0m\u001b[1;33m\u001b[0m\u001b[0m\n\u001b[0;32m   4455\u001b[0m                 \u001b[1;32mfor\u001b[0m \u001b[0mi\u001b[0m\u001b[1;33m,\u001b[0m \u001b[0mv\u001b[0m \u001b[1;32min\u001b[0m \u001b[0menumerate\u001b[0m\u001b[1;33m(\u001b[0m\u001b[0mseries_gen\u001b[0m\u001b[1;33m)\u001b[0m\u001b[1;33m:\u001b[0m\u001b[1;33m\u001b[0m\u001b[0m\n\u001b[1;32m-> 4456\u001b[1;33m                     \u001b[0mresults\u001b[0m\u001b[1;33m[\u001b[0m\u001b[0mi\u001b[0m\u001b[1;33m]\u001b[0m \u001b[1;33m=\u001b[0m \u001b[0mfunc\u001b[0m\u001b[1;33m(\u001b[0m\u001b[0mv\u001b[0m\u001b[1;33m)\u001b[0m\u001b[1;33m\u001b[0m\u001b[0m\n\u001b[0m\u001b[0;32m   4457\u001b[0m                     \u001b[0mkeys\u001b[0m\u001b[1;33m.\u001b[0m\u001b[0mappend\u001b[0m\u001b[1;33m(\u001b[0m\u001b[0mv\u001b[0m\u001b[1;33m.\u001b[0m\u001b[0mname\u001b[0m\u001b[1;33m)\u001b[0m\u001b[1;33m\u001b[0m\u001b[0m\n\u001b[0;32m   4458\u001b[0m             \u001b[1;32mexcept\u001b[0m \u001b[0mException\u001b[0m \u001b[1;32mas\u001b[0m \u001b[0me\u001b[0m\u001b[1;33m:\u001b[0m\u001b[1;33m\u001b[0m\u001b[0m\n",
      "\u001b[1;32m<ipython-input-396-906b95e2496e>\u001b[0m in \u001b[0;36m<lambda>\u001b[1;34m(x)\u001b[0m\n\u001b[0;32m      7\u001b[0m         \u001b[0mx\u001b[0m\u001b[1;33m.\u001b[0m\u001b[0mindex\u001b[0m\u001b[1;33m,\u001b[0m\u001b[1;33m\u001b[0m\u001b[0m\n\u001b[0;32m      8\u001b[0m         \u001b[0mx\u001b[0m\u001b[1;33m[\u001b[0m\u001b[1;34m'seq'\u001b[0m\u001b[1;33m]\u001b[0m\u001b[1;33m.\u001b[0m\u001b[0mvalues\u001b[0m\u001b[1;33m,\u001b[0m\u001b[1;33m\u001b[0m\u001b[0m\n\u001b[1;32m----> 9\u001b[1;33m         \u001b[0mx\u001b[0m\u001b[1;33m[\u001b[0m\u001b[1;34m'qual'\u001b[0m\u001b[1;33m]\u001b[0m\u001b[1;33m.\u001b[0m\u001b[0mvalues\u001b[0m\u001b[1;33m\u001b[0m\u001b[0m\n\u001b[0m\u001b[0;32m     10\u001b[0m     ),\n\u001b[0;32m     11\u001b[0m     \u001b[0maxis\u001b[0m\u001b[1;33m=\u001b[0m\u001b[1;36m1\u001b[0m\u001b[1;33m\u001b[0m\u001b[0m\n",
      "\u001b[1;32m<ipython-input-368-60d946b7938b>\u001b[0m in \u001b[0;36msam_to_nparray\u001b[1;34m(ref, cigar, pos, name, seqs_np_array, quals_np_array, min_pos, max_pos)\u001b[0m\n\u001b[0;32m      1\u001b[0m \u001b[1;32mdef\u001b[0m \u001b[0msam_to_nparray\u001b[0m\u001b[1;33m(\u001b[0m\u001b[0mref\u001b[0m\u001b[1;33m,\u001b[0m \u001b[0mcigar\u001b[0m\u001b[1;33m,\u001b[0m \u001b[0mpos\u001b[0m\u001b[1;33m,\u001b[0m \u001b[0mname\u001b[0m\u001b[1;33m,\u001b[0m \u001b[0mseqs_np_array\u001b[0m\u001b[1;33m,\u001b[0m \u001b[0mquals_np_array\u001b[0m\u001b[1;33m,\u001b[0m \u001b[0mmin_pos\u001b[0m \u001b[1;33m=\u001b[0m \u001b[1;36m1\u001b[0m\u001b[1;33m,\u001b[0m \u001b[0mmax_pos\u001b[0m \u001b[1;33m=\u001b[0m \u001b[1;32mNone\u001b[0m\u001b[1;33m)\u001b[0m\u001b[1;33m:\u001b[0m\u001b[1;33m\u001b[0m\u001b[0m\n\u001b[1;32m----> 2\u001b[1;33m     \u001b[0mseqs_np_array\u001b[0m \u001b[1;33m=\u001b[0m \u001b[0mseqs_np_array\u001b[0m\u001b[1;33m.\u001b[0m\u001b[0mview\u001b[0m\u001b[1;33m(\u001b[0m\u001b[1;34m'S1'\u001b[0m\u001b[1;33m)\u001b[0m\u001b[1;33m\u001b[0m\u001b[0m\n\u001b[0m\u001b[0;32m      3\u001b[0m     \u001b[0mquals_np_array\u001b[0m \u001b[1;33m=\u001b[0m \u001b[0mquals_np_array\u001b[0m\u001b[1;33m.\u001b[0m\u001b[0mview\u001b[0m\u001b[1;33m(\u001b[0m\u001b[1;34m'S1'\u001b[0m\u001b[1;33m)\u001b[0m\u001b[1;33m\u001b[0m\u001b[0m\n\u001b[0;32m      4\u001b[0m     \u001b[1;32massert\u001b[0m \u001b[0mmin_pos\u001b[0m \u001b[1;33m>=\u001b[0m \u001b[1;36m1\u001b[0m\u001b[1;33m,\u001b[0m \u001b[1;34m'Error: currently only allow base positions >= 1'\u001b[0m\u001b[1;33m\u001b[0m\u001b[0m\n\u001b[0;32m      5\u001b[0m     \u001b[0mc\u001b[0m \u001b[1;33m=\u001b[0m \u001b[0msam_tools\u001b[0m\u001b[1;33m.\u001b[0m\u001b[0mcigar_breakdown\u001b[0m\u001b[1;33m(\u001b[0m\u001b[0mcigar\u001b[0m\u001b[1;33m)\u001b[0m\u001b[1;33m[\u001b[0m\u001b[1;36m0\u001b[0m\u001b[1;33m]\u001b[0m\u001b[1;33m\u001b[0m\u001b[0m\n",
      "\u001b[1;32mC:\\Anaconda3\\lib\\site-packages\\numpy\\core\\_internal.py\u001b[0m in \u001b[0;36m_view_is_safe\u001b[1;34m(oldtype, newtype)\u001b[0m\n\u001b[0;32m    363\u001b[0m \u001b[1;33m\u001b[0m\u001b[0m\n\u001b[0;32m    364\u001b[0m     \u001b[1;32mif\u001b[0m \u001b[0mnewtype\u001b[0m\u001b[1;33m.\u001b[0m\u001b[0mhasobject\u001b[0m \u001b[1;32mor\u001b[0m \u001b[0moldtype\u001b[0m\u001b[1;33m.\u001b[0m\u001b[0mhasobject\u001b[0m\u001b[1;33m:\u001b[0m\u001b[1;33m\u001b[0m\u001b[0m\n\u001b[1;32m--> 365\u001b[1;33m         \u001b[1;32mraise\u001b[0m \u001b[0mTypeError\u001b[0m\u001b[1;33m(\u001b[0m\u001b[1;34m\"Cannot change data-type for object array.\"\u001b[0m\u001b[1;33m)\u001b[0m\u001b[1;33m\u001b[0m\u001b[0m\n\u001b[0m\u001b[0;32m    366\u001b[0m     \u001b[1;32mreturn\u001b[0m\u001b[1;33m\u001b[0m\u001b[0m\n\u001b[0;32m    367\u001b[0m \u001b[1;33m\u001b[0m\u001b[0m\n",
      "\u001b[1;31mTypeError\u001b[0m: ('Cannot change data-type for object array.', 'occurred at index 0')"
     ]
    }
   ],
   "source": [
    "t1 = time.time()\n",
    "tmp.apply(\n",
    "    lambda x: sam_to_nparray(\n",
    "        x[('sam', 'rname')],\n",
    "        x[('sam', 'cigar')],\n",
    "        x[('sam', 'pos')],\n",
    "        x.index,\n",
    "        x['seq'].values,\n",
    "        x['qual'].values\n",
    "    ),\n",
    "    axis=1\n",
    ")\n",
    "t2 = time.time()\n",
    "t2-t1"
   ]
  },
  {
   "cell_type": "code",
   "execution_count": 337,
   "metadata": {},
   "outputs": [
    {
     "data": {
      "text/plain": [
       "Int64Index([774, 1789, 2721, 4984, 6809, 8091, 8878, 9569], dtype='int64')"
      ]
     },
     "execution_count": 337,
     "metadata": {},
     "output_type": "execute_result"
    }
   ],
   "source": [
    "test.index"
   ]
  },
  {
   "cell_type": "code",
   "execution_count": 369,
   "metadata": {
    "scrolled": true
   },
   "outputs": [
    {
     "data": {
      "text/plain": [
       "(1, 298)"
      ]
     },
     "execution_count": 369,
     "metadata": {},
     "output_type": "execute_result"
    }
   ],
   "source": [
    "ttt = tmp.groupby(by=[('sam', 'rname'), ('sam', 'cigar'), ('sam', 'pos')])\n",
    "test = ttt.get_group(list(ttt.groups.keys())[5])\n",
    "sam_to_nparray(\n",
    "    'wtref',\n",
    "    '202M1D95M',\n",
    "    1,\n",
    "    test.index,\n",
    "    test['seq'].values,\n",
    "    test['qual'].values\n",
    ")[0].shape"
   ]
  },
  {
   "cell_type": "code",
   "execution_count": null,
   "metadata": {
    "collapsed": true
   },
   "outputs": [],
   "source": [
    "\n",
    "sam_to_nparray(\n",
    "    \n",
    ")"
   ]
  },
  {
   "cell_type": "code",
   "execution_count": 297,
   "metadata": {},
   "outputs": [
    {
     "data": {
      "text/plain": [
       "(10000, 297)"
      ]
     },
     "execution_count": 297,
     "metadata": {},
     "output_type": "execute_result"
    }
   ],
   "source": [
    "pd.Dqt"
   ]
  },
  {
   "cell_type": "code",
   "execution_count": 286,
   "metadata": {
    "scrolled": true
   },
   "outputs": [],
   "source": [
    "a1 = sam_to_nparray(\n",
    "    tmp['rname'], tmp['cigar'], tmp['pos'], \n",
    "    tmp.name, arr[0].reshape(1, -1), qt[0].reshape(1, -1),\n",
    "    max_pos=350, min_pos=290\n",
    ")"
   ]
  },
  {
   "cell_type": "code",
   "execution_count": 287,
   "metadata": {},
   "outputs": [
    {
     "data": {
      "text/plain": [
       "array([[b'A', b'T', b'A', b'C', b'G', b'G', b'T', b'C', b'T', b'G', b'T',\n",
       "        b'-', b'-', b'-', b'-', b'-', b'-', b'-', b'-', b'-', b'-', b'-',\n",
       "        b'-', b'-', b'-', b'-', b'-', b'-', b'-', b'-', b'-', b'-', b'-',\n",
       "        b'-', b'-', b'-', b'-', b'-', b'-', b'-', b'-', b'-', b'-', b'-',\n",
       "        b'-', b'-', b'-', b'-', b'-', b'-', b'-', b'-', b'-', b'-', b'-',\n",
       "        b'-', b'-', b'-', b'-', b'-', b'-']], \n",
       "      dtype='|S1')"
      ]
     },
     "execution_count": 287,
     "metadata": {},
     "output_type": "execute_result"
    }
   ],
   "source": [
    "a1[0]"
   ]
  },
  {
   "cell_type": "code",
   "execution_count": 221,
   "metadata": {},
   "outputs": [
    {
     "data": {
      "text/plain": [
       "array([[b'C', b'C', b'G', b'C', b'A', b'A', b'A', b'A', b'G', b'C', b'C',\n",
       "        b'C', b'A', b'A', b'A', b'A', b'A', b'A', b'G', b'C', b'T', b'C',\n",
       "        b'T', b'A', b'C', b'T', b'T', b'T', b'T', b'T', b'G', b'G', b'C',\n",
       "        b'A', b'A', b'C', b'G', b'T', b'G', b'C', b'T', b'T', b'G', b'C',\n",
       "        b'T', b'C', b'G', b'C', b'C', b'T', b'C', b'T', b'T', b'T', b'C',\n",
       "        b'G', b'G', b'T', b'C', b'T', b'A', b'C', b'C', b'T', b'C', b'G',\n",
       "        b'G', b'C', b'A', b'C', b'T', b'A', b'T', b'A', b'A', b'G', b'G',\n",
       "        b'T', b'C', b'T', b'C', b'G', b'A', b'G', b'C', b'C', b'G', b'G',\n",
       "        b'G', b'C', b'A', b'T', b'T', b'C', b'C', b'T', b'G', b'G', b'G',\n",
       "        b'G', b'A', b'T', b'C', b'G', b'A', b'G', b'T', b'T', b'C', b'A',\n",
       "        b'T', b'C', b'C', b'T', b'C', b'A', b'-']], \n",
       "      dtype='|S1')"
      ]
     },
     "execution_count": 221,
     "metadata": {},
     "output_type": "execute_result"
    }
   ],
   "source": [
    "a1[0]"
   ]
  },
  {
   "cell_type": "code",
   "execution_count": 151,
   "metadata": {},
   "outputs": [
    {
     "data": {
      "text/plain": [
       "(1, 67)"
      ]
     },
     "execution_count": 151,
     "metadata": {},
     "output_type": "execute_result"
    }
   ],
   "source": [
    "a1[0][2].shape"
   ]
  },
  {
   "cell_type": "code",
   "execution_count": 50,
   "metadata": {},
   "outputs": [
    {
     "name": "stdout",
     "output_type": "stream",
     "text": [
      "10 loops, best of 3: 20.7 ms per loop\n"
     ]
    }
   ],
   "source": [
    "%timeit seqtables.seq_tables.SeqTable(dft['seq'])"
   ]
  },
  {
   "cell_type": "code",
   "execution_count": 56,
   "metadata": {},
   "outputs": [
    {
     "data": {
      "text/plain": [
       "2.07"
      ]
     },
     "execution_count": 56,
     "metadata": {},
     "output_type": "execute_result"
    }
   ],
   "source": [
    "1e6/dft.shape[0]*20.7/1000"
   ]
  },
  {
   "cell_type": "code",
   "execution_count": 45,
   "metadata": {},
   "outputs": [
    {
     "data": {
      "text/plain": [
       "(5000, 10)"
      ]
     },
     "execution_count": 45,
     "metadata": {},
     "output_type": "execute_result"
    }
   ],
   "source": []
  }
 ],
 "metadata": {
  "kernelspec": {
   "display_name": "Python 2",
   "language": "python",
   "name": "python2"
  },
  "language_info": {
   "codemirror_mode": {
    "name": "ipython",
    "version": 2
   },
   "file_extension": ".py",
   "mimetype": "text/x-python",
   "name": "python",
   "nbconvert_exporter": "python",
   "pygments_lexer": "ipython2",
   "version": "2.7.9"
  }
 },
 "nbformat": 4,
 "nbformat_minor": 1
}
